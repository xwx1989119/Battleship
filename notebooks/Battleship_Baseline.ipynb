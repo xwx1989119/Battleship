{
 "cells": [
  {
   "cell_type": "code",
   "execution_count": 1,
   "metadata": {
    "ExecuteTime": {
     "end_time": "2020-11-06T20:08:25.673281Z",
     "start_time": "2020-11-06T20:08:25.556981Z"
    }
   },
   "outputs": [
    {
     "ename": "ModuleNotFoundError",
     "evalue": "No module named 'gym_battleship_basic'",
     "output_type": "error",
     "traceback": [
      "\u001b[1;31m---------------------------------------------------------------------------\u001b[0m",
      "\u001b[1;31mModuleNotFoundError\u001b[0m                       Traceback (most recent call last)",
      "\u001b[1;32m<ipython-input-1-11fe51b605bf>\u001b[0m in \u001b[0;36m<module>\u001b[1;34m()\u001b[0m\n\u001b[0;32m      1\u001b[0m \u001b[1;32mimport\u001b[0m \u001b[0mgym\u001b[0m\u001b[1;33m\u001b[0m\u001b[0m\n\u001b[1;32m----> 2\u001b[1;33m \u001b[1;32mimport\u001b[0m \u001b[0mgym_battleship_basic\u001b[0m\u001b[1;33m\u001b[0m\u001b[0m\n\u001b[0m\u001b[0;32m      3\u001b[0m \u001b[1;32mimport\u001b[0m \u001b[0mnumpy\u001b[0m \u001b[1;32mas\u001b[0m \u001b[0mnp\u001b[0m\u001b[1;33m\u001b[0m\u001b[0m\n\u001b[0;32m      4\u001b[0m \u001b[1;32mimport\u001b[0m \u001b[0mpandas\u001b[0m \u001b[1;32mas\u001b[0m \u001b[0mpd\u001b[0m\u001b[1;33m\u001b[0m\u001b[0m\n\u001b[0;32m      5\u001b[0m \u001b[1;32mfrom\u001b[0m \u001b[0mtqdm\u001b[0m \u001b[1;32mimport\u001b[0m \u001b[0mtqdm\u001b[0m\u001b[1;33m\u001b[0m\u001b[0m\n",
      "\u001b[1;31mModuleNotFoundError\u001b[0m: No module named 'gym_battleship_basic'"
     ]
    }
   ],
   "source": [
    "import gym\n",
    "import gym_battleship_basic\n",
    "import numpy as np\n",
    "import pandas as pd\n",
    "from tqdm import tqdm \n",
    "import matplotlib.pyplot as plt\n",
    "import os\n",
    "# os.getcwd()\n",
    "import pickle\n",
    "import numpy as np\n",
    "from keras import layers\n",
    "from keras.layers import Input, Dense, Activation, ZeroPadding2D, BatchNormalization, Flatten, Conv2D\n",
    "from keras.layers import AveragePooling2D, MaxPooling2D, Dropout, GlobalMaxPooling2D, GlobalAveragePooling2D\n",
    "from keras.models import Model\n",
    "from keras.preprocessing import image\n",
    "from keras.utils import layer_utils\n",
    "from keras.utils.data_utils import get_file\n",
    "from keras.applications.imagenet_utils import preprocess_input\n",
    "from IPython.display import SVG\n",
    "from keras.utils.vis_utils import model_to_dot\n",
    "from keras.utils import plot_model\n",
    "import gym\n",
    "import random\n",
    "import os\n",
    "import numpy as np\n",
    "from collections import deque\n",
    "from keras.models import Sequential\n",
    "from keras.layers import Dense\n",
    "from keras.optimizers import Adam\n",
    "import keras.backend as K\n",
    "K.set_image_data_format('channels_last')\n",
    "import matplotlib.pyplot as plt\n",
    "from matplotlib.pyplot import imshow\n",
    "from keras.models import load_model\n",
    "%matplotlib inline\n",
    "from IPython.display import HTML\n",
    "import numpy as np\n",
    "import gym\n",
    "from matplotlib import colors\n",
    "from keras.models import Sequential\n",
    "from keras.layers import Dense, Activation, Flatten\n",
    "from keras.optimizers import Adam\n",
    "\n",
    "from rl.agents.dqn import DQNAgent\n",
    "from rl.policy import EpsGreedyQPolicy\n",
    "from rl.memory import SequentialMemory\n",
    "from rl.policy import GreedyQPolicy\n",
    "from keras.layers import Flatten, Convolution2D, Input\n",
    "\n",
    "# 1.1 Import tensorflow and other libraries.\n",
    "import tensorflow as tf\n",
    "import numpy as np\n",
    "%matplotlib inline\n",
    "import pylab\n",
    "import matplotlib.pyplot as plt\n",
    "from matplotlib.animation import FuncAnimation\n",
    "import gc"
   ]
  },
  {
   "cell_type": "code",
   "execution_count": 74,
   "metadata": {},
   "outputs": [
    {
     "data": {
      "text/html": [
       "<script>\n",
       "code_show=true; \n",
       "function code_toggle() {\n",
       " if (code_show){\n",
       " $('div.input').hide();\n",
       " } else {\n",
       " $('div.input').show();\n",
       " }\n",
       " code_show = !code_show\n",
       "} \n",
       "$( document ).ready(code_toggle);\n",
       "</script>\n",
       "<form action=\"javascript:code_toggle()\"><input type=\"submit\" value=\"Click here to toggle on/off the raw code.\"></form>"
      ],
      "text/plain": [
       "<IPython.core.display.HTML object>"
      ]
     },
     "execution_count": 74,
     "metadata": {},
     "output_type": "execute_result"
    }
   ],
   "source": [
    "from IPython.display import HTML\n",
    "\n",
    "HTML('''<script>\n",
    "code_show=true; \n",
    "function code_toggle() {\n",
    " if (code_show){\n",
    " $('div.input').hide();\n",
    " } else {\n",
    " $('div.input').show();\n",
    " }\n",
    " code_show = !code_show\n",
    "} \n",
    "$( document ).ready(code_toggle);\n",
    "</script>\n",
    "<form action=\"javascript:code_toggle()\"><input type=\"submit\" value=\"Click here to toggle on/off the raw code.\"></form>''')"
   ]
  },
  {
   "cell_type": "code",
   "execution_count": 4,
   "metadata": {
    "ExecuteTime": {
     "end_time": "2020-11-03T04:08:50.902419Z",
     "start_time": "2020-11-03T04:08:50.872404Z"
    }
   },
   "outputs": [],
   "source": [
    "def single_frame_viz( frame_num,game_hist=None,  model_obj=None, obs_3d=False, model_agent=False,\n",
    "                      board_shape=(10,10), value_range=(-2,2)):\n",
    "    x_len = range(board_shape[0])\n",
    "    y_len = range(board_shape[1])\n",
    "    if model_obj is not None:\n",
    "        shot = model_obj.shot_log[frame_num]\n",
    "        obs = model_obj.obs_hist[frame_num]\n",
    "        if model_agent:\n",
    "            model_estimates = model_obj.model_estimates[frame_num].reshape(board_shape)\n",
    "    elif game_hist is not None :\n",
    "        shot =game_hist['shot'][frame_num]\n",
    "        obs = game_hist['observations'][frame_num]\n",
    "        if model_agent:\n",
    "            model_estimates = game_hist['model_estimates'][frame_num].reshape(board_shape)\n",
    "    else:\n",
    "        raise ValueError\n",
    "\n",
    "    i1,j1 = divmod(shot, board_shape[0])\n",
    "    fig, ax = plt.subplots(figsize=(8,8))\n",
    "    if obs_3d:\n",
    "        curr_game = obs[...,1]*-2 +obs[...,2]*2\n",
    "    else:\n",
    "        curr_game = obs.reshape(board_shape)\n",
    "        curr_game = np.where(curr_game ==1, -2, curr_game)\n",
    "    if model_agent:\n",
    "            # model_values = game_hist['model_estimates'][frame_num].reshape(board_shape)\n",
    "        im = ax.imshow(model_estimates, cmap=plt.cm.seismic,vmin=value_range[0], vmax=value_range[1])\n",
    "    else:\n",
    "        im = ax.imshow(curr_game, cmap=plt.cm.seismic, vmin=value_range[0], vmax=value_range[1])\n",
    "    for txt in ax.texts:\n",
    "        txt.set_visible(False)\n",
    "    for i in range(board_shape[1]):\n",
    "        for j in range(board_shape[0]):\n",
    "            if (i != i1) | (j != j1):\n",
    "                if curr_game[i, j] == 2:\n",
    "                    text = ax.text(j, i, 'Hit', ha=\"center\", va=\"center\", color=\"black\")\n",
    "                elif curr_game[i, j] == -2:\n",
    "                    text = ax.text(j, i, 'Miss', ha=\"center\", va=\"center\", color=\"black\")\n",
    "    if curr_game[i1, j1] == -2:\n",
    "        ax.text(j1,i1,  'Shot & Miss',ha=\"center\", va=\"center\", color=\"black\")\n",
    "    else:\n",
    "        ax.text(j1,i1,  'Shot & Hit', ha=\"center\", va=\"center\", color=\"black\")\n",
    "    ax.set_xticks(np.arange(len(x_len)))\n",
    "    ax.set_yticks(np.arange(len(y_len)))\n",
    "    ax.set_xticklabels(x_len)\n",
    "    ax.set_yticklabels(y_len)\n",
    "    return fig\n",
    "\n",
    "def game_viz(board_shape,agent_name, game_hist, label_c='blue',anim_flag=False, obs_3d=False, model_agent=False,\n",
    "             value_range=(-2,2)):\n",
    "    x_len = range(board_shape[0])\n",
    "    y_len = range(board_shape[1])\n",
    "    \n",
    "    map_record = np.zeros(board_shape)\n",
    "    map_record[...] = np.mean(value_range) # assign to the middle value.\n",
    "    fig, ax = plt.subplots(figsize=(8,8))\n",
    "    im = ax.imshow(map_record, cmap=plt.cm.seismic,vmin=value_range[0], vmax=value_range[1])\n",
    "    ax.set_xticks(np.arange(len(x_len)))\n",
    "    ax.set_yticks(np.arange(len(y_len)))\n",
    "    ax.set_xticklabels(x_len)\n",
    "    ax.set_yticklabels(y_len)\n",
    "    plt.setp(ax.get_xticklabels(), rotation=45, ha=\"right\",\n",
    "             rotation_mode=\"anchor\")\n",
    "    for i in range(len(x_len)):\n",
    "        for j in range(len(y_len)):\n",
    "            text = ax.text(j, i, map_record[i, j],\n",
    "                           ha=\"center\", va=\"center\", color=\"w\")\n",
    "\n",
    "    ax.set_title(\"Gameplay for {}\".format(agent_name))\n",
    "    fig.tight_layout()\n",
    "    if anim_flag:\n",
    "        def update(i):\n",
    "            label = 'timestep {0}'.format(i)\n",
    "            shot =game_hist['shot'][i]  \n",
    "            i1,j1 = divmod(shot, board_shape[0])\n",
    "            if obs_3d:\n",
    "                curr_game =game_hist['observations'][i][...,1]*-2 + game_hist['observations'][i][...,2]*2 \n",
    "            else:\n",
    "                curr_game = game_hist['observations'][i].reshape(board_shape)\n",
    "                curr_game = np.where(curr_game ==1, -2, curr_game)\n",
    "                \n",
    "            if model_agent:\n",
    "                model_values = game_hist['model_estimates'][i].reshape(board_shape)\n",
    "                im = ax.imshow(model_values, cmap=plt.cm.seismic,vmin=value_range[0], vmax=value_range[1])\n",
    "            else:\n",
    "                im = ax.imshow(curr_game, cmap=plt.cm.seismic,vmin=value_range[0], vmax=value_range[1])\n",
    "            for txt in ax.texts:\n",
    "                txt.set_visible(False)\n",
    "            for i in range(board_shape[1]):\n",
    "                for j in range(board_shape[0]):\n",
    "                    if (i != i1) | (j != j1):\n",
    "                        if curr_game[i, j] == 2:                           \n",
    "                            text = ax.text(j, i, 'Hit',\n",
    "                                   ha=\"center\", va=\"center\", color=label_c)\n",
    "                        elif curr_game[i, j] == -2:\n",
    "                            text = ax.text(j, i, 'Miss',\n",
    "                                   ha=\"center\", va=\"center\", color=label_c)\n",
    "            if curr_game[i1, j1] == -2:            \n",
    "                ax.text(j1,i1,  'Shot & Miss',\n",
    "                                   ha=\"center\", va=\"center\", color=\"r\")\n",
    "            else:            \n",
    "                ax.text(j1,i1,  'Shot & Hit',\n",
    "                                   ha=\"center\", va=\"center\", color=\"r\")\n",
    "                \n",
    "            return im, ax\n",
    "        anim = FuncAnimation(fig, update, frames=np.arange(0, game_hist['observations'].shape[0]), \n",
    "                             interval=400, repeat=True)\n",
    "        anim.save(agent_name +'_Game.gif', dpi=80,writer='imagemagick')            \n",
    "        return anim\n",
    "    else:\n",
    "        return fig\n",
    "\n",
    "# random_agent_game = game_viz(board_shape=(10,10),agent_name='random_agent', game_hist=data_dict[0],anim_flag=True ) , writer='imagemagick'\n"
   ]
  },
  {
   "cell_type": "markdown",
   "metadata": {},
   "source": [
    "## Game Intro & Environment Setup\n",
    "\n",
    "The battleship is a very classic board game with very intuitive rules. This is a 2 players game. For each player, s/he have a 10*10 board to place the fleet and then claim shots on the other players boards. The goal is simply to sink all your opponent's ship.\n",
    "\n",
    "\n",
    "For example, with the classic rules, there are five ships on board as follows:\n",
    "\n",
    "![Battleship Board](images\\board.png)\n",
    "\n",
    "Typically, these five ships above are:\n",
    "* Aircraft Carrier (Size 5)\n",
    "* Battleship (Size 4)\n",
    "* Submarine (Size 3)\n",
    "* Cruiser (Size 3)\n",
    "* Destroyer\t (Size 2)\n",
    "\n",
    "\n",
    "Thoughthis is a two players game, Clearly, we could convert this problem to finish the game with smallest number of shot. As long as you could finish the game fast, you will have higher chance to win the game. "
   ]
  },
  {
   "cell_type": "code",
   "execution_count": 5,
   "metadata": {
    "ExecuteTime": {
     "end_time": "2020-11-03T04:08:52.318627Z",
     "start_time": "2020-11-03T04:08:52.301633Z"
    }
   },
   "outputs": [],
   "source": [
    "env = gym.make('battleshipBasic-v0',board_shape=(10,10), verbose=False)\n",
    "obs = env.step(20)\n",
    "obs = env.step(45)\n",
    "obs = env.step(47)"
   ]
  },
  {
   "cell_type": "markdown",
   "metadata": {},
   "source": [
    "Regarding my program, I set up my game with Open AI API. My environment will take shot as the input of each step and return observations in 2D or 3D.\n",
    "\n",
    "__Sample Observation 2D__\n",
    "\n",
    "In this type of observation return, 0 means unexplored cells, 1 means miss and 2 means hit. In the sample result below, we have placed 3 shots and 1 of 3 hit the target.\n"
   ]
  },
  {
   "cell_type": "code",
   "execution_count": 6,
   "metadata": {
    "ExecuteTime": {
     "end_time": "2020-11-03T04:08:54.853214Z",
     "start_time": "2020-11-03T04:08:54.845212Z"
    }
   },
   "outputs": [
    {
     "name": "stdout",
     "output_type": "stream",
     "text": [
      "[[0. 0. 0. 0. 0. 0. 0. 0. 0. 0.]\n",
      " [0. 0. 0. 0. 0. 0. 0. 0. 0. 0.]\n",
      " [2. 0. 0. 0. 0. 0. 0. 0. 0. 0.]\n",
      " [0. 0. 0. 0. 0. 0. 0. 0. 0. 0.]\n",
      " [0. 0. 0. 0. 0. 1. 0. 1. 0. 0.]\n",
      " [0. 0. 0. 0. 0. 0. 0. 0. 0. 0.]\n",
      " [0. 0. 0. 0. 0. 0. 0. 0. 0. 0.]\n",
      " [0. 0. 0. 0. 0. 0. 0. 0. 0. 0.]\n",
      " [0. 0. 0. 0. 0. 0. 0. 0. 0. 0.]\n",
      " [0. 0. 0. 0. 0. 0. 0. 0. 0. 0.]]\n"
     ]
    }
   ],
   "source": [
    "print(obs[0])"
   ]
  },
  {
   "cell_type": "markdown",
   "metadata": {},
   "source": [
    "__Sample Observation 3D__\n",
    "\n",
    "In this type of observation return, there are 3 matrcies that represents explored, misses and hits. "
   ]
  },
  {
   "cell_type": "code",
   "execution_count": 7,
   "metadata": {
    "ExecuteTime": {
     "end_time": "2020-11-03T04:08:59.826059Z",
     "start_time": "2020-11-03T04:08:59.813056Z"
    }
   },
   "outputs": [],
   "source": [
    "env = gym.make('battleshipBasic-v0',board_shape=(10,10), verbose=False, obs_3d=True)\n",
    "obs = env.step(20)\n",
    "obs = env.step(45)\n",
    "obs = env.step(47)"
   ]
  },
  {
   "cell_type": "code",
   "execution_count": 20,
   "metadata": {
    "ExecuteTime": {
     "end_time": "2020-11-03T04:13:51.826188Z",
     "start_time": "2020-11-03T04:13:51.818196Z"
    }
   },
   "outputs": [
    {
     "data": {
      "text/plain": [
       "[]"
      ]
     },
     "execution_count": 20,
     "metadata": {},
     "output_type": "execute_result"
    }
   ],
   "source": [
    "env.board.sunk\n",
    "# env.board.ships"
   ]
  },
  {
   "cell_type": "markdown",
   "metadata": {},
   "source": [
    "__Explored or Not Matrix__: In this observation, we have placed 3 shots already."
   ]
  },
  {
   "cell_type": "code",
   "execution_count": 8,
   "metadata": {
    "ExecuteTime": {
     "end_time": "2020-11-03T04:09:01.598170Z",
     "start_time": "2020-11-03T04:09:01.592169Z"
    }
   },
   "outputs": [
    {
     "name": "stdout",
     "output_type": "stream",
     "text": [
      "[[0. 0. 0. 0. 0. 0. 0. 0. 0. 0.]\n",
      " [0. 0. 0. 0. 0. 0. 0. 0. 0. 0.]\n",
      " [1. 0. 0. 0. 0. 0. 0. 0. 0. 0.]\n",
      " [0. 0. 0. 0. 0. 0. 0. 0. 0. 0.]\n",
      " [0. 0. 0. 0. 0. 1. 0. 1. 0. 0.]\n",
      " [0. 0. 0. 0. 0. 0. 0. 0. 0. 0.]\n",
      " [0. 0. 0. 0. 0. 0. 0. 0. 0. 0.]\n",
      " [0. 0. 0. 0. 0. 0. 0. 0. 0. 0.]\n",
      " [0. 0. 0. 0. 0. 0. 0. 0. 0. 0.]\n",
      " [0. 0. 0. 0. 0. 0. 0. 0. 0. 0.]]\n"
     ]
    }
   ],
   "source": [
    "print(obs[0][...,0])"
   ]
  },
  {
   "cell_type": "markdown",
   "metadata": {},
   "source": [
    "__Miss or Not Matrix__: In this observation, 2 of our shots misses the target"
   ]
  },
  {
   "cell_type": "code",
   "execution_count": 9,
   "metadata": {
    "ExecuteTime": {
     "end_time": "2020-11-03T04:09:03.404214Z",
     "start_time": "2020-11-03T04:09:03.398222Z"
    }
   },
   "outputs": [
    {
     "name": "stdout",
     "output_type": "stream",
     "text": [
      "[[0. 0. 0. 0. 0. 0. 0. 0. 0. 0.]\n",
      " [0. 0. 0. 0. 0. 0. 0. 0. 0. 0.]\n",
      " [0. 0. 0. 0. 0. 0. 0. 0. 0. 0.]\n",
      " [0. 0. 0. 0. 0. 0. 0. 0. 0. 0.]\n",
      " [0. 0. 0. 0. 0. 1. 0. 1. 0. 0.]\n",
      " [0. 0. 0. 0. 0. 0. 0. 0. 0. 0.]\n",
      " [0. 0. 0. 0. 0. 0. 0. 0. 0. 0.]\n",
      " [0. 0. 0. 0. 0. 0. 0. 0. 0. 0.]\n",
      " [0. 0. 0. 0. 0. 0. 0. 0. 0. 0.]\n",
      " [0. 0. 0. 0. 0. 0. 0. 0. 0. 0.]]\n"
     ]
    }
   ],
   "source": [
    "print(obs[0][...,1])"
   ]
  },
  {
   "cell_type": "markdown",
   "metadata": {},
   "source": [
    "__Hit or Not Matrix__: In this observation, 1 of our shots hits the target"
   ]
  },
  {
   "cell_type": "code",
   "execution_count": 10,
   "metadata": {
    "ExecuteTime": {
     "end_time": "2020-11-03T04:09:04.801119Z",
     "start_time": "2020-11-03T04:09:04.781106Z"
    }
   },
   "outputs": [
    {
     "name": "stdout",
     "output_type": "stream",
     "text": [
      "[[0. 0. 0. 0. 0. 0. 0. 0. 0. 0.]\n",
      " [0. 0. 0. 0. 0. 0. 0. 0. 0. 0.]\n",
      " [1. 0. 0. 0. 0. 0. 0. 0. 0. 0.]\n",
      " [0. 0. 0. 0. 0. 0. 0. 0. 0. 0.]\n",
      " [0. 0. 0. 0. 0. 0. 0. 0. 0. 0.]\n",
      " [0. 0. 0. 0. 0. 0. 0. 0. 0. 0.]\n",
      " [0. 0. 0. 0. 0. 0. 0. 0. 0. 0.]\n",
      " [0. 0. 0. 0. 0. 0. 0. 0. 0. 0.]\n",
      " [0. 0. 0. 0. 0. 0. 0. 0. 0. 0.]\n",
      " [0. 0. 0. 0. 0. 0. 0. 0. 0. 0.]]\n"
     ]
    }
   ],
   "source": [
    "print(obs[0][...,2])"
   ]
  },
  {
   "cell_type": "markdown",
   "metadata": {},
   "source": [
    "## Random Agent\n",
    "\n",
    "This type of agent will keep placing random shots till game ends. This agent takes ~96 steps to finish a game on average"
   ]
  },
  {
   "cell_type": "code",
   "execution_count": 5,
   "metadata": {},
   "outputs": [],
   "source": [
    "class RandomAgent(object):\n",
    "    def __init__(self, verbose=False, log_saving= False):\n",
    "        self.verbose = verbose\n",
    "        self.log_saving= log_saving\n",
    "        self.obs_hist= None\n",
    "        self.shot_log = []\n",
    "        \n",
    "    def action(self, obs):\n",
    "        i,j = np.nonzero(np.nan_to_num(obs / obs)-1)\n",
    "        idx = np.random.choice(len(i), 1, replace=False)     \n",
    "        if self.verbose:\n",
    "            print('remaining space', len(i))\n",
    "        return i[idx[0]], j[idx[0]]\n",
    "    \n",
    "    def test(self, env):\n",
    "        obs, done, ep_reward = env.reset(), False, 0\n",
    "        i = 0 \n",
    "        while not done:\n",
    "            i +=1\n",
    "            y, x = self.action(obs)\n",
    "            action = y*env.shape[0]+x\n",
    "#             print('current shot {} with original y {} x {}'.format(action, y, x))\n",
    "            obs, reward, done,_ = env.step(action)\n",
    "            if self.log_saving:\n",
    "                if i == 1:\n",
    "                    self.obs_hist = obs.flatten()\n",
    "                    self.shot_log  = [action]\n",
    "                else:\n",
    "                    self.obs_hist = np.vstack([self.obs_hist, obs.flatten()])\n",
    "                    self.shot_log  += [action]\n",
    "            ep_reward += reward\n",
    "        return i, ep_reward           \n",
    "            "
   ]
  },
  {
   "cell_type": "code",
   "execution_count": 19,
   "metadata": {},
   "outputs": [],
   "source": [
    "def agent_test(agent, env, game_rounds, agent_name='battleship', model_agent=False, log_save=False):\n",
    "    step_record = []\n",
    "    reward_record = []\n",
    "    data_dict ={}\n",
    "    for i in tqdm(range(game_rounds)):\n",
    "        if agent.log_saving:\n",
    "            agent.reset_log()\n",
    "        total_step, reward = agent.test(env)\n",
    "        step_record += [total_step]\n",
    "        reward_record += [reward]\n",
    "        if log_save:\n",
    "            data_dict[i] ={'observations': agent.obs_hist, \n",
    "                           'target': env.board.map.flatten(), \n",
    "                           'shot':agent.shot_log}\n",
    "            if model_agent:\n",
    "                data_dict[i]['shot']=agent.shot_log\n",
    "                data_dict[i]['model_estimates']=agent.model_estimates\n",
    "                \n",
    "            \n",
    "    result_df = pd.DataFrame({'AgentName':[agent_name]*len(step_record),\n",
    "                                       'steps':step_record,\n",
    "                                       'reward':reward_record})\n",
    "    return result_df, data_dict"
   ]
  },
  {
   "cell_type": "code",
   "execution_count": 86,
   "metadata": {},
   "outputs": [],
   "source": [
    "env = gym.make('battleshipBasic-v0',board_shape=(10,10), verbose=False)\n",
    "RanddomAgent1 = RandomAgent(verbose=False, log_saving=True)\n",
    "RandomAgent_GameRecord,_ =\\\n",
    "    agent_test(agent=RanddomAgent1, \n",
    "               env=env, \n",
    "               game_rounds=1000, \n",
    "               agent_name='RandomAgent', \n",
    "               model_agent=False, \n",
    "               log_save=False)"
   ]
  },
  {
   "cell_type": "code",
   "execution_count": 11,
   "metadata": {},
   "outputs": [
    {
     "name": "stdout",
     "output_type": "stream",
     "text": [
      "average steps uses is 95.768\n"
     ]
    }
   ],
   "source": [
    "print('average steps uses is {}'.format(RandomAgent_GameRecord['steps'].mean()))"
   ]
  },
  {
   "cell_type": "code",
   "execution_count": 87,
   "metadata": {},
   "outputs": [],
   "source": [
    "env = gym.make('battleshipBasic-v0',board_shape=(10,10), verbose=False)\n",
    "RanddomAgent1 = RandomAgent(verbose=False, log_saving=True)\n",
    "_, RandomAgent_game_log =\\\n",
    "    agent_test(agent=RanddomAgent1, \n",
    "               env=env, \n",
    "               game_rounds=10, \n",
    "               agent_name='RandomAgent', \n",
    "               model_agent=False, \n",
    "               log_save=True)"
   ]
  },
  {
   "cell_type": "code",
   "execution_count": 63,
   "metadata": {},
   "outputs": [],
   "source": [
    "random_agent_game = game_viz(board_shape=(10,10),agent_name='RandomAgent', \n",
    "                           game_hist=RandomAgent_game_log[1],\n",
    "                           anim_flag=True,\n",
    "                           obs_3d=False,\n",
    "                            label_c='white')"
   ]
  },
  {
   "cell_type": "markdown",
   "metadata": {},
   "source": [
    "![SegmentLocal](images\\RandomAgent_Game.gif \"segment\")"
   ]
  },
  {
   "cell_type": "markdown",
   "metadata": {},
   "source": [
    "## Hunt & Target Agent\n",
    "\n",
    "This type of agent will do following:\n",
    "\n",
    "* Place random shot as search\n",
    "* Once hit, the explore all nearby cells. If exhuast all nearby cells, back to step 1.\n",
    "\n",
    "This type of agent takes aroudn 66 steps on average to finish a game.\n"
   ]
  },
  {
   "cell_type": "code",
   "execution_count": 21,
   "metadata": {},
   "outputs": [],
   "source": [
    "class HuntTargetAgent(object):\n",
    "    def __init__(self, board_shape, verbose=False, log_saving= False):\n",
    "        self.verbose = verbose\n",
    "        self.shape = board_shape\n",
    "        self.log_saving= log_saving\n",
    "        self.obs_hist= None\n",
    "        self.strategy_mode = 'S' # initialize to S as \n",
    "        self.hunt_queue = []\n",
    "        self.shot_log = []\n",
    "        self.prev_obs = np.zeros([self.shape[0], self.shape[1]], dtype=np.int16)\n",
    "        self.neighbour_moves = [(-1,0),(1,0),(0,1),(0,-1)]\n",
    "        \n",
    "    def reset_log(self):\n",
    "        self.shot_log = []\n",
    "        self.obs_hist= None        \n",
    "        \n",
    "        \n",
    "    def add_hunt_queue(self, obs):\n",
    "#         print(obs.shape, self.prev_obs.shape)\n",
    "        hit_info = obs - self.prev_obs\n",
    "        # if the new hit cell has value >1, we've got a hit\n",
    "        \n",
    "        hit_cell = np.where(hit_info>1)\n",
    "        hit_cell = list(zip(hit_cell[0],hit_cell[1]))\n",
    "        if len(hit_cell) ==1:\n",
    "            if self.verbose:\n",
    "                print('there is hit start add hunt list')\n",
    "            hit_cell = hit_cell[0]\n",
    "            for move in self.neighbour_moves:\n",
    "                new_cell = (hit_cell[0] + move[0], hit_cell[1] + move[1])\n",
    "                if (new_cell[0] <self.shape[0]) and (new_cell[1] <self.shape[0]) and  (new_cell[0] >=0)\\\n",
    "                and (new_cell[1] >=0) and (obs[new_cell[0]][new_cell[1]] == 0) and  (new_cell not in self.hunt_queue):\n",
    "                    self.hunt_queue.append(new_cell)\n",
    "            if self.verbose:\n",
    "                print('current queue is {}'.format(self.hunt_queue))\n",
    "                \n",
    "    def action(self, obs):\n",
    "        if len(obs.shape) == 3:\n",
    "            obs = obs[...,0] + obs[...,2] # flatten the inputs            \n",
    "        self.add_hunt_queue(obs)\n",
    "        if len(self.hunt_queue) > 0:\n",
    "            self.strategy_mode = 'H'\n",
    "            next_move = self.hunt_queue[0]\n",
    "            self.hunt_queue = self.hunt_queue[1:] \n",
    "            return  next_move[0], next_move[1]\n",
    "        else:\n",
    "            self.startegy_mode = 'S'\n",
    "            i,j = np.nonzero(np.nan_to_num(obs / obs)-1)\n",
    "            idx = np.random.choice(len(i), 1, replace=False)     \n",
    "            if self.verbose:\n",
    "                print('remaining space', len(i))\n",
    "#             self.pre_obs = obs # update hist            \n",
    "            return i[idx[0]], j[idx[0]]\n",
    "    \n",
    "    def test(self, env):\n",
    "        obs, done, ep_reward = env.reset(), False, 0\n",
    "        i = 0 \n",
    "        while not done:\n",
    "            i +=1\n",
    "            y, x = self.action(obs)\n",
    "            if len(obs.shape) == 3:\n",
    "                obs = obs[...,0] + obs[...,2] # flatten the inputs \n",
    "            self.prev_obs = obs\n",
    "            action = y*env.shape[0]+x            \n",
    "            obs, reward, done,_ = env.step(action)            \n",
    "            if self.log_saving:\n",
    "                if i == 1:\n",
    "                    self.obs_hist = obs.reshape((1,)+obs.shape)\n",
    "                    self.shot_log = [action]\n",
    "                else:\n",
    "#                     print(self.obs_hist.shape,obs.reshape((1,)+obs.shape).shape )\n",
    "                    self.obs_hist = np.concatenate([self.obs_hist, obs.reshape((1,)+obs.shape)])\n",
    "                    self.shot_log += [action]\n",
    "            ep_reward += reward\n",
    "        return i, ep_reward\n",
    "            \n",
    "            \n",
    "            "
   ]
  },
  {
   "cell_type": "code",
   "execution_count": 108,
   "metadata": {},
   "outputs": [],
   "source": [
    "# env = gym.make('battleshipBasic-v0',board_shape=(10,10), verbose=False, obs_3d=True)\n",
    "# HuntTargetAgent1 = HuntTargetAgent(board_shape=(10,10), verbose=False, log_saving=True)\n",
    "# HuntTargetAgent_GameRecord,SearchHunt_GameDict =\\\n",
    "#     agent_test(agent=HuntTargetAgent1, \n",
    "#                env=env, \n",
    "#                game_rounds=1000, \n",
    "#                agent_name='SearchHuntAgent', \n",
    "#                model_agent=False, \n",
    "#                log_save=True)\n",
    "# print(SearchHunt_GameDict[0]['observations'].shape)\n",
    "# with open(r'.\\..\\data\\huntSearch_agentGames.pickle', 'wb') as handle:\n",
    "#     pickle.dump(SearchHunt_GameDict, handle, protocol=pickle.HIGHEST_PROTOCOL)"
   ]
  },
  {
   "cell_type": "code",
   "execution_count": 26,
   "metadata": {},
   "outputs": [
    {
     "name": "stdout",
     "output_type": "stream",
     "text": [
      "average steps uses is 66.022\n"
     ]
    }
   ],
   "source": [
    "# # SearchHunt_GameRecord.to_csv(r'c:\\temp\\searchtarget_result.csv')\n",
    "# print('average steps uses is {}'.format(HuntTargetAgent_GameRecord['steps'].mean()))"
   ]
  },
  {
   "cell_type": "code",
   "execution_count": 88,
   "metadata": {},
   "outputs": [],
   "source": [
    "# SearchHunt_game = game_viz(board_shape=(10,10),agent_name='hunt_target_agent', \n",
    "#                            game_hist=SearchHunt_GameDict[1],\n",
    "#                            anim_flag=True,                           \n",
    "#                            obs_3d=True,\n",
    "#                             label_c='white' )"
   ]
  },
  {
   "cell_type": "markdown",
   "metadata": {},
   "source": [
    "![SegmentLocal](images\\hunt_target_agent_Game2.gif \"segment\")"
   ]
  },
  {
   "cell_type": "markdown",
   "metadata": {},
   "source": [
    "## CNN Agent\n",
    "\n",
    "Another methodology to estimate the probability that there is a ship in a specific cell. Following picture shows the main ideas of this methodology.\n",
    "\n",
    "![Probability Density Function](images\\probDensityFunc.png)\n",
    "\n",
    "There are many ways to calculate the probability. What I implented is to use a CNN model to predict this.\n",
    "\n",
    "\n",
    "__Input__: the 3D observation from the environment\n",
    "\n",
    "__target__:\n",
    "\n",
    "\n",
    "| 0|1 |2|3|4|5|6|\n",
    "| --- | --- | --- | --- | --- | --- | --- |\n",
    "| 1 | 0 | 0 | 0 | 0 |0 | 0 |\n",
    "| 1 | 0 | 2 | 0 | 0 |3 | 0 |\n",
    "| 1 | 0 | 2 | 0 | 0 |3 | 0 |\n",
    "| 1 | 0 | 2 | 0 | 0 |3 | 0 |\n",
    "| 1 | 0 | 2 | 0 | 0 |0 | 0 |\n",
    "\n",
    "In addition, we don't need to know whether the ship is a n aircraft carrier or a battle ship. So I further convert this table to 0-1.  Then we have a typical classification problem."
   ]
  },
  {
   "cell_type": "code",
   "execution_count": 45,
   "metadata": {},
   "outputs": [],
   "source": [
    "class CNN_Agent(object):\n",
    "    def __init__(self, env=None, trained_model=None, log_saving=False):\n",
    "        self.log_saving = log_saving\n",
    "        self.obs_hist = None\n",
    "        self.model_estimates = None\n",
    "        self.shot_log = []\n",
    "        if env is None:\n",
    "            self.env = gym.make('battleshipBasic-v0', board_shape=(10, 10), verbose=False)\n",
    "        else:\n",
    "            self.env = env\n",
    "        if trained_model is not None:\n",
    "            self.model = trained_model\n",
    "        else:\n",
    "            if self.env.obs_3d:\n",
    "                self.model = self.define_model(self.env.observation_space.shape)\n",
    "            else:\n",
    "                self.model = self.define_model(self.env.observation_space.shape +(1,))\n",
    "                \n",
    "    def reset_log(self):\n",
    "        self.obs_hist = None\n",
    "        self.model_estimates = None\n",
    "        self.shot_log = []\n",
    "        \n",
    "\n",
    "    def define_model(self, input_shape):\n",
    "        X_input = Input(input_shape)\n",
    "        X = ZeroPadding2D((3, 3))(X_input)\n",
    "        X = Conv2D(32, (7, 7), strides=(1, 1), name='conv0')(X)\n",
    "        X = BatchNormalization(axis=3, name='bn0')(X)\n",
    "        X = Activation('relu')(X)\n",
    "        X = MaxPooling2D((2, 2), name='max_pool')(X)\n",
    "        # FLATTEN X (means convert it to a vector) + FULLYCONNECTED\n",
    "        X = Flatten()(X)\n",
    "        X = Dense(100, activation='sigmoid', name='fc')(X)\n",
    "        # Create model. This creates your Keras model instance, you'll use this instance to train/test the model.\n",
    "        model = Model(inputs=X_input, outputs=X, name='HappyModel')\n",
    "        model.compile(loss='binary_cross_entropy', optimizer=Adam(lr=1e-3))\n",
    "        return model\n",
    "\n",
    "    def train(self, train_x, train_y,batch_size, epochs):\n",
    "        self.model.fit(train_x, train_y,\n",
    "                       batch_size=batch_size,\n",
    "                       epochs=epochs, verbose=2)\n",
    "\n",
    "    def act(self, obs):\n",
    "        act_values = self.model.predict(obs.reshape((1,) + self.env.observation_space.shape))[0]\n",
    "        if self.log_saving:\n",
    "            if self.model_estimates is None:\n",
    "                self.model_estimates = act_values.reshape((1,) + act_values.shape)\n",
    "            else:\n",
    "                self.model_estimates = np.concatenate([self.model_estimates, act_values.reshape((1,) + act_values.shape)])\n",
    "        if len(obs.shape) == 3:\n",
    "            obs = obs[..., 0] + obs[..., 2]\n",
    "        flatten_obs = obs.flatten()\n",
    "        act_values[flatten_obs > 0] = -1  # assign shoot position as -1\n",
    "        return np.argmax(act_values)\n",
    "\n",
    "    def test(self, env):\n",
    "        obs, done, ep_reward = env.reset(), False, 0\n",
    "        i = 0\n",
    "        while not done:\n",
    "            i += 1\n",
    "            #             print(i, obs.shape)\n",
    "            action = self.act(obs)\n",
    "            self.prev_obs = obs\n",
    "            #             print(i, action)\n",
    "            #             action = y*env.shape[0]+x\n",
    "            obs, reward, done, _ = env.step(action)\n",
    "            if self.log_saving:\n",
    "                if i == 1:\n",
    "                    self.obs_hist = obs.reshape((1,) + obs.shape)\n",
    "                    self.shot_log = [action]\n",
    "                else:\n",
    "                    #                     print(self.obs_hist.shape,obs.reshape((1,)+obs.shape).shape )\n",
    "                    self.obs_hist = np.concatenate([self.obs_hist, obs.reshape((1,) + obs.shape)])\n",
    "                    self.shot_log += [action]\n",
    "            ep_reward += reward\n",
    "        return i, ep_reward"
   ]
  },
  {
   "cell_type": "code",
   "execution_count": 102,
   "metadata": {},
   "outputs": [],
   "source": [
    "# env = gym.make('battleshipBasic-v0',board_shape=(10,10), verbose=False, obs_3d=True)\n",
    "# trained_model = load_model(r'.\\..\\agents\\model\\CNN_AgentModel.model')\n",
    "# # for i in tqdm(range(1_000_000)):\n",
    "# CNN_Agent1 = CNN_Agent(env=env, trained_model=trained_model, log_saving=False)\n",
    "# CNN_GameRecord,_ =\\\n",
    "#     agent_test(agent=CNN_Agent1, \n",
    "#                env=env, \n",
    "#                game_rounds=1000, \n",
    "#                agent_name='DQN_SModel', \n",
    "#                model_agent=True, \n",
    "#                log_save=False)\n",
    "\n",
    "    \n",
    "# print('average steps uses is {}'.format(CNN_GameRecord['steps'].mean()))\n",
    "\n",
    "\n",
    "    "
   ]
  },
  {
   "cell_type": "code",
   "execution_count": 103,
   "metadata": {},
   "outputs": [],
   "source": [
    "# env = gym.make('battleshipBasic-v0',board_shape=(10,10), verbose=False, obs_3d=True)\n",
    "# trained_model = load_model(r'.\\..\\agents\\model\\CNN_AgentModel.model')\n",
    "# CNN_Agent1 = CNN_Agent(env=env, trained_model=trained_model, log_saving=True)\n",
    "# _,CNN_GameDict =\\\n",
    "#     agent_test(agent=CNN_Agent1, \n",
    "#                env=env, \n",
    "#                game_rounds=10, \n",
    "#                agent_name='DQN_SModel', \n",
    "#                model_agent=True, \n",
    "#                log_save=True)"
   ]
  },
  {
   "cell_type": "code",
   "execution_count": 104,
   "metadata": {},
   "outputs": [],
   "source": [
    "# SModel_framer = single_frame_viz(7,game_hist=CNN_GameDict[2],  \n",
    "#                                  model_obj=None, \n",
    "#                                  obs_3d=True,                         \n",
    "#                                  model_agent=True,\n",
    "#                                  board_shape=(10,10), \n",
    "#                                  value_range=(-1,1))\n"
   ]
  },
  {
   "cell_type": "code",
   "execution_count": null,
   "metadata": {},
   "outputs": [],
   "source": [
    "# CNN_Model_game = game_viz(board_shape=(10,10),\n",
    "#                           agent_name='CNN_Model_Agent', \n",
    "#                           game_hist=CNN_GameDict[2],\n",
    "#                           anim_flag=True, \n",
    "#                           model_agent=True,\n",
    "#                           obs_3d=True,\n",
    "#                           value_range=(-1,1))"
   ]
  },
  {
   "cell_type": "markdown",
   "metadata": {},
   "source": [
    "![SegmentLocal](images\\CNN_Model_Agent_Game.gif \"segment\")"
   ]
  },
  {
   "cell_type": "markdown",
   "metadata": {},
   "source": [
    "## DQN Agent\n",
    "\n",
    "This is the typical DQN agent, which formula the strategy based on Q table. I have tried 3 types of implementation. \n",
    "\n",
    "* __Keras RL__: this is the off the shelf model. However, it doesn't perform well. After over thousands steps of training, it failed to converge.\n",
    "* __Single & Double Model DQN__: I then build customized agent. The main change I have done are:\n",
    "    * __MASK ILLEGAL MOVEMENT__: one problem I notice from Keras RL is that the agent keep placing shots on the same cells again and again. To speed up the training, I have removed those explored cells from DQN's action space. Currently, my agent will only place these duplicated shots during exploration phase.\n",
    "    * __MODEL PRE-TRAIN__: Instead of training the model from scratch, I first train the model with the game logs from the hunt  & target agent. For my models, I have used 1,000 games from the hunt and target agents. Result shows this step significantly improves my agent's performance. "
   ]
  },
  {
   "cell_type": "markdown",
   "metadata": {},
   "source": [
    "### Keras RL"
   ]
  },
  {
   "cell_type": "code",
   "execution_count": 13,
   "metadata": {},
   "outputs": [
    {
     "name": "stdout",
     "output_type": "stream",
     "text": [
      "_________________________________________________________________\n",
      "Layer (type)                 Output Shape              Param #   \n",
      "=================================================================\n",
      "input_2 (InputLayer)         (None, 1, 10, 10, 3)      0         \n",
      "_________________________________________________________________\n",
      "flatten_2 (Flatten)          (None, 300)               0         \n",
      "_________________________________________________________________\n",
      "dense_4 (Dense)              (None, 32)                9632      \n",
      "_________________________________________________________________\n",
      "dense_5 (Dense)              (None, 32)                1056      \n",
      "_________________________________________________________________\n",
      "dense_6 (Dense)              (None, 32)                1056      \n",
      "_________________________________________________________________\n",
      "dense_7 (Dense)              (None, 100)               3300      \n",
      "=================================================================\n",
      "Total params: 15,044\n",
      "Trainable params: 15,044\n",
      "Non-trainable params: 0\n",
      "_________________________________________________________________\n",
      "None\n"
     ]
    }
   ],
   "source": [
    "dqn_env = gym.make('battleshipBasic-v0',board_shape=(10,10), verbose=False,obs_3d=True)\n",
    "nb_actions = dqn_env.action_space.n\n",
    "frame = Input(shape=(1, 10, 10,3))\n",
    "x = Flatten()(frame)\n",
    "x = Dense(32, activation='relu')(x)\n",
    "x = Dense(32, activation='relu')(x)\n",
    "x = Dense(32, activation='relu')(x)\n",
    "output = Dense(nb_actions, activation='linear')(x)\n",
    "model2 = Model(inputs=frame, outputs=output)\n",
    "print(model2.summary())\n",
    "# return model"
   ]
  },
  {
   "cell_type": "code",
   "execution_count": 14,
   "metadata": {
    "scrolled": true
   },
   "outputs": [
    {
     "name": "stdout",
     "output_type": "stream",
     "text": [
      "Training for 50000 steps ...\n",
      "   983/50000: episode: 1, duration: 5.035s, episode steps: 983, steps per second: 195, episode reward: -892999920.000, mean reward: -908443.459 [-1000000.000, 9.000], mean action: 56.641 [0.000, 99.000], mean observation: 0.328 [0.000, 1.000], loss: 428911453145.292114, mean_absolute_error: 22256.516996, mean_q: -537.728797\n",
      "  3843/50000: episode: 2, duration: 16.801s, episode steps: 2860, steps per second: 170, episode reward: -2764999925.000, mean reward: -966783.191 [-1000000.000, 9.000], mean action: 54.203 [0.000, 99.000], mean observation: 0.475 [0.000, 1.000], loss: 67856904192.000000, mean_absolute_error: 1162925.375000, mean_q: -894480.625000\n",
      "  5531/50000: episode: 3, duration: 10.209s, episode steps: 1688, steps per second: 165, episode reward: -1596999921.000, mean reward: -946090.001 [-1000000.000, 9.000], mean action: 52.824 [0.000, 98.000], mean observation: 0.383 [0.000, 1.000], loss: 45791084544.000000, mean_absolute_error: 2517975.750000, mean_q: -2284867.750000\n",
      "  7945/50000: episode: 4, duration: 14.704s, episode steps: 2414, steps per second: 164, episode reward: -2319999924.000, mean reward: -961060.449 [-1000000.000, 9.000], mean action: 43.252 [0.000, 98.000], mean observation: 0.427 [0.000, 1.000], loss: 43760635904.000000, mean_absolute_error: 3823463.250000, mean_q: -3649838.750000\n",
      " 11064/50000: episode: 5, duration: 18.665s, episode steps: 3119, steps per second: 167, episode reward: -3019999929.000, mean reward: -968259.035 [-1000000.000, 9.000], mean action: 52.569 [0.000, 99.000], mean observation: 0.504 [0.000, 1.000], loss: 41543311360.000000, mean_absolute_error: 5884362.500000, mean_q: -5790385.000000\n",
      " 13394/50000: episode: 6, duration: 14.678s, episode steps: 2330, steps per second: 159, episode reward: -2235999924.000, mean reward: -959656.620 [-1000000.000, 9.000], mean action: 59.346 [0.000, 99.000], mean observation: 0.438 [0.000, 1.000], loss: 52152471552.000000, mean_absolute_error: 7926552.000000, mean_q: -7834141.500000\n",
      " 14513/50000: episode: 7, duration: 7.399s, episode steps: 1119, steps per second: 151, episode reward: -1031999917.000, mean reward: -922251.937 [-1000000.000, 9.000], mean action: 44.604 [0.000, 99.000], mean observation: 0.363 [0.000, 1.000], loss: 50818633728.000000, mean_absolute_error: 9060895.000000, mean_q: -8995247.000000\n",
      " 17274/50000: episode: 8, duration: 16.828s, episode steps: 2761, steps per second: 164, episode reward: -2662999928.000, mean reward: -964505.588 [-1000000.000, 9.000], mean action: 56.012 [0.000, 99.000], mean observation: 0.479 [0.000, 1.000], loss: 66970521600.000000, mean_absolute_error: 10299844.000000, mean_q: -10212374.000000\n",
      " 18601/50000: episode: 9, duration: 8.344s, episode steps: 1327, steps per second: 159, episode reward: -1242999914.000, mean reward: -936699.257 [-1000000.000, 9.000], mean action: 44.619 [0.000, 98.000], mean observation: 0.367 [0.000, 1.000], loss: 71982800896.000000, mean_absolute_error: 11727087.000000, mean_q: -11662581.000000\n",
      " 21882/50000: episode: 10, duration: 21.199s, episode steps: 3281, steps per second: 155, episode reward: -3180999930.000, mean reward: -969521.466 [-1000000.000, 9.000], mean action: 51.714 [0.000, 99.000], mean observation: 0.540 [0.000, 1.000], loss: 98404442112.000000, mean_absolute_error: 13278351.000000, mean_q: -13214549.000000\n",
      " 24875/50000: episode: 11, duration: 19.193s, episode steps: 2993, steps per second: 156, episode reward: -2894999928.000, mean reward: -967256.909 [-1000000.000, 9.000], mean action: 47.438 [0.000, 99.000], mean observation: 0.497 [0.000, 1.000], loss: 93514366976.000000, mean_absolute_error: 15210090.000000, mean_q: -15108298.000000\n",
      " 28136/50000: episode: 12, duration: 19.802s, episode steps: 3261, steps per second: 165, episode reward: -3160999930.000, mean reward: -969334.538 [-1000000.000, 9.000], mean action: 52.309 [0.000, 99.000], mean observation: 0.512 [0.000, 1.000], loss: 113143283712.000000, mean_absolute_error: 17299572.000000, mean_q: -17241708.000000\n",
      " 30514/50000: episode: 13, duration: 15.656s, episode steps: 2378, steps per second: 152, episode reward: -2278999929.000, mean reward: -958368.347 [-1000000.000, 9.000], mean action: 49.388 [0.000, 99.000], mean observation: 0.499 [0.000, 1.000], loss: 148560658432.000000, mean_absolute_error: 19169866.000000, mean_q: -19124176.000000\n",
      " 31973/50000: episode: 14, duration: 9.878s, episode steps: 1459, steps per second: 148, episode reward: -1370999918.000, mean reward: -939684.659 [-1000000.000, 9.000], mean action: 56.669 [0.000, 99.000], mean observation: 0.368 [0.000, 1.000], loss: 171268620288.000000, mean_absolute_error: 20117032.000000, mean_q: -20004914.000000\n",
      " 33911/50000: episode: 15, duration: 12.603s, episode steps: 1938, steps per second: 154, episode reward: -1843999924.000, mean reward: -951496.349 [-1000000.000, 9.000], mean action: 52.708 [1.000, 99.000], mean observation: 0.441 [0.000, 1.000], loss: 150652076032.000000, mean_absolute_error: 20908170.000000, mean_q: -20869822.000000\n",
      " 37717/50000: episode: 16, duration: 26.660s, episode steps: 3806, steps per second: 143, episode reward: -3706999929.000, mean reward: -973988.421 [-1000000.000, 9.000], mean action: 56.970 [0.000, 99.000], mean observation: 0.508 [0.000, 1.000], loss: 211045842944.000000, mean_absolute_error: 22365956.000000, mean_q: -22299566.000000\n",
      " 39704/50000: episode: 17, duration: 12.861s, episode steps: 1987, steps per second: 154, episode reward: -1895999921.000, mean reward: -954202.275 [-1000000.000, 9.000], mean action: 38.504 [0.000, 98.000], mean observation: 0.434 [0.000, 1.000], loss: 171765760000.000000, mean_absolute_error: 24050986.000000, mean_q: -23994690.000000\n",
      " 41918/50000: episode: 18, duration: 14.165s, episode steps: 2214, steps per second: 156, episode reward: -2119999924.000, mean reward: -957542.874 [-1000000.000, 9.000], mean action: 52.784 [0.000, 99.000], mean observation: 0.442 [0.000, 1.000], loss: 203412963328.000000, mean_absolute_error: 25129744.000000, mean_q: -25093388.000000\n",
      " 45034/50000: episode: 19, duration: 20.734s, episode steps: 3116, steps per second: 150, episode reward: -3017999928.000, mean reward: -968549.399 [-1000000.000, 9.000], mean action: 54.056 [0.000, 99.000], mean observation: 0.490 [0.000, 1.000], loss: 266114039808.000000, mean_absolute_error: 26280126.000000, mean_q: -26186228.000000\n",
      "done, took 318.892 seconds\n"
     ]
    },
    {
     "data": {
      "text/plain": [
       "<keras.callbacks.History at 0x19555269fd0>"
      ]
     },
     "execution_count": 14,
     "metadata": {},
     "output_type": "execute_result"
    }
   ],
   "source": [
    "policy = EpsGreedyQPolicy()\n",
    "# policy = GreedyQPolicy()\n",
    "memory = SequentialMemory(limit=50000, window_length=1)\n",
    "dqn = DQNAgent(model=model2, nb_actions=nb_actions, memory=memory, \n",
    "               nb_steps_warmup=400,\n",
    "               gamma=.99, target_model_update=1e-3, \n",
    "               policy=policy)\n",
    "dqn.compile(Adam(lr=1e-3), metrics=['mae'])\n",
    "dqn.fit(dqn_env, nb_steps=50000, visualize=False, verbose=2)"
   ]
  },
  {
   "cell_type": "markdown",
   "metadata": {},
   "source": [
    "__Notes__: apparently, the agloirhtm failed to converge"
   ]
  },
  {
   "cell_type": "markdown",
   "metadata": {},
   "source": [
    "### Single Model "
   ]
  },
  {
   "cell_type": "code",
   "execution_count": 38,
   "metadata": {},
   "outputs": [],
   "source": [
    "class Agent(object):\n",
    "    def __init__(self, state_size, action_size, verbose=False, model=None, log_saving=False):\n",
    "        self.verbose = verbose\n",
    "        self.weight_backup = r\".\\model\\DQN_V2_06082020_5.model\"\n",
    "        self.state_size = state_size\n",
    "        self.action_size = action_size\n",
    "        self.memory = deque(maxlen=2000)\n",
    "        self.model_estimates = None\n",
    "        self.learning_rate = 0.0001\n",
    "        self.gamma = 0.1\n",
    "        self.exploration_rate = 0.4\n",
    "        self.exploration_min = 0.01\n",
    "        self.exploration_decay = 0.995\n",
    "        self.log_saving = log_saving\n",
    "        self.obs_hist = None\n",
    "        self.shot_log = []\n",
    "        self.model_estimates = None\n",
    "        if model is None:\n",
    "            self.brain = self._build_model(self.state_size)\n",
    "        else:\n",
    "            self.brain = model\n",
    "\n",
    "    def model_pretrain(self, game_logs, batch_size, epochs):\n",
    "        train_x, train_y = train_data_process(game_logs, reward=True)\n",
    "        self.brain.fit(train_x, train_y,\n",
    "                       batch_size=batch_size,\n",
    "                       epochs=epochs, verbose=2)\n",
    "        self.save_model()\n",
    "\n",
    "    def _build_model(self, input_shape):\n",
    "        X_input = Input(input_shape)\n",
    "        X = ZeroPadding2D((3, 3))(X_input)\n",
    "        X = Conv2D(32, (7, 7), strides=(1, 1), name='conv0')(X)\n",
    "        X = BatchNormalization(axis=3, name='bn0')(X)\n",
    "        X = ZeroPadding2D((3, 3))(X)\n",
    "        X = Conv2D(32, (7, 7), strides=(1, 1), name='conv1')(X)\n",
    "        X = BatchNormalization(axis=3, name='bn1')(X)\n",
    "        X = Activation('relu')(X)\n",
    "        X = MaxPooling2D((2, 2), name='max_pool')(X)\n",
    "        # FLATTEN X (means convert it to a vector) + FULLYCONNECTED\n",
    "        X = Flatten()(X)\n",
    "#         X = Dense(100, activation='sigmoid', name='fc')(X)\n",
    "        X = Dense(100, activation='linear', name='fc')(X)\n",
    "        # Create model. This creates your Keras model instance, you'll use this instance to train/test the model.\n",
    "        model = Model(inputs=X_input, outputs=X, name='HappyModel')\n",
    "        model.compile(loss='mse', optimizer=Adam(lr=self.learning_rate))\n",
    "        if os.path.isfile(self.weight_backup):\n",
    "            model.load_weights(self.weight_backup)\n",
    "            self.exploration_rate = self.exploration_min\n",
    "        print(model.summary())\n",
    "        return model\n",
    "\n",
    "    def save_model(self):\n",
    "        self.brain.save(self.weight_backup)\n",
    "\n",
    "    def act(self, state, explore=True):\n",
    "        if explore and (np.random.rand() <= self.exploration_rate):\n",
    "            return random.randrange(self.action_size), 1\n",
    "        act_values = self.brain.predict(state)[0]\n",
    "        if self.log_saving:\n",
    "            if self.model_estimates is None:\n",
    "                self.model_estimates = act_values.reshape((1,) + act_values.shape)\n",
    "            else:\n",
    "                self.model_estimates = np.concatenate([self.model_estimates, act_values.reshape((1,) + act_values.shape)])\n",
    "        act_values[state[..., 0].flatten() != 0] = -99\n",
    "        return np.argmax(act_values), 0\n",
    "\n",
    "    def remember(self, state, action, reward, next_state, done):\n",
    "        self.memory.append((state, action, reward, next_state, done))\n",
    "\n",
    "    def replay(self, sample_batch_size):\n",
    "        if len(self.memory) < sample_batch_size:\n",
    "            return\n",
    "        sample_batch = random.sample(self.memory, sample_batch_size)\n",
    "        state_input = np.array([])\n",
    "        target_input = np.array([])\n",
    "        for state, action, reward, next_state, done in sample_batch:\n",
    "            target = reward\n",
    "            if not done:\n",
    "                target = reward + self.gamma * np.amax(self.brain.predict(next_state)[0])\n",
    "            target_f = self.brain.predict(state)\n",
    "            target_f[0][state[...,0].flatten() !=0] = np.where(target_f[0][state[...,0].flatten() != 0] < -9,\n",
    "                                                               target_f[0][state[...,0].flatten() != 0],\n",
    "                                                               -9)\n",
    "            target_f[0][action] = target\n",
    "            if sum(state_input.shape) == 0:\n",
    "                state_input = state\n",
    "                target_input = target_f\n",
    "            else:\n",
    "                state_input = np.concatenate([state_input, state])\n",
    "                target_input = np.concatenate([target_input, target_f])\n",
    "        self.brain.fit(state_input, target_input, batch_size=32, epochs=2, verbose=1)\n",
    "        if self.exploration_rate > self.exploration_min:\n",
    "            self.exploration_rate *= self.exploration_decay\n",
    "\n",
    "\n",
    "class BattleShipAgent:\n",
    "    def __init__(self, agent=None, model=None, log_saving=False, verbose=False, episodes=10000):\n",
    "        self.sample_batch_size = 500\n",
    "        self.episodes = episodes\n",
    "        self.env = gym.make('battleshipBasic-v0', board_shape=(10, 10),  verbose=False, obs_3d=True)\n",
    "        self.state_size = self.env.observation_space.shape\n",
    "        self.action_size = self.env.action_space.n\n",
    "        self.verbose = verbose\n",
    "        self.agent = agent\n",
    "        self.obs_hist = None\n",
    "        self.shot_log = []\n",
    "        self.log_saving = log_saving\n",
    "        self.model_estimates = None\n",
    "        if self.agent is None:\n",
    "            self.agent = Agent(state_size=self.state_size, action_size=self.action_size,\n",
    "                               model=model, log_saving=log_saving)\n",
    "            \n",
    "    def reset_log(self):\n",
    "        self.obs_hist = None\n",
    "        self.shot_log = []\n",
    "        self.model_estimates = None  \n",
    "        self.agent.model_estimates = None      \n",
    "\n",
    "    def train(self):\n",
    "        try:\n",
    "            total_step_log = []\n",
    "            for index_episode in range(self.episodes):\n",
    "                state = self.env.reset()\n",
    "                state = np.reshape(state, (1,) + self.state_size)\n",
    "                done = False\n",
    "                total_reward = 0\n",
    "                total_step = 0\n",
    "                explore_step_count = 0\n",
    "                while not done:\n",
    "                    action, explore_count = self.agent.act(state)\n",
    "                    explore_step_count += explore_count\n",
    "                    next_state, reward, done, _ = self.env.step(action)\n",
    "                    next_state = np.reshape(next_state, (1,)+ self.state_size)\n",
    "                    self.agent.remember(state, action, reward, next_state, done)\n",
    "                    state = next_state\n",
    "                    total_reward += reward\n",
    "                    total_step += 1\n",
    "                    if self.verbose:\n",
    "                        print(reward)\n",
    "                total_step_log += [total_step]\n",
    "                print(\"Episode {}# Score: {} and step {} ({} explore steps), \"\n",
    "                      \"current average steps {}\".format(index_episode,\n",
    "                                                        total_reward, total_step,\n",
    "                                                        explore_step_count,\n",
    "                                                        np.mean(total_step_log)))\n",
    "                self.agent.replay(self.sample_batch_size)\n",
    "                if (index_episode%100) == 0:\n",
    "                    self.agent.save_model()\n",
    "        finally:\n",
    "            self.agent.save_model()\n",
    "\n",
    "    def test(self, env):\n",
    "        obs, done, ep_reward = env.reset(), False, 0\n",
    "        i = 0\n",
    "        while not done:\n",
    "            i += 1\n",
    "            obs = np.reshape(obs, (1,) + self.state_size)\n",
    "            action, _ = self.agent.act(obs, explore=False)\n",
    "            obs, reward, done, _ = env.step(action)\n",
    "            if self.log_saving:\n",
    "                if i == 1:\n",
    "                    self.obs_hist = obs.reshape((1,) + obs.shape)\n",
    "                    self.shot_log = [action]\n",
    "                else:\n",
    "                    self.obs_hist = np.concatenate([self.obs_hist, obs.reshape((1,) + obs.shape)])\n",
    "                    self.shot_log += [action]\n",
    "            ep_reward += reward\n",
    "        self.model_estimates = self.agent.model_estimates\n",
    "        return i, ep_reward\n",
    "\n"
   ]
  },
  {
   "cell_type": "code",
   "execution_count": 107,
   "metadata": {},
   "outputs": [],
   "source": [
    "# print('average steps uses is {}'.format(DQN_SingleModel_GameRecord['steps'].mean()))"
   ]
  },
  {
   "cell_type": "code",
   "execution_count": 98,
   "metadata": {},
   "outputs": [],
   "source": [
    "# trained_DQN_model = load_model(r'.\\..\\agents\\model\\DQN_V2_06102020_1.model')\n",
    "# dqn_env = gym.make('battleshipBasic-v0',board_shape=(10,10), verbose=False, obs_3d=True)\n",
    "# DQN_SingleMdel = BattleShipAgent(model=trained_DQN_model, log_saving=False)\n",
    "# DQN_SingleModel_GameRecord,_ =\\\n",
    "#     agent_test(agent=DQN_SingleMdel, \n",
    "#                env=env, \n",
    "#                game_rounds=1000, \n",
    "#                agent_name='DQN_SModel', \n",
    "#                model_agent=True, \n",
    "#                log_save=False)\n",
    "\n",
    "    \n",
    "# print('average steps uses is {}'.format(DQN_SingleModel_GameRecord['steps'].mean()))"
   ]
  },
  {
   "cell_type": "code",
   "execution_count": 99,
   "metadata": {},
   "outputs": [],
   "source": [
    "# trained_DQN_model = load_model(r'.\\..\\agents\\model\\DQN_V2_06102020_1.model')\n",
    "# dqn_env = gym.make('battleshipBasic-v0',board_shape=(10,10), verbose=False, obs_3d=True)\n",
    "# DQN_SingleMdel = BattleShipAgent(model=trained_DQN_model, log_saving=True)\n",
    "# _,DQN_SingleMdel_GameDict =\\\n",
    "#     agent_test(agent=DQN_SingleMdel, \n",
    "#                env=env, \n",
    "#                game_rounds=10, \n",
    "#                agent_name='DQN_SModel', \n",
    "#                model_agent=True, \n",
    "#                log_save=True)\n",
    "\n",
    "    \n",
    "# # print('average steps uses is {}'.format(DQN_DoubleModel_GameRecord['steps'].mean()))"
   ]
  },
  {
   "cell_type": "code",
   "execution_count": 97,
   "metadata": {},
   "outputs": [],
   "source": [
    "# DQN_SModel_game = game_viz(board_shape=(10,10),agent_name='DQN_SingleModel_Agent', \n",
    "#                            game_hist=DQN_SingleMdel_GameDict[2],\n",
    "#                            anim_flag=True, \n",
    "#                            model_agent=True,\n",
    "#                            obs_3d=True,\n",
    "#                            value_range=(-20,+20))"
   ]
  },
  {
   "cell_type": "markdown",
   "metadata": {},
   "source": [
    "![SegmentLocal](images\\DQN_SingleModel_Agent_Game.gif \"segment\")"
   ]
  },
  {
   "cell_type": "code",
   "execution_count": 95,
   "metadata": {},
   "outputs": [],
   "source": [
    "# # DQN_V2_06102020_1 DQN_V2_06082020_5\n",
    "# # DQN_V2_06102020_2\n",
    "# trained_DQN_model = load_model(r'.\\..\\agents\\model\\DQN_V2_06102020_1.model')\n",
    "# dqn_env = gym.make('battleshipBasic-v0',board_shape=(10,10), verbose=False, obs_3d=True)\n",
    "# DQN_SingleMdel = BattleShipAgent(model=trained_DQN_model, log_saving=False)\n",
    "# # SearchHuntAgent1 = SearchHuntAgent(board_shape=(10,10), verbose=False, log_saving=True)\n",
    "# step_record = []\n",
    "# reward_record = []\n",
    "# data_SModel_DQN_Agent ={}\n",
    "# # for i in tqdm(range(1_000_000)):\n",
    "# for i in tqdm(range(10), position=0, leave=True): \n",
    "#     DQN_SingleMdel.reset_log()\n",
    "#     total_step, reward = DQN_SingleMdel.test(dqn_env)\n",
    "#     step_record += [total_step]\n",
    "#     reward_record += [reward]\n",
    "#     if i <=10:\n",
    "#         data_SModel_DQN_Agent[i] ={'observations': DQN_SingleMdel.obs_hist, \n",
    "#                           'target': dqn_env.board.map.flatten(), \n",
    "#                           'shot':DQN_SingleMdel.shot_log,\n",
    "#                           'model_estimates':DQN_SingleMdel.model_estimates}\n",
    "#     if i == 11:\n",
    "#         DQN_SingleMdel.log_saving = False\n",
    "# #     print(data_dict)\n",
    "\n",
    "# # DQN_SingleModel_GameRecord = pd.DataFrame({'AgentName':['SearchHuntAgent']*len(step_record),\n",
    "# #                                            'steps':step_record,\n",
    "# #                                            'reward':reward_record})"
   ]
  },
  {
   "cell_type": "code",
   "execution_count": 96,
   "metadata": {},
   "outputs": [],
   "source": [
    "# print('average steps uses is {}'.format(DQN_SingleModel_GameRecord['steps'].mean()))"
   ]
  },
  {
   "cell_type": "code",
   "execution_count": 94,
   "metadata": {
    "scrolled": false
   },
   "outputs": [],
   "source": [
    "# SModel_framer = single_frame_viz(7,game_hist=data_SModel_DQN_Agent[2],  \n",
    "#                                  model_obj=None, \n",
    "#                                  obs_3d=True,                         \n",
    "#                                  model_agent=True,\n",
    "#                                  board_shape=(10,10), \n",
    "#                                  value_range=(-20,20))\n"
   ]
  },
  {
   "cell_type": "markdown",
   "metadata": {},
   "source": [
    "### Double Model"
   ]
  },
  {
   "cell_type": "code",
   "execution_count": 31,
   "metadata": {},
   "outputs": [],
   "source": [
    "class DQN:\n",
    "    def __init__(self, env, model=None, log_saving=False):\n",
    "        self.log_saving = log_saving\n",
    "        self.env = env\n",
    "        self.memory = deque(maxlen=2000)\n",
    "        self.gamma = 0.9\n",
    "        self.epsilon = 1.0\n",
    "        self.epsilon_min = 0.01\n",
    "        self.epsilon_decay = 0.7\n",
    "        self.learning_rate = 0.0001\n",
    "        self.exploration_min = 0.01\n",
    "        self.exploration_rate = 0.4\n",
    "        self.tau = .125\n",
    "        self.obs_hist = None\n",
    "        self.shot_log = []\n",
    "        self.model_estimates = None\n",
    "        self.state_shape = self.env.observation_space.shape\n",
    "        # self.weight_backup = r'.\\model\\DQN_V3_06082020_3.model'\n",
    "        self.weight_backup = r'.\\model\\DQN_V3_06092020_1.model'\n",
    "        if model is not None:\n",
    "            self.model = model\n",
    "            self.target_model = model\n",
    "        else:\n",
    "            self.model = self.create_model(self.env.observation_space.shape)\n",
    "            self.target_model = self.create_model(self.env.observation_space.shape)\n",
    "            \n",
    "    def reset_log(self):\n",
    "        self.obs_hist = None\n",
    "        self.shot_log = []\n",
    "        self.model_estimates = None\n",
    "\n",
    "    def create_model(self, input_shape):\n",
    "        X_input = Input(input_shape)\n",
    "        X = ZeroPadding2D((3, 3))(X_input)\n",
    "        X = Conv2D(32, (7, 7), strides=(1, 1), name='conv0')(X)\n",
    "        X = BatchNormalization(axis=3, name='bn0')(X)\n",
    "        X = ZeroPadding2D((3, 3))(X)\n",
    "        X = Conv2D(32, (7, 7), strides=(1, 1), name='conv1')(X)\n",
    "        X = BatchNormalization(axis=3, name='bn1')(X)\n",
    "        X = Activation('relu')(X)\n",
    "        X = MaxPooling2D((2, 2), name='max_pool')(X)\n",
    "        # FLATTEN X (means convert it to a vector) + FULLYCONNECTED\n",
    "        X = Flatten()(X)\n",
    "#         X = Dense(100, activation='sigmoid', name='fc')(X)\n",
    "        \n",
    "        X = Dense(100, activation='linear', name='fc')(X)\n",
    "        # Create model. This creates your Keras model instance, you'll use this instance to train/test the model.\n",
    "        model = Model(inputs=X_input, outputs=X, name='HappyModel')\n",
    "        model.compile(loss='mse', optimizer=Adam(lr=self.learning_rate))\n",
    "        if os.path.isfile(self.weight_backup):\n",
    "            model.load_weights(self.weight_backup)\n",
    "            self.exploration_rate = self.exploration_min\n",
    "        print(model.summary())\n",
    "        return model\n",
    "\n",
    "    def model_pretrain(self, game_logs, batch_size, epochs):\n",
    "        train_x, train_y = train_data_process(game_logs, reward=True)\n",
    "        self.target_model.fit(train_x, train_y,\n",
    "                              batch_size=batch_size,\n",
    "                              epochs=epochs, verbose=2)\n",
    "        self.save_model(self.weight_backup)\n",
    "        self.model.load_weights(self.weight_backup) # assign same weights\n",
    "\n",
    "    def act(self, state, explore=True):\n",
    "        self.epsilon *= self.epsilon_decay\n",
    "        self.epsilon = max(self.epsilon_min, self.epsilon)\n",
    "        if explore and (np.random.random() < self.epsilon):\n",
    "            print('explore')\n",
    "            return self.env.action_space.sample()\n",
    "        act_values = self.model.predict(state)[0]\n",
    "        if self.log_saving:\n",
    "            if self.model_estimates is None:\n",
    "                self.model_estimates = act_values.reshape((1,) + act_values.shape)\n",
    "            else:\n",
    "                self.model_estimates = np.concatenate([self.model_estimates, act_values.reshape((1,) + act_values.shape)])\n",
    "        act_values[state[..., 0].flatten() != 0] = -99\n",
    "        return np.argmax(act_values)\n",
    "\n",
    "    def remember(self, state, action, reward, new_state, done):\n",
    "        self.memory.append([state, action, reward, new_state, done])\n",
    "\n",
    "    def replay(self):\n",
    "        batch_size = 256\n",
    "        if len(self.memory) < batch_size:\n",
    "            return\n",
    "        samples = random.sample(self.memory, batch_size)\n",
    "        state_input = np.array([])\n",
    "        target_input = np.array([])\n",
    "        for sample in samples:\n",
    "            state, action, reward, new_state, done = sample\n",
    "            target = self.target_model.predict(state)\n",
    "            if done:\n",
    "                target[0][action] = reward\n",
    "            else:\n",
    "                Q_future = max(self.target_model.predict(new_state)[0])\n",
    "                target[0][action] = reward + Q_future * self.gamma\n",
    "            if sum(state_input.shape) == 0:\n",
    "                state_input = state\n",
    "                target_input = target\n",
    "            else:\n",
    "                state_input = np.concatenate([state_input, state])\n",
    "                target_input = np.concatenate([target_input, target])\n",
    "        self.model.fit(state_input, target_input, batch_size=32, epochs=2, verbose=1)\n",
    "\n",
    "    def target_train(self):\n",
    "        weights = self.model.get_weights()\n",
    "        target_weights = self.target_model.get_weights()\n",
    "        for i in range(len(target_weights)):\n",
    "            target_weights[i] = weights[i] * self.tau + target_weights[i] * (1 - self.tau)\n",
    "        self.target_model.set_weights(target_weights)\n",
    "\n",
    "    def save_model(self, fn):\n",
    "        self.target_model.save(fn)\n",
    "\n",
    "    def test(self, env):\n",
    "        obs, done, ep_reward = env.reset(), False, 0\n",
    "        i = 0\n",
    "        while not done:\n",
    "            i += 1\n",
    "            obs = np.reshape(obs, (1,) + obs.shape)\n",
    "            action = self.act(obs, explore=False)\n",
    "            obs, reward, done, _ = env.step(action)\n",
    "            if self.log_saving:\n",
    "                if i == 1:\n",
    "                    self.obs_hist = np.reshape(obs, (1,) + obs.shape)\n",
    "                    self.shot_log = [action]\n",
    "                else:\n",
    "                    self.obs_hist = np.concatenate([self.obs_hist, np.reshape(obs, (1,) + obs.shape)])\n",
    "                    self.shot_log += [action]\n",
    "            ep_reward += reward\n",
    "        return i, ep_reward\n",
    "\n",
    "    def train(self, env, trials=1000, game_logs=None):\n",
    "        if game_logs is not None:\n",
    "            self.model_pretrain(game_logs, 128, 4)\n",
    "        steps = []\n",
    "        for trial in range(trials):\n",
    "            cur_state = env.reset()\n",
    "            cur_state = np.reshape(cur_state, (1,) + env.observation_space.shape)\n",
    "            total_reward = 0\n",
    "            total_step = 0\n",
    "            done = False\n",
    "            while not done:\n",
    "                action = self.act(cur_state)\n",
    "                # print(action)\n",
    "                new_state, reward, done, _ = env.step(action)\n",
    "                new_state = np.reshape(new_state, (1,) + env.observation_space.shape)\n",
    "                self.remember(cur_state, action, reward, new_state, done)\n",
    "                cur_state = new_state\n",
    "                total_reward += reward\n",
    "                total_step += 1\n",
    "            self.replay()  # internally iterates default (prediction) model\n",
    "            if trial % 100 == 0:\n",
    "                self.target_train()\n",
    "                self.save_model(self.weight_backup)\n",
    "            steps += [total_step]\n",
    "            if len(steps) <= 200:\n",
    "                mean_steps = np.mean(steps)\n",
    "            else:\n",
    "                mean_steps = np.mean(steps[-200:])\n",
    "            print(\"Completed in {} trials with reward {} and step {}, average steps {}\".format(trial,\n",
    "                                                                                               total_reward, total_step,\n",
    "                                                                                               mean_steps))\n",
    "        self.save_model(self.weight_backup)"
   ]
  },
  {
   "cell_type": "code",
   "execution_count": 89,
   "metadata": {},
   "outputs": [],
   "source": [
    "# dqn_env = gym.make('battleshipBasic-v0',board_shape=(10,10), verbose=False, obs_3d=True)\n",
    "# # DQN_V3_06092020_2\n",
    "# trained_DQN_model = load_model(r'.\\..\\agents\\model\\DQN_V3_06102020_1.model')\n",
    "# dqn_DModel_agent_V1 = DQN(env=dqn_env, model=trained_DQN_model, log_saving=False)\n",
    "# DQN_DoubleModel_GameRecord,_ =\\\n",
    "#     agent_test(agent=dqn_DModel_agent_V1, \n",
    "#                env=env, \n",
    "#                game_rounds=1000, \n",
    "#                agent_name='RandomAgent', \n",
    "#                model_agent=True, \n",
    "#                log_save=False)\n",
    "\n",
    "    \n",
    "# print('average steps uses is {}'.format(DQN_DoubleModel_GameRecord['steps'].mean()))"
   ]
  },
  {
   "cell_type": "code",
   "execution_count": 90,
   "metadata": {},
   "outputs": [],
   "source": [
    "# dqn_env = gym.make('battleshipBasic-v0',board_shape=(10,10), verbose=False, obs_3d=True)\n",
    "# # DQN_V3_06092020_2\n",
    "# trained_DQN_model = load_model(r'.\\..\\agents\\model\\DQN_V3_06102020_1.model')\n",
    "# dqn_DModel_agent_V1 = DQN(env=dqn_env, model=trained_DQN_model, log_saving=True)\n",
    "# _,DQN_DoubleModel_GameDict =\\\n",
    "#     agent_test(agent=dqn_DModel_agent_V1, \n",
    "#                env=env, \n",
    "#                game_rounds=10, \n",
    "#                agent_name='RandomAgent', \n",
    "#                model_agent=True, \n",
    "#                log_save=True)\n",
    "\n",
    "    \n",
    "# # print('average steps uses is {}'.format(DQN_DoubleModel_GameRecord['steps'].mean()))"
   ]
  },
  {
   "cell_type": "code",
   "execution_count": 91,
   "metadata": {},
   "outputs": [],
   "source": [
    "# SModel_framer = single_frame_viz(7,game_hist=DQN_DoubleModel_GameDict[2],  \n",
    "#                                  model_obj=None, \n",
    "#                                  obs_3d=True,                         \n",
    "#                                  model_agent=True,\n",
    "#                                  board_shape=(10,10), \n",
    "#                                  value_range=(-20,20))\n"
   ]
  },
  {
   "cell_type": "code",
   "execution_count": 92,
   "metadata": {},
   "outputs": [],
   "source": [
    "# DQN_DModel_game = game_viz(board_shape=(10,10),agent_name='DQN_DoubleModel_Agent', \n",
    "#                            game_hist=DQN_DoubleModel_GameDict[1],\n",
    "#                            anim_flag=True, \n",
    "#                            model_agent=True,\n",
    "#                            obs_3d=True ,\n",
    "#                           value_range=(-20,+20))"
   ]
  },
  {
   "cell_type": "markdown",
   "metadata": {},
   "source": [
    "![SegmentLocal](images\\DQN_DoubleModel_Agent_Game.gif \"segment\")"
   ]
  },
  {
   "cell_type": "code",
   "execution_count": 100,
   "metadata": {},
   "outputs": [],
   "source": [
    "# HTML(DQN_DModel_game.to_html5_video())"
   ]
  },
  {
   "cell_type": "code",
   "execution_count": 35,
   "metadata": {},
   "outputs": [],
   "source": [
    "# dqn_env = gym.make('battleshipBasic-v0',board_shape=(10,10), verbose=False, obs_3d=True)\n",
    "# # DQN_V3_06092020_2\n",
    "# trained_DQN_model = load_model(r'.\\..\\agents\\model\\DQN_V3_06102020_1.model')\n",
    "# dqn_agent_V3 = DQN(env=dqn_env, model=trained_DQN_model, log_saving=True)\n",
    "\n",
    "# step_record = []\n",
    "# reward_record = []\n",
    "# data_dict_agent3 ={}\n",
    "# # for i in tqdm(range(1_000_000)):\n",
    "# for i in tqdm(range(1_000), position=0, leave=False): \n",
    "#     dqn_agent_V3.reset_log()\n",
    "#     total_step, reward = dqn_agent_V3.test(dqn_env)\n",
    "#     step_record += [total_step]\n",
    "#     reward_record += [reward]\n",
    "#     if i <= 10:\n",
    "#         data_dict_agent3[i] ={'observations': dqn_agent_V3.obs_hist,\n",
    "#                           'target': dqn_env.board.map.flatten(), \n",
    "#                           'shot':dqn_agent_V3.shot_log,\n",
    "#                          'model_estimates':dqn_agent_V3.model_estimates}\n",
    "# #     print(data_dict)\n",
    "\n",
    "# DQN_DoubleModel_GameRecord = pd.DataFrame({'AgentName':['SearchHuntAgent']*len(step_record),\n",
    "#                                            'steps':step_record,\n",
    "#                                            'reward':reward_record})"
   ]
  },
  {
   "cell_type": "code",
   "execution_count": 36,
   "metadata": {},
   "outputs": [],
   "source": [
    "# print('average steps uses is {}'.format(DQN_DoubleModel_GameRecord['steps'].mean()))"
   ]
  },
  {
   "cell_type": "markdown",
   "metadata": {},
   "source": [
    "## Result Summary\n",
    "\n",
    "Following plot shows the result comparison among my agents.\n",
    "\n",
    "* The CNN model based agent performs the best with average steps around 55.\n",
    "* The double models DQN performs slightly worse compared with CNN with an average steps of 58.\n",
    "* The single model DQN didn't beat the hunt & target agent with an average steps of 72"
   ]
  },
  {
   "cell_type": "code",
   "execution_count": 56,
   "metadata": {},
   "outputs": [
    {
     "name": "stderr",
     "output_type": "stream",
     "text": [
      "C:\\Users\\Muxi\\Anaconda3\\lib\\site-packages\\scipy\\stats\\stats.py:1713: FutureWarning: Using a non-tuple sequence for multidimensional indexing is deprecated; use `arr[tuple(seq)]` instead of `arr[seq]`. In the future this will be interpreted as an array index, `arr[np.array(seq)]`, which will result either in an error or a different result.\n",
      "  return np.add.reduce(sorted[indexer] * weights, axis=axis) / sumval\n"
     ]
    },
    {
     "data": {
      "text/plain": [
       "<matplotlib.axes._subplots.AxesSubplot at 0x1ed97ebc1d0>"
      ]
     },
     "execution_count": 56,
     "metadata": {},
     "output_type": "execute_result"
    },
    {
     "data": {
      "image/png": "[encoded data removed]",
      "text/plain": [
       "<Figure size 1152x576 with 1 Axes>"
      ]
     },
     "metadata": {},
     "output_type": "display_data"
    }
   ],
   "source": [
    "# all_record['steps'].hist(cumulative=True,\n",
    "# #                          density=1, \n",
    "#                          bins=1000,figsize=(12,4))\n",
    "# plt.show()\n",
    "import seaborn as sns\n",
    "fig, ax = plt.subplots(figsize=(16,8))\n",
    "kwargs = {'cumulative': True}\n",
    "sns.distplot(RandomAgent_GameRecord['steps'],  kde_kws=kwargs,\n",
    "             ax=ax, kde=True,hist=False, label='RandomAgent')\n",
    "sns.distplot(HuntTargetAgent_GameRecord['steps'],ax=ax, kde_kws=kwargs,\n",
    "             kde=True,hist=False, label='SearchTargetAgent')\n",
    "sns.distplot(DQN_SingleModel_GameRecord['steps'],ax=ax, kde_kws=kwargs,\n",
    "             kde=True,hist=False, label='DQN Single Model Agent')\n",
    "sns.distplot(DQN_DoubleModel_GameRecord['steps'],ax=ax, kde_kws=kwargs,\n",
    "             kde=True,hist=False, label='DQN Two Model Agent')\n",
    "sns.distplot(CNN_GameRecord['steps'],ax=ax, kde_kws=kwargs,\n",
    "             kde=True,hist=False, label='CNN Agent')\n",
    "# ax.set_xlim([0, 100])"
   ]
  }
 ],
 "metadata": {
  "kernelspec": {
   "display_name": "Python 3",
   "language": "python",
   "name": "python3"
  },
  "language_info": {
   "codemirror_mode": {
    "name": "ipython",
    "version": 3
   },
   "file_extension": ".py",
   "mimetype": "text/x-python",
   "name": "python",
   "nbconvert_exporter": "python",
   "pygments_lexer": "ipython3",
   "version": "3.6.5"
  },
  "toc": {
   "base_numbering": 1,
   "nav_menu": {},
   "number_sections": true,
   "sideBar": true,
   "skip_h1_title": false,
   "title_cell": "Table of Contents",
   "title_sidebar": "Contents",
   "toc_cell": false,
   "toc_position": {
    "height": "calc(100% - 180px)",
    "left": "10px",
    "top": "150px",
    "width": "230px"
   },
   "toc_section_display": true,
   "toc_window_display": true
  },
  "varInspector": {
   "cols": {
    "lenName": 16,
    "lenType": 16,
    "lenVar": 40
   },
   "kernels_config": {
    "python": {
     "delete_cmd_postfix": "",
     "delete_cmd_prefix": "del ",
     "library": "var_list.py",
     "varRefreshCmd": "print(var_dic_list())"
    },
    "r": {
     "delete_cmd_postfix": ") ",
     "delete_cmd_prefix": "rm(",
     "library": "var_list.r",
     "varRefreshCmd": "cat(var_dic_list()) "
    }
   },
   "position": {
    "height": "338px",
    "left": "1653px",
    "right": "20px",
    "top": "172px",
    "width": "350px"
   },
   "types_to_exclude": [
    "module",
    "function",
    "builtin_function_or_method",
    "instance",
    "_Feature"
   ],
   "window_display": false
  }
 },
 "nbformat": 4,
 "nbformat_minor": 2
}
