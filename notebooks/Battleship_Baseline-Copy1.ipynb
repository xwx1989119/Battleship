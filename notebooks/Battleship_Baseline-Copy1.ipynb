{
 "cells": [
  {
   "cell_type": "code",
   "execution_count": 2,
   "metadata": {
    "ExecuteTime": {
     "end_time": "2020-11-09T18:32:05.255931Z",
     "start_time": "2020-11-09T18:32:05.239928Z"
    }
   },
   "outputs": [],
   "source": [
    "import gym\n",
    "import gym_battleship_basic\n",
    "import numpy as np\n",
    "import pandas as pd\n",
    "from tqdm import tqdm \n",
    "import matplotlib.pyplot as plt\n",
    "import os\n",
    "import pickle\n",
    "import numpy as np\n",
    "# from tensorflow.keras import backend\n",
    "from keras import layers\n",
    "from keras.layers import Input, Dense, Activation, ZeroPadding2D, BatchNormalization, Flatten, Conv2D\n",
    "from keras.layers import AveragePooling2D, MaxPooling2D, Dropout, GlobalMaxPooling2D, GlobalAveragePooling2D\n",
    "from keras.models import Model\n",
    "from keras.preprocessing import image\n",
    "from keras.utils import layer_utils\n",
    "from keras.utils.data_utils import get_file\n",
    "from keras.applications.imagenet_utils import preprocess_input\n",
    "from IPython.display import SVG\n",
    "from keras.utils.vis_utils import model_to_dot\n",
    "from keras.utils import plot_model\n",
    "import gym\n",
    "import random\n",
    "import os\n",
    "import numpy as np\n",
    "from collections import deque\n",
    "from keras.models import Sequential\n",
    "from keras.layers import Dense\n",
    "from keras.optimizers import Adam\n",
    "import keras.backend as K\n",
    "K.set_image_data_format('channels_last')\n",
    "import matplotlib.pyplot as plt\n",
    "from matplotlib.pyplot import imshow\n",
    "from keras.models import load_model\n",
    "%matplotlib inline\n",
    "from IPython.display import HTML\n",
    "import numpy as np\n",
    "import gym\n",
    "from matplotlib import colors\n",
    "from keras.models import Sequential\n",
    "from keras.layers import Dense, Activation, Flatten\n",
    "from keras.optimizers import Adam\n",
    "import time\n",
    "from rl.agents.dqn import DQNAgent\n",
    "from rl.policy import EpsGreedyQPolicy\n",
    "from rl.memory import SequentialMemory\n",
    "from rl.policy import GreedyQPolicy\n",
    "from keras.layers import Flatten, Convolution2D, Input\n",
    "import copy\n",
    "# 1.1 Import tensorflow and other libraries.\n",
    "import tensorflow as tf\n",
    "import numpy as np\n",
    "%matplotlib inline\n",
    "import pylab\n",
    "import gc\n",
    "import os"
   ]
  },
  {
   "cell_type": "code",
   "execution_count": 37,
   "metadata": {
    "ExecuteTime": {
     "end_time": "2020-11-09T18:48:23.571834Z",
     "start_time": "2020-11-09T18:48:23.551821Z"
    },
    "code_folding": []
   },
   "outputs": [],
   "source": [
    "# os.path.join(os.getcwd(),\".\\..\")\n",
    "root_path = os.getcwd() # please specific the root path to load pacakages.\n",
    "if os.getcwd().split(\"\\\\\")[-1] == 'notebooks':\n",
    "    root_path = os.path.dirname(os.getcwd())\n",
    "    os.chdir(root_path)\n",
    "    print(root_path)\n",
    "# else:\n",
    "\n",
    "import sys\n",
    "if filename not in sys.path:\n",
    "    sys.path.append(root_path)\n",
    "\n",
    "from agents.CNN_Agent import CNN_Agent\n",
    "from agents.DoubleModel_DQN import DoubleModel_DQN\n",
    "from agents.HuntTarget_Agent import HuntTargetAgent\n",
    "from agents.SingleModel_DQN import DQN_Agent\n",
    "from agents.MC_Agent import MCAgent\n",
    "from agents.MCTS_Agent import MCTS_Battleship\n",
    "from agents.util import train_data_process, agent_test, single_frame_viz\n",
    "from agents.util import game_viz"
   ]
  },
  {
   "cell_type": "code",
   "execution_count": 74,
   "metadata": {},
   "outputs": [
    {
     "data": {
      "text/html": [
       "<script>\n",
       "code_show=true; \n",
       "function code_toggle() {\n",
       " if (code_show){\n",
       " $('div.input').hide();\n",
       " } else {\n",
       " $('div.input').show();\n",
       " }\n",
       " code_show = !code_show\n",
       "} \n",
       "$( document ).ready(code_toggle);\n",
       "</script>\n",
       "<form action=\"javascript:code_toggle()\"><input type=\"submit\" value=\"Click here to toggle on/off the raw code.\"></form>"
      ],
      "text/plain": [
       "<IPython.core.display.HTML object>"
      ]
     },
     "execution_count": 74,
     "metadata": {},
     "output_type": "execute_result"
    }
   ],
   "source": [
    "from IPython.display import HTML\n",
    "\n",
    "HTML('''<script>\n",
    "code_show=true; \n",
    "function code_toggle() {\n",
    " if (code_show){\n",
    " $('div.input').hide();\n",
    " } else {\n",
    " $('div.input').show();\n",
    " }\n",
    " code_show = !code_show\n",
    "} \n",
    "$( document ).ready(code_toggle);\n",
    "</script>\n",
    "<form action=\"javascript:code_toggle()\"><input type=\"submit\" value=\"Click here to toggle on/off the raw code.\"></form>''')"
   ]
  },
  {
   "cell_type": "code",
   "execution_count": 3,
   "metadata": {
    "ExecuteTime": {
     "end_time": "2020-11-07T03:19:34.130259Z",
     "start_time": "2020-11-07T03:19:34.110246Z"
    }
   },
   "outputs": [],
   "source": [
    "# def agent_test(agent, env, game_rounds, agent_name='battleship', model_agent=False, log_save=False):\n",
    "#     step_record = []\n",
    "#     reward_record = []\n",
    "#     data_dict ={}\n",
    "#     for i in tqdm(range(game_rounds)):\n",
    "#         if agent.log_saving:\n",
    "#             agent.reset_log()\n",
    "#         total_step, reward = agent.test(env)\n",
    "#         step_record += [total_step]\n",
    "#         reward_record += [reward]\n",
    "#         if log_save:\n",
    "#             data_dict[i] ={'observations': agent.obs_hist, \n",
    "#                            'target': env.board.map.flatten(), \n",
    "#                            'shot':agent.shot_log}\n",
    "#             if model_agent:\n",
    "#                 data_dict[i]['shot']=agent.shot_log\n",
    "#                 data_dict[i]['model_estimates']=agent.model_estimates\n",
    "                \n",
    "            \n",
    "#     result_df = pd.DataFrame({'AgentName':[agent_name]*len(step_record),\n",
    "#                                        'steps':step_record,\n",
    "#                                        'reward':reward_record})\n",
    "#     return result_df, data_dict"
   ]
  },
  {
   "cell_type": "markdown",
   "metadata": {},
   "source": [
    "## Game Intro & Environment Setup\n",
    "\n",
    "The battleship is a very classic board game with very intuitive rules. This is a 2 players game. For each player, s/he have a 10*10 board to place the fleet and then claim shots on the other players boards. The goal is simply to sink all your opponent's ship.\n",
    "\n",
    "\n",
    "For example, with the classic rules, there are five ships on board as follows:\n",
    "\n",
    "![Battleship Board](images\\board.png)\n",
    "\n",
    "Typically, these five ships above are:\n",
    "* Aircraft Carrier (Size 5)\n",
    "* Battleship (Size 4)\n",
    "* Submarine (Size 3)\n",
    "* Cruiser (Size 3)\n",
    "* Destroyer\t (Size 2)\n",
    "\n",
    "\n",
    "Thoughthis is a two players game, Clearly, we could convert this problem to finish the game with smallest number of shot. As long as you could finish the game fast, you will have higher chance to win the game. "
   ]
  },
  {
   "cell_type": "code",
   "execution_count": 2,
   "metadata": {
    "ExecuteTime": {
     "end_time": "2020-11-03T15:02:51.647582Z",
     "start_time": "2020-11-03T15:02:51.628578Z"
    }
   },
   "outputs": [],
   "source": [
    "env = gym.make('battleshipBasic-v0',board_shape=(10,10), verbose=False)\n",
    "obs = env.step(20)\n",
    "obs = env.step(45)\n",
    "obs = env.step(47)"
   ]
  },
  {
   "cell_type": "markdown",
   "metadata": {},
   "source": [
    "Regarding my program, I set up my game with Open AI API. My environment will take shot as the input of each step and return observations in 2D or 3D.\n",
    "\n",
    "__Sample Observation 2D__\n",
    "\n",
    "In this type of observation return, 0 means unexplored cells, 1 means miss and 2 means hit. In the sample result below, we have placed 3 shots and 1 of 3 hit the target.\n"
   ]
  },
  {
   "cell_type": "code",
   "execution_count": 57,
   "metadata": {
    "ExecuteTime": {
     "end_time": "2020-11-03T15:56:42.371935Z",
     "start_time": "2020-11-03T15:56:42.355923Z"
    }
   },
   "outputs": [
    {
     "name": "stdout",
     "output_type": "stream",
     "text": [
      "[[0. 0. 0. 0. 0. 0. 0. 0. 0. 0.]\n",
      " [0. 0. 0. 0. 0. 0. 0. 0. 0. 0.]\n",
      " [1. 0. 0. 0. 0. 0. 0. 1. 0. 0.]\n",
      " [0. 0. 0. 0. 2. 0. 0. 0. 0. 0.]\n",
      " [1. 2. 2. 2. 2. 2. 1. 1. 0. 0.]\n",
      " [0. 0. 0. 0. 0. 1. 0. 0. 0. 0.]\n",
      " [0. 0. 0. 0. 0. 0. 0. 0. 0. 0.]\n",
      " [0. 0. 0. 0. 0. 0. 0. 0. 0. 0.]\n",
      " [0. 0. 0. 0. 0. 0. 0. 0. 0. 0.]\n",
      " [0. 0. 0. 0. 0. 0. 0. 0. 0. 0.]]\n"
     ]
    }
   ],
   "source": [
    "\n",
    "obs = env.step(34)\n",
    "print(obs[0])"
   ]
  },
  {
   "cell_type": "markdown",
   "metadata": {},
   "source": [
    "### Simulation board setting"
   ]
  },
  {
   "cell_type": "markdown",
   "metadata": {},
   "source": [
    "__Sample Observation 3D__\n",
    "\n",
    "In this type of observation return, there are 3 matrcies that represents explored, misses and hits. "
   ]
  },
  {
   "cell_type": "code",
   "execution_count": 7,
   "metadata": {
    "ExecuteTime": {
     "end_time": "2020-11-03T04:08:59.826059Z",
     "start_time": "2020-11-03T04:08:59.813056Z"
    }
   },
   "outputs": [],
   "source": [
    "env = gym.make('battleshipBasic-v0',board_shape=(10,10), verbose=False, obs_3d=True)\n",
    "obs = env.step(20)\n",
    "obs = env.step(45)\n",
    "obs = env.step(47)"
   ]
  },
  {
   "cell_type": "markdown",
   "metadata": {},
   "source": [
    "__Explored or Not Matrix__: In this observation, we have placed 3 shots already."
   ]
  },
  {
   "cell_type": "code",
   "execution_count": 8,
   "metadata": {
    "ExecuteTime": {
     "end_time": "2020-11-03T04:09:01.598170Z",
     "start_time": "2020-11-03T04:09:01.592169Z"
    }
   },
   "outputs": [
    {
     "name": "stdout",
     "output_type": "stream",
     "text": [
      "[[0. 0. 0. 0. 0. 0. 0. 0. 0. 0.]\n",
      " [0. 0. 0. 0. 0. 0. 0. 0. 0. 0.]\n",
      " [1. 0. 0. 0. 0. 0. 0. 0. 0. 0.]\n",
      " [0. 0. 0. 0. 0. 0. 0. 0. 0. 0.]\n",
      " [0. 0. 0. 0. 0. 1. 0. 1. 0. 0.]\n",
      " [0. 0. 0. 0. 0. 0. 0. 0. 0. 0.]\n",
      " [0. 0. 0. 0. 0. 0. 0. 0. 0. 0.]\n",
      " [0. 0. 0. 0. 0. 0. 0. 0. 0. 0.]\n",
      " [0. 0. 0. 0. 0. 0. 0. 0. 0. 0.]\n",
      " [0. 0. 0. 0. 0. 0. 0. 0. 0. 0.]]\n"
     ]
    }
   ],
   "source": [
    "print(obs[0][...,0])"
   ]
  },
  {
   "cell_type": "markdown",
   "metadata": {},
   "source": [
    "__Miss or Not Matrix__: In this observation, 2 of our shots misses the target"
   ]
  },
  {
   "cell_type": "code",
   "execution_count": 9,
   "metadata": {
    "ExecuteTime": {
     "end_time": "2020-11-03T04:09:03.404214Z",
     "start_time": "2020-11-03T04:09:03.398222Z"
    }
   },
   "outputs": [
    {
     "name": "stdout",
     "output_type": "stream",
     "text": [
      "[[0. 0. 0. 0. 0. 0. 0. 0. 0. 0.]\n",
      " [0. 0. 0. 0. 0. 0. 0. 0. 0. 0.]\n",
      " [0. 0. 0. 0. 0. 0. 0. 0. 0. 0.]\n",
      " [0. 0. 0. 0. 0. 0. 0. 0. 0. 0.]\n",
      " [0. 0. 0. 0. 0. 1. 0. 1. 0. 0.]\n",
      " [0. 0. 0. 0. 0. 0. 0. 0. 0. 0.]\n",
      " [0. 0. 0. 0. 0. 0. 0. 0. 0. 0.]\n",
      " [0. 0. 0. 0. 0. 0. 0. 0. 0. 0.]\n",
      " [0. 0. 0. 0. 0. 0. 0. 0. 0. 0.]\n",
      " [0. 0. 0. 0. 0. 0. 0. 0. 0. 0.]]\n"
     ]
    }
   ],
   "source": [
    "print(obs[0][...,1])"
   ]
  },
  {
   "cell_type": "markdown",
   "metadata": {},
   "source": [
    "__Hit or Not Matrix__: In this observation, 1 of our shots hits the target"
   ]
  },
  {
   "cell_type": "code",
   "execution_count": 10,
   "metadata": {
    "ExecuteTime": {
     "end_time": "2020-11-03T04:09:04.801119Z",
     "start_time": "2020-11-03T04:09:04.781106Z"
    }
   },
   "outputs": [
    {
     "name": "stdout",
     "output_type": "stream",
     "text": [
      "[[0. 0. 0. 0. 0. 0. 0. 0. 0. 0.]\n",
      " [0. 0. 0. 0. 0. 0. 0. 0. 0. 0.]\n",
      " [1. 0. 0. 0. 0. 0. 0. 0. 0. 0.]\n",
      " [0. 0. 0. 0. 0. 0. 0. 0. 0. 0.]\n",
      " [0. 0. 0. 0. 0. 0. 0. 0. 0. 0.]\n",
      " [0. 0. 0. 0. 0. 0. 0. 0. 0. 0.]\n",
      " [0. 0. 0. 0. 0. 0. 0. 0. 0. 0.]\n",
      " [0. 0. 0. 0. 0. 0. 0. 0. 0. 0.]\n",
      " [0. 0. 0. 0. 0. 0. 0. 0. 0. 0.]\n",
      " [0. 0. 0. 0. 0. 0. 0. 0. 0. 0.]]\n"
     ]
    }
   ],
   "source": [
    "print(obs[0][...,2])"
   ]
  },
  {
   "cell_type": "markdown",
   "metadata": {},
   "source": [
    "## Random Agent\n",
    "\n",
    "This type of agent will keep placing random shots till game ends. This agent takes ~96 steps to finish a game on average"
   ]
  },
  {
   "cell_type": "code",
   "execution_count": 5,
   "metadata": {
    "ExecuteTime": {
     "end_time": "2020-11-06T21:18:01.542572Z",
     "start_time": "2020-11-06T21:18:01.528569Z"
    }
   },
   "outputs": [],
   "source": [
    "class RandomAgent(object):\n",
    "    def __init__(self, verbose=False, log_saving= False):\n",
    "        self.verbose = verbose\n",
    "        self.log_saving= log_saving\n",
    "        self.obs_hist= None\n",
    "        self.shot_log = []\n",
    "        \n",
    "    def action(self, obs):\n",
    "        i,j = np.nonzero(np.nan_to_num(obs / obs)-1)\n",
    "        idx = np.random.choice(len(i), 1, replace=False)     \n",
    "        if self.verbose:\n",
    "            print('remaining space', len(i))\n",
    "        return i[idx[0]], j[idx[0]]\n",
    "    \n",
    "\n",
    "    def reset_log(self):\n",
    "        self.obs_hist = None\n",
    "        self.shot_log = []\n",
    "        \n",
    "    def test(self, env):\n",
    "        obs, done, ep_reward = env.reset(), False, 0\n",
    "        i = 0 \n",
    "        while not done:\n",
    "            i +=1\n",
    "            y, x = self.action(obs)\n",
    "            action = y*env.shape[0]+x\n",
    "#             print('current shot {} with original y {} x {}'.format(action, y, x))\n",
    "            obs, reward, done,_ = env.step(action)\n",
    "            if self.log_saving:\n",
    "                if i == 1:\n",
    "                    self.obs_hist = obs.flatten()\n",
    "                    self.shot_log  = [action]\n",
    "                else:\n",
    "                    self.obs_hist = np.vstack([self.obs_hist, obs.flatten()])\n",
    "                    self.shot_log  += [action]\n",
    "            ep_reward += reward\n",
    "        return i, ep_reward           \n",
    "            "
   ]
  },
  {
   "cell_type": "code",
   "execution_count": 5,
   "metadata": {
    "ExecuteTime": {
     "end_time": "2020-11-06T21:21:53.653560Z",
     "start_time": "2020-11-06T21:21:53.642558Z"
    }
   },
   "outputs": [],
   "source": []
  },
  {
   "cell_type": "code",
   "execution_count": 7,
   "metadata": {
    "ExecuteTime": {
     "end_time": "2020-11-06T21:18:24.959207Z",
     "start_time": "2020-11-06T21:18:20.447002Z"
    }
   },
   "outputs": [
    {
     "name": "stderr",
     "output_type": "stream",
     "text": [
      "  0%|                                                                                                                                                                                                                                                                                         | 0/500 [00:00<?, ?it/s]C:\\Users\\Muxi\\Anaconda3\\lib\\site-packages\\ipykernel_launcher.py:9: RuntimeWarning: invalid value encountered in true_divide\n",
      "  if __name__ == '__main__':\n",
      "100%|██████████████████████████████████████████████████████████████████████████████████████████████████████████████████████████████████████████████████████████████████████████████████████████████████████████████████████████████████████████████████████████████████████████████| 500/500 [00:04<00:00, 112.10it/s]\n"
     ]
    }
   ],
   "source": [
    "env = gym.make('battleshipBasic-v0',board_shape=(10,10), verbose=False)\n",
    "RandomAgent1 = RandomAgent(verbose=False, log_saving=True)\n",
    "RandomAgent_GameRecord,_ =\\\n",
    "    agent_test(agent=RandomAgent1, \n",
    "               env=env, \n",
    "               game_rounds=500, \n",
    "               agent_name='RandomAgent', \n",
    "               model_agent=False, \n",
    "               log_save=False)\n",
    "\n",
    "RandomAgent_GameRecord.to_csv(r'c:\\temp\\RandomAgentResult.csv')"
   ]
  },
  {
   "cell_type": "code",
   "execution_count": 62,
   "metadata": {
    "ExecuteTime": {
     "end_time": "2020-11-07T06:16:07.502619Z",
     "start_time": "2020-11-07T06:16:07.117449Z"
    }
   },
   "outputs": [
    {
     "data": {
      "text/plain": [
       "0.008920606601248885"
      ]
     },
     "execution_count": 62,
     "metadata": {},
     "output_type": "execute_result"
    }
   ],
   "source": [
    "1/112.10"
   ]
  },
  {
   "cell_type": "code",
   "execution_count": 8,
   "metadata": {
    "ExecuteTime": {
     "end_time": "2020-11-06T21:14:48.321046Z",
     "start_time": "2020-11-06T21:14:48.310053Z"
    }
   },
   "outputs": [
    {
     "name": "stdout",
     "output_type": "stream",
     "text": [
      "average steps uses is 95.472\n"
     ]
    }
   ],
   "source": [
    "print('average steps uses is {}'.format(RandomAgent_GameRecord['steps'].mean()))"
   ]
  },
  {
   "cell_type": "code",
   "execution_count": 87,
   "metadata": {},
   "outputs": [],
   "source": [
    "env = gym.make('battleshipBasic-v0',board_shape=(10,10), verbose=False)\n",
    "RanddomAgent1 = RandomAgent(verbose=False, log_saving=True)\n",
    "_, RandomAgent_game_log =\\\n",
    "    agent_test(agent=RanddomAgent1, \n",
    "               env=env, \n",
    "               game_rounds=10, \n",
    "               agent_name='RandomAgent', \n",
    "               model_agent=False, \n",
    "               log_save=True)"
   ]
  },
  {
   "cell_type": "code",
   "execution_count": 63,
   "metadata": {},
   "outputs": [],
   "source": [
    "random_agent_game = game_viz(board_shape=(10,10),agent_name='RandomAgent', \n",
    "                           game_hist=RandomAgent_game_log[1],\n",
    "                           anim_flag=True,\n",
    "                           obs_3d=False,\n",
    "                            label_c='white')"
   ]
  },
  {
   "cell_type": "markdown",
   "metadata": {},
   "source": [
    "![SegmentLocal](images\\RandomAgent_Game.gif \"segment\")"
   ]
  },
  {
   "cell_type": "markdown",
   "metadata": {},
   "source": [
    "## Hunt & Target Agent\n",
    "\n",
    "This type of agent will do following:\n",
    "\n",
    "* Place random shot as search\n",
    "* Once hit, the explore all nearby cells. If exhuast all nearby cells, back to step 1.\n",
    "\n",
    "This type of agent takes aroudn 66 steps on average to finish a game.\n"
   ]
  },
  {
   "cell_type": "code",
   "execution_count": 45,
   "metadata": {
    "ExecuteTime": {
     "end_time": "2020-11-07T02:37:05.930521Z",
     "start_time": "2020-11-07T02:37:05.916520Z"
    }
   },
   "outputs": [],
   "source": [
    "class HuntTargetAgent(object):\n",
    "    def __init__(self, board_shape, verbose=False, log_saving= False):\n",
    "        self.verbose = verbose\n",
    "        self.shape = board_shape\n",
    "        self.log_saving= log_saving\n",
    "        self.obs_hist= None\n",
    "        self.strategy_mode = 'S' # initialize to S as \n",
    "        self.hunt_queue = []\n",
    "        self.shot_log = []\n",
    "        self.prev_obs = np.zeros([self.shape[0], self.shape[1]], dtype=np.int16)\n",
    "        self.neighbour_moves = [(-1,0),(1,0),(0,1),(0,-1)]\n",
    "        \n",
    "    def reset_log(self):\n",
    "        self.shot_log = []\n",
    "        self.obs_hist= None        \n",
    "        \n",
    "        \n",
    "    def add_hunt_queue(self, obs):\n",
    "#         print(obs.shape, self.prev_obs.shape)\n",
    "        hit_info = obs - self.prev_obs\n",
    "        # if the new hit cell has value >1, we've got a hit\n",
    "        \n",
    "        hit_cell = np.where(hit_info>1)\n",
    "        hit_cell = list(zip(hit_cell[0],hit_cell[1]))\n",
    "        if len(hit_cell) ==1:\n",
    "            if self.verbose:\n",
    "                print('there is hit start add hunt list')\n",
    "            hit_cell = hit_cell[0]\n",
    "            for move in self.neighbour_moves:\n",
    "                new_cell = (hit_cell[0] + move[0], hit_cell[1] + move[1])\n",
    "                if (new_cell[0] <self.shape[0]) and (new_cell[1] <self.shape[0]) and  (new_cell[0] >=0)\\\n",
    "                and (new_cell[1] >=0) and (obs[new_cell[0]][new_cell[1]] == 0) and  (new_cell not in self.hunt_queue):\n",
    "                    self.hunt_queue.append(new_cell)\n",
    "            if self.verbose:\n",
    "                print('current queue is {}'.format(self.hunt_queue))\n",
    "                \n",
    "    def action(self, obs):\n",
    "        if len(obs.shape) == 3:\n",
    "            obs = obs[...,0] + obs[...,2] # flatten the inputs            \n",
    "        self.add_hunt_queue(obs)\n",
    "        if len(self.hunt_queue) > 0:\n",
    "            self.strategy_mode = 'H'\n",
    "            next_move = self.hunt_queue[0]\n",
    "            self.hunt_queue = self.hunt_queue[1:] \n",
    "            return  next_move[0], next_move[1]\n",
    "        else:\n",
    "            self.startegy_mode = 'S'\n",
    "            i,j = np.nonzero(np.nan_to_num(obs / obs)-1)\n",
    "            idx = np.random.choice(len(i), 1, replace=False)     \n",
    "            if self.verbose:\n",
    "                print('remaining space', len(i))\n",
    "#             self.pre_obs = obs # update hist            \n",
    "            return i[idx[0]], j[idx[0]]\n",
    "    \n",
    "    def test(self, env):\n",
    "        obs, done, ep_reward = env.reset(), False, 0\n",
    "        i = 0 \n",
    "        while not done:\n",
    "            i +=1\n",
    "            y, x = self.action(obs)\n",
    "            if len(obs.shape) == 3:\n",
    "                obs = obs[...,0] + obs[...,2] # flatten the inputs \n",
    "            self.prev_obs = obs\n",
    "            action = y*env.shape[0]+x            \n",
    "            obs, reward, done,_ = env.step(action)            \n",
    "            if self.log_saving:\n",
    "                if i == 1:\n",
    "                    self.obs_hist = obs.reshape((1,)+obs.shape)\n",
    "                    self.shot_log = [action]\n",
    "                else:\n",
    "#                     print(self.obs_hist.shape,obs.reshape((1,)+obs.shape).shape )\n",
    "                    self.obs_hist = np.concatenate([self.obs_hist, obs.reshape((1,)+obs.shape)])\n",
    "                    self.shot_log += [action]\n",
    "            ep_reward += reward\n",
    "        return i, ep_reward    \n",
    "\n",
    "    def reset_log(self):\n",
    "        self.obs_hist = None\n",
    "        self.shot_log = []\n",
    "            \n",
    "            \n",
    "            "
   ]
  },
  {
   "cell_type": "code",
   "execution_count": 55,
   "metadata": {
    "ExecuteTime": {
     "end_time": "2020-11-07T02:47:22.857897Z",
     "start_time": "2020-11-07T02:47:22.767868Z"
    }
   },
   "outputs": [
    {
     "name": "stderr",
     "output_type": "stream",
     "text": [
      "  0%|                                                                                                                                                                                                                                                                                          | 0/10 [00:00<?, ?it/s]C:\\Users\\Muxi\\Anaconda3\\lib\\site-packages\\ipykernel_launcher.py:47: RuntimeWarning: invalid value encountered in true_divide\n",
      "100%|████████████████████████████████████████████████████████████████████████████████████████████████████████████████████████████████████████████████████████████████████████████████████████████████████████████████████████████████████████████████████████████████████████████████| 10/10 [00:00<00:00, 153.79it/s]"
     ]
    },
    {
     "name": "stdout",
     "output_type": "stream",
     "text": [
      "(52, 10, 10, 3)\n"
     ]
    },
    {
     "name": "stderr",
     "output_type": "stream",
     "text": [
      "\n"
     ]
    }
   ],
   "source": [
    "env = gym.make('battleshipBasic-v0',board_shape=(10,10), verbose=False, obs_3d=True)\n",
    "HuntTargetAgent1 = HuntTargetAgent(board_shape=(10,10), verbose=False, log_saving=True)\n",
    "HuntTargetAgent_GameRecord,SearchHunt_GameDict =\\\n",
    "    agent_test(agent=HuntTargetAgent1, \n",
    "               env=env, \n",
    "               game_rounds=10, \n",
    "               agent_name='SearchHuntAgent', \n",
    "               model_agent=False, \n",
    "               log_save=True)\n",
    "print(SearchHunt_GameDict[0]['observations'].shape)\n",
    "# with open(r'.\\..\\data\\huntSearch_agentGames.pickle', 'wb') as handle:\n",
    "#     pickle.dump(SearchHunt_GameDict, handle, protocol=pickle.HIGHEST_PROTOCOL)\n",
    "# HuntTargetAgent_GameRecord.to_csv(r'c:\\temp\\HuntTargetAgentResult.csv')"
   ]
  },
  {
   "cell_type": "code",
   "execution_count": 63,
   "metadata": {
    "ExecuteTime": {
     "end_time": "2020-11-07T06:16:29.182982Z",
     "start_time": "2020-11-07T06:16:29.168979Z"
    }
   },
   "outputs": [
    {
     "data": {
      "text/plain": [
       "0.006502373366278692"
      ]
     },
     "execution_count": 63,
     "metadata": {},
     "output_type": "execute_result"
    }
   ],
   "source": [
    "1/153.79"
   ]
  },
  {
   "cell_type": "code",
   "execution_count": 56,
   "metadata": {
    "ExecuteTime": {
     "end_time": "2020-11-07T02:47:44.877299Z",
     "start_time": "2020-11-07T02:47:44.718254Z"
    }
   },
   "outputs": [
    {
     "data": {
      "image/png": "[encoded data removed]",
      "text/plain": [
       "<Figure size 576x576 with 1 Axes>"
      ]
     },
     "metadata": {},
     "output_type": "display_data"
    }
   ],
   "source": [
    "SModel_framer = single_frame_viz(5,game_hist=SearchHunt_GameDict[2],  \n",
    "                                 model_obj=None, \n",
    "                                 obs_3d=True,                         \n",
    "                                 model_agent=False,\n",
    "                                 board_shape=(10,10), \n",
    "                                 value_range=(-1,1),title='Turn #6',\n",
    "                                 label_c='white' )\n"
   ]
  },
  {
   "cell_type": "code",
   "execution_count": 61,
   "metadata": {
    "ExecuteTime": {
     "end_time": "2020-11-07T02:48:46.657791Z",
     "start_time": "2020-11-07T02:48:46.490752Z"
    }
   },
   "outputs": [
    {
     "data": {
      "image/png": "[encoded data removed]",
      "text/plain": [
       "<Figure size 576x576 with 1 Axes>"
      ]
     },
     "metadata": {},
     "output_type": "display_data"
    }
   ],
   "source": [
    "SModel_framer = single_frame_viz(6,game_hist=SearchHunt_GameDict[2],  \n",
    "                                 model_obj=None, \n",
    "                                 obs_3d=True,                         \n",
    "                                 model_agent=False,\n",
    "                                 board_shape=(10,10), \n",
    "                                 value_range=(-1,1),title='Turn #7',\n",
    "                                 label_c='white' )\n"
   ]
  },
  {
   "cell_type": "code",
   "execution_count": 59,
   "metadata": {
    "ExecuteTime": {
     "end_time": "2020-11-07T02:48:12.620004Z",
     "start_time": "2020-11-07T02:48:12.463074Z"
    }
   },
   "outputs": [
    {
     "data": {
      "image/png": "[encoded data removed]",
      "text/plain": [
       "<Figure size 576x576 with 1 Axes>"
      ]
     },
     "metadata": {},
     "output_type": "display_data"
    }
   ],
   "source": [
    "SModel_framer = single_frame_viz(7,game_hist=SearchHunt_GameDict[2],  \n",
    "                                 model_obj=None, \n",
    "                                 obs_3d=True,                         \n",
    "                                 model_agent=False,\n",
    "                                 board_shape=(10,10), \n",
    "                                 value_range=(-1,1),title='Turn #8',\n",
    "                                 label_c='white' )\n"
   ]
  },
  {
   "cell_type": "code",
   "execution_count": 62,
   "metadata": {
    "ExecuteTime": {
     "end_time": "2020-11-07T02:49:16.448506Z",
     "start_time": "2020-11-07T02:49:16.272467Z"
    }
   },
   "outputs": [
    {
     "data": {
      "image/png": "[encoded data removed]",
      "text/plain": [
       "<Figure size 576x576 with 1 Axes>"
      ]
     },
     "metadata": {},
     "output_type": "display_data"
    }
   ],
   "source": [
    "SModel_framer = single_frame_viz(8,game_hist=SearchHunt_GameDict[2],  \n",
    "                                 model_obj=None, \n",
    "                                 obs_3d=True,                         \n",
    "                                 model_agent=False,\n",
    "                                 board_shape=(10,10), \n",
    "                                 value_range=(-1,1),title='Turn #9',\n",
    "                                 label_c='white' )\n"
   ]
  },
  {
   "cell_type": "code",
   "execution_count": 11,
   "metadata": {
    "ExecuteTime": {
     "end_time": "2020-11-06T21:15:38.285627Z",
     "start_time": "2020-11-06T21:15:38.271634Z"
    }
   },
   "outputs": [
    {
     "name": "stdout",
     "output_type": "stream",
     "text": [
      "average steps uses is 66.328\n"
     ]
    }
   ],
   "source": [
    "# SearchHunt_GameRecord.to_csv(r'c:\\temp\\searchtarget_result.csv')\n",
    "print('average steps uses is {}'.format(HuntTargetAgent_GameRecord['steps'].mean()))"
   ]
  },
  {
   "cell_type": "code",
   "execution_count": 88,
   "metadata": {},
   "outputs": [],
   "source": [
    "# SearchHunt_game = game_viz(board_shape=(10,10),agent_name='hunt_target_agent', \n",
    "#                            game_hist=SearchHunt_GameDict[1],\n",
    "#                            anim_flag=True,                           \n",
    "#                            obs_3d=True,\n",
    "#                             label_c='white' )"
   ]
  },
  {
   "cell_type": "markdown",
   "metadata": {},
   "source": [
    "![SegmentLocal](images\\hunt_target_agent_Game2.gif \"segment\")"
   ]
  },
  {
   "cell_type": "markdown",
   "metadata": {},
   "source": [
    "## CNN Agent\n",
    "\n",
    "Another methodology to estimate the probability that there is a ship in a specific cell. Following picture shows the main ideas of this methodology.\n",
    "\n",
    "![Probability Density Function](images\\probDensityFunc.png)\n",
    "\n",
    "There are many ways to calculate the probability. What I implented is to use a CNN model to predict this.\n",
    "\n",
    "\n",
    "__Input__: the 3D observation from the environment\n",
    "\n",
    "__target__:\n",
    "\n",
    "\n",
    "| 0|1 |2|3|4|5|6|\n",
    "| --- | --- | --- | --- | --- | --- | --- |\n",
    "| 1 | 0 | 0 | 0 | 0 |0 | 0 |\n",
    "| 1 | 0 | 2 | 0 | 0 |3 | 0 |\n",
    "| 1 | 0 | 2 | 0 | 0 |3 | 0 |\n",
    "| 1 | 0 | 2 | 0 | 0 |3 | 0 |\n",
    "| 1 | 0 | 2 | 0 | 0 |0 | 0 |\n",
    "\n",
    "In addition, we don't need to know whether the ship is a n aircraft carrier or a battle ship. So I further convert this table to 0-1.  Then we have a typical classification problem."
   ]
  },
  {
   "cell_type": "code",
   "execution_count": 58,
   "metadata": {
    "ExecuteTime": {
     "end_time": "2020-11-07T03:53:07.346437Z",
     "start_time": "2020-11-07T03:53:07.327424Z"
    }
   },
   "outputs": [],
   "source": [
    "class CNN_Agent(object):\n",
    "    def __init__(self, env=None, trained_model=None, log_saving=False):\n",
    "        self.log_saving = log_saving\n",
    "        self.obs_hist = None\n",
    "        self.model_estimates = None\n",
    "        self.shot_log = []\n",
    "        if env is None:\n",
    "            self.env = gym.make('battleshipBasic-v0', board_shape=(10, 10), verbose=False)\n",
    "        else:\n",
    "            self.env = env\n",
    "        if trained_model is not None:\n",
    "            self.model = trained_model\n",
    "        else:\n",
    "            if self.env.obs_3d:\n",
    "                self.model = self.define_model(self.env.observation_space.shape)\n",
    "            else:\n",
    "                self.model = self.define_model(self.env.observation_space.shape +(1,))\n",
    "                \n",
    "    def reset_log(self):\n",
    "        self.obs_hist = None\n",
    "        self.model_estimates = None\n",
    "        self.shot_log = []\n",
    "        \n",
    "\n",
    "    def define_model(self, input_shape):\n",
    "        X_input = Input(input_shape)\n",
    "        X = ZeroPadding2D((3, 3))(X_input)\n",
    "        X = Conv2D(32, (7, 7), strides=(1, 1), name='conv0')(X)\n",
    "        X = BatchNormalization(axis=3, name='bn0')(X)\n",
    "        X = Activation('relu')(X)\n",
    "        X = MaxPooling2D((2, 2), name='max_pool')(X)\n",
    "        # FLATTEN X (means convert it to a vector) + FULLYCONNECTED\n",
    "        X = Flatten()(X)\n",
    "        X = Dense(100, activation='sigmoid', name='fc')(X)\n",
    "        # Create model. This creates your Keras model instance, you'll use this instance to train/test the model.\n",
    "        model = Model(inputs=X_input, outputs=X, name='HappyModel')\n",
    "        model.compile(loss='binary_cross_entropy', optimizer=Adam(lr=1e-3))\n",
    "        return model\n",
    "\n",
    "    def train(self, train_x, train_y,batch_size, epochs):\n",
    "        self.model.fit(train_x, train_y,\n",
    "                       batch_size=batch_size,\n",
    "                       epochs=epochs, verbose=2)\n",
    "\n",
    "    def act(self, obs):\n",
    "        act_values = self.model.predict(obs.reshape((1,) + self.env.observation_space.shape))[0]\n",
    "        if self.log_saving:\n",
    "            if self.model_estimates is None:\n",
    "                self.model_estimates = act_values.reshape((1,) + act_values.shape)\n",
    "            else:\n",
    "                self.model_estimates = np.concatenate([self.model_estimates, act_values.reshape((1,) + act_values.shape)])\n",
    "        if len(obs.shape) == 3:\n",
    "            obs = obs[..., 0] + obs[..., 2]\n",
    "        flatten_obs = obs.flatten()\n",
    "        act_values[flatten_obs > 0] = -1  # assign shoot position as -1\n",
    "        return np.argmax(act_values)\n",
    "\n",
    "    def test(self, env):\n",
    "        obs, done, ep_reward = env.reset(), False, 0\n",
    "        i = 0\n",
    "        while not done:\n",
    "            i += 1\n",
    "            #             print(i, obs.shape)\n",
    "            action = self.act(obs)\n",
    "            self.prev_obs = obs\n",
    "            #             print(i, action)\n",
    "            #             action = y*env.shape[0]+x\n",
    "            obs, reward, done, _ = env.step(action)\n",
    "            if self.log_saving:\n",
    "                if i == 1:\n",
    "                    self.obs_hist = obs.reshape((1,) + obs.shape)\n",
    "                    self.shot_log = [action]\n",
    "                else:\n",
    "                    #                     print(self.obs_hist.shape,obs.reshape((1,)+obs.shape).shape )\n",
    "                    self.obs_hist = np.concatenate([self.obs_hist, obs.reshape((1,) + obs.shape)])\n",
    "                    self.shot_log += [action]\n",
    "            ep_reward += reward\n",
    "        return i, ep_reward"
   ]
  },
  {
   "cell_type": "code",
   "execution_count": 59,
   "metadata": {
    "ExecuteTime": {
     "end_time": "2020-11-07T03:53:44.318369Z",
     "start_time": "2020-11-07T03:53:12.341264Z"
    }
   },
   "outputs": [
    {
     "name": "stderr",
     "output_type": "stream",
     "text": [
      "\n",
      "  0%|                                                                                                                                                                                                                                                                                         | 0/500 [00:00<?, ?it/s]\u001b[A\n",
      "  0%|▌                                                                                                                                                                                                                                                                                | 1/500 [00:01<08:29,  1.02s/it]\u001b[A\n",
      "  1%|█▋                                                                                                                                                                                                                                                                               | 3/500 [00:01<06:05,  1.36it/s]\u001b[A\n",
      "  1%|██▋                                                                                                                                                                                                                                                                              | 5/500 [00:01<04:25,  1.86it/s]\u001b[A\n",
      "  1%|███▊                                                                                                                                                                                                                                                                             | 7/500 [00:01<03:14,  2.53it/s]\u001b[A\n",
      "  2%|████▉                                                                                                                                                                                                                                                                            | 9/500 [00:01<02:28,  3.31it/s]\u001b[A\n",
      "  2%|██████▌                                                                                                                                                                                                                                                                         | 12/500 [00:01<01:50,  4.42it/s]\u001b[A\n",
      "  3%|███████▌                                                                                                                                                                                                                                                                        | 14/500 [00:01<01:25,  5.71it/s]\u001b[A\n",
      "  3%|████████▋                                                                                                                                                                                                                                                                       | 16/500 [00:01<01:08,  7.12it/s]\u001b[A\n",
      "  4%|██████████▎                                                                                                                                                                                                                                                                     | 19/500 [00:02<00:55,  8.59it/s]\u001b[A\n",
      "  4%|███████████▍                                                                                                                                                                                                                                                                    | 21/500 [00:02<00:48,  9.85it/s]\u001b[A\n",
      "  5%|████████████▌                                                                                                                                                                                                                                                                   | 23/500 [00:02<00:42, 11.24it/s]\u001b[A\n",
      "  5%|█████████████▌                                                                                                                                                                                                                                                                  | 25/500 [00:02<00:37, 12.72it/s]\u001b[A\n",
      "  5%|██████████████▋                                                                                                                                                                                                                                                                 | 27/500 [00:02<00:33, 14.07it/s]\u001b[A\n",
      "  6%|███████████████▊                                                                                                                                                                                                                                                                | 29/500 [00:02<00:31, 14.82it/s]\u001b[A\n",
      "  6%|████████████████▊                                                                                                                                                                                                                                                               | 31/500 [00:02<00:30, 15.16it/s]\u001b[A\n",
      "  7%|█████████████████▉                                                                                                                                                                                                                                                              | 33/500 [00:02<00:29, 15.62it/s]\u001b[A\n",
      "  7%|███████████████████                                                                                                                                                                                                                                                             | 35/500 [00:03<00:28, 16.19it/s]\u001b[A\n",
      "  7%|████████████████████▏                                                                                                                                                                                                                                                           | 37/500 [00:03<00:27, 17.08it/s]\u001b[A\n",
      "  8%|█████████████████████▏                                                                                                                                                                                                                                                          | 39/500 [00:03<00:26, 17.21it/s]\u001b[A\n",
      "  8%|██████████████████████▎                                                                                                                                                                                                                                                         | 41/500 [00:03<00:27, 16.66it/s]\u001b[A\n",
      "  9%|███████████████████████▍                                                                                                                                                                                                                                                        | 43/500 [00:03<00:26, 17.31it/s]\u001b[A\n",
      "  9%|████████████████████████▍                                                                                                                                                                                                                                                       | 45/500 [00:03<00:27, 16.36it/s]\u001b[A\n",
      "  9%|█████████████████████████▌                                                                                                                                                                                                                                                      | 47/500 [00:03<00:27, 16.21it/s]\u001b[A\n",
      " 10%|███████████████████████████▏                                                                                                                                                                                                                                                    | 50/500 [00:03<00:25, 17.58it/s]\u001b[A\n",
      " 11%|████████████████████████████▊                                                                                                                                                                                                                                                   | 53/500 [00:04<00:23, 18.82it/s]\u001b[A\n",
      " 11%|█████████████████████████████▉                                                                                                                                                                                                                                                  | 55/500 [00:04<00:26, 16.79it/s]\u001b[A\n",
      " 11%|███████████████████████████████                                                                                                                                                                                                                                                 | 57/500 [00:04<00:25, 17.23it/s]\u001b[A\n",
      " 12%|████████████████████████████████                                                                                                                                                                                                                                                | 59/500 [00:04<00:27, 15.88it/s]\u001b[A\n",
      " 12%|█████████████████████████████████▏                                                                                                                                                                                                                                              | 61/500 [00:04<00:26, 16.42it/s]\u001b[A\n",
      " 13%|██████████████████████████████████▎                                                                                                                                                                                                                                             | 63/500 [00:04<00:25, 17.00it/s]\u001b[A\n",
      " 13%|███████████████████████████████████▎                                                                                                                                                                                                                                            | 65/500 [00:04<00:24, 17.43it/s]\u001b[A\n",
      " 14%|████████████████████████████████████▉                                                                                                                                                                                                                                           | 68/500 [00:04<00:23, 18.77it/s]\u001b[A\n",
      " 14%|██████████████████████████████████████                                                                                                                                                                                                                                          | 70/500 [00:05<00:22, 18.91it/s]\u001b[A\n",
      " 14%|███████████████████████████████████████▏                                                                                                                                                                                                                                        | 72/500 [00:05<00:22, 19.00it/s]\u001b[A\n",
      " 15%|████████████████████████████████████████▎                                                                                                                                                                                                                                       | 74/500 [00:05<00:22, 19.01it/s]\u001b[A\n",
      " 15%|█████████████████████████████████████████▎                                                                                                                                                                                                                                      | 76/500 [00:05<00:22, 18.86it/s]\u001b[A\n",
      " 16%|██████████████████████████████████████████▍                                                                                                                                                                                                                                     | 78/500 [00:05<00:23, 18.04it/s]\u001b[A\n",
      " 16%|███████████████████████████████████████████▌                                                                                                                                                                                                                                    | 80/500 [00:05<00:25, 16.56it/s]\u001b[A\n",
      " 16%|████████████████████████████████████████████▌                                                                                                                                                                                                                                   | 82/500 [00:05<00:24, 16.84it/s]\u001b[A\n",
      " 17%|██████████████████████████████████████████████▏                                                                                                                                                                                                                                 | 85/500 [00:05<00:22, 18.16it/s]\u001b[A\n",
      " 17%|███████████████████████████████████████████████▎                                                                                                                                                                                                                                | 87/500 [00:06<00:24, 17.14it/s]\u001b[A\n",
      " 18%|████████████████████████████████████████████████▍                                                                                                                                                                                                                               | 89/500 [00:06<00:23, 17.57it/s]\u001b[A\n",
      " 18%|█████████████████████████████████████████████████▌                                                                                                                                                                                                                              | 91/500 [00:06<00:24, 16.64it/s]\u001b[A\n",
      " 19%|██████████████████████████████████████████████████▌                                                                                                                                                                                                                             | 93/500 [00:06<00:23, 17.39it/s]\u001b[A\n",
      " 19%|███████████████████████████████████████████████████▋                                                                                                                                                                                                                            | 95/500 [00:06<00:24, 16.61it/s]\u001b[A\n",
      " 19%|████████████████████████████████████████████████████▊                                                                                                                                                                                                                           | 97/500 [00:06<00:24, 16.71it/s]\u001b[A\n",
      " 20%|█████████████████████████████████████████████████████▊                                                                                                                                                                                                                          | 99/500 [00:06<00:23, 17.35it/s]\u001b[A\n",
      " 20%|██████████████████████████████████████████████████████▋                                                                                                                                                                                                                        | 101/500 [00:06<00:23, 17.22it/s]\u001b[A\n",
      " 21%|███████████████████████████████████████████████████████▊                                                                                                                                                                                                                       | 103/500 [00:06<00:22, 17.87it/s]\u001b[A\n",
      " 21%|█████████████████████████████████████████████████████████▍                                                                                                                                                                                                                     | 106/500 [00:07<00:21, 18.63it/s]\u001b[A\n",
      " 22%|██████████████████████████████████████████████████████████▌                                                                                                                                                                                                                    | 108/500 [00:07<00:22, 17.61it/s]\u001b[A\n"
     ]
    },
    {
     "name": "stderr",
     "output_type": "stream",
     "text": [
      " 22%|███████████████████████████████████████████████████████████▌                                                                                                                                                                                                                   | 110/500 [00:07<00:22, 17.27it/s]\u001b[A\n",
      " 22%|████████████████████████████████████████████████████████████▋                                                                                                                                                                                                                  | 112/500 [00:07<00:25, 15.28it/s]\u001b[A\n",
      " 23%|█████████████████████████████████████████████████████████████▊                                                                                                                                                                                                                 | 114/500 [00:07<00:24, 15.49it/s]\u001b[A\n",
      " 23%|██████████████████████████████████████████████████████████████▊                                                                                                                                                                                                                | 116/500 [00:07<00:23, 16.13it/s]\u001b[A\n",
      " 24%|███████████████████████████████████████████████████████████████▉                                                                                                                                                                                                               | 118/500 [00:07<00:22, 16.78it/s]\u001b[A\n",
      " 24%|█████████████████████████████████████████████████████████████████                                                                                                                                                                                                              | 120/500 [00:07<00:22, 17.00it/s]\u001b[A\n",
      " 24%|██████████████████████████████████████████████████████████████████                                                                                                                                                                                                             | 122/500 [00:08<00:22, 16.52it/s]\u001b[A\n",
      " 25%|███████████████████████████████████████████████████████████████████▊                                                                                                                                                                                                           | 125/500 [00:08<00:20, 18.12it/s]\u001b[A\n",
      " 26%|█████████████████████████████████████████████████████████████████████▍                                                                                                                                                                                                         | 128/500 [00:08<00:19, 19.26it/s]\u001b[A\n",
      " 26%|██████████████████████████████████████████████████████████████████████▍                                                                                                                                                                                                        | 130/500 [00:08<00:21, 17.30it/s]\u001b[A\n",
      " 26%|███████████████████████████████████████████████████████████████████████▌                                                                                                                                                                                                       | 132/500 [00:08<00:21, 16.93it/s]\u001b[A\n",
      " 27%|████████████████████████████████████████████████████████████████████████▋                                                                                                                                                                                                      | 134/500 [00:08<00:22, 16.15it/s]\u001b[A\n",
      " 27%|█████████████████████████████████████████████████████████████████████████▋                                                                                                                                                                                                     | 136/500 [00:08<00:23, 15.51it/s]\u001b[A\n",
      " 28%|███████████████████████████████████████████████████████████████████████████▎                                                                                                                                                                                                   | 139/500 [00:09<00:21, 16.60it/s]\u001b[A\n",
      " 28%|████████████████████████████████████████████████████████████████████████████▍                                                                                                                                                                                                  | 141/500 [00:09<00:22, 16.06it/s]\u001b[A\n",
      " 29%|█████████████████████████████████████████████████████████████████████████████▌                                                                                                                                                                                                 | 143/500 [00:09<00:22, 16.04it/s]\u001b[A\n",
      " 29%|██████████████████████████████████████████████████████████████████████████████▌                                                                                                                                                                                                | 145/500 [00:09<00:21, 16.54it/s]\u001b[A\n",
      " 29%|███████████████████████████████████████████████████████████████████████████████▋                                                                                                                                                                                               | 147/500 [00:09<00:20, 17.05it/s]\u001b[A\n",
      " 30%|████████████████████████████████████████████████████████████████████████████████▊                                                                                                                                                                                              | 149/500 [00:09<00:22, 15.88it/s]\u001b[A\n",
      " 30%|█████████████████████████████████████████████████████████████████████████████████▊                                                                                                                                                                                             | 151/500 [00:09<00:21, 16.30it/s]\u001b[A\n",
      " 31%|██████████████████████████████████████████████████████████████████████████████████▉                                                                                                                                                                                            | 153/500 [00:09<00:21, 16.41it/s]\u001b[A\n",
      " 31%|████████████████████████████████████████████████████████████████████████████████████                                                                                                                                                                                           | 155/500 [00:10<00:19, 17.30it/s]\u001b[A\n",
      " 32%|█████████████████████████████████████████████████████████████████████████████████████▋                                                                                                                                                                                         | 158/500 [00:10<00:19, 17.49it/s]\u001b[A\n",
      " 32%|██████████████████████████████████████████████████████████████████████████████████████▋                                                                                                                                                                                        | 160/500 [00:10<00:18, 18.12it/s]\u001b[A\n",
      " 32%|███████████████████████████████████████████████████████████████████████████████████████▊                                                                                                                                                                                       | 162/500 [00:10<00:18, 17.99it/s]\u001b[A\n",
      " 33%|████████████████████████████████████████████████████████████████████████████████████████▉                                                                                                                                                                                      | 164/500 [00:10<00:19, 16.82it/s]\u001b[A\n",
      " 33%|█████████████████████████████████████████████████████████████████████████████████████████▉                                                                                                                                                                                     | 166/500 [00:10<00:20, 16.56it/s]\u001b[A\n",
      " 34%|███████████████████████████████████████████████████████████████████████████████████████████▌                                                                                                                                                                                   | 169/500 [00:10<00:18, 17.71it/s]\u001b[A\n",
      " 34%|█████████████████████████████████████████████████████████████████████████████████████████████▏                                                                                                                                                                                 | 172/500 [00:10<00:17, 18.34it/s]\u001b[A\n",
      " 35%|██████████████████████████████████████████████████████████████████████████████████████████████▎                                                                                                                                                                                | 174/500 [00:11<00:17, 18.49it/s]\u001b[A\n",
      " 35%|███████████████████████████████████████████████████████████████████████████████████████████████▍                                                                                                                                                                               | 176/500 [00:11<00:18, 17.25it/s]\u001b[A\n",
      " 36%|████████████████████████████████████████████████████████████████████████████████████████████████▍                                                                                                                                                                              | 178/500 [00:11<00:18, 16.99it/s]\u001b[A\n",
      " 36%|█████████████████████████████████████████████████████████████████████████████████████████████████▌                                                                                                                                                                             | 180/500 [00:11<00:19, 16.15it/s]\u001b[A\n",
      " 37%|███████████████████████████████████████████████████████████████████████████████████████████████████▏                                                                                                                                                                           | 183/500 [00:11<00:18, 16.94it/s]\u001b[A\n",
      " 37%|████████████████████████████████████████████████████████████████████████████████████████████████████▎                                                                                                                                                                          | 185/500 [00:11<00:19, 15.89it/s]\u001b[A\n",
      " 37%|█████████████████████████████████████████████████████████████████████████████████████████████████████▎                                                                                                                                                                         | 187/500 [00:11<00:19, 16.31it/s]\u001b[A\n",
      " 38%|██████████████████████████████████████████████████████████████████████████████████████████████████████▍                                                                                                                                                                        | 189/500 [00:12<00:19, 15.87it/s]\u001b[A\n",
      " 38%|███████████████████████████████████████████████████████████████████████████████████████████████████████▌                                                                                                                                                                       | 191/500 [00:12<00:19, 16.14it/s]\u001b[A\n",
      " 39%|████████████████████████████████████████████████████████████████████████████████████████████████████████▌                                                                                                                                                                      | 193/500 [00:12<00:18, 16.83it/s]\u001b[A\n",
      " 39%|█████████████████████████████████████████████████████████████████████████████████████████████████████████▋                                                                                                                                                                     | 195/500 [00:12<00:18, 16.82it/s]\u001b[A\n",
      " 39%|██████████████████████████████████████████████████████████████████████████████████████████████████████████▊                                                                                                                                                                    | 197/500 [00:12<00:17, 17.03it/s]\u001b[A\n",
      " 40%|███████████████████████████████████████████████████████████████████████████████████████████████████████████▊                                                                                                                                                                   | 199/500 [00:12<00:17, 17.09it/s]\u001b[A\n",
      " 40%|████████████████████████████████████████████████████████████████████████████████████████████████████████████▉                                                                                                                                                                  | 201/500 [00:12<00:17, 16.75it/s]\u001b[A\n",
      " 41%|██████████████████████████████████████████████████████████████████████████████████████████████████████████████                                                                                                                                                                 | 203/500 [00:12<00:17, 16.56it/s]\u001b[A\n",
      " 41%|███████████████████████████████████████████████████████████████████████████████████████████████████████████████                                                                                                                                                                | 205/500 [00:12<00:17, 16.75it/s]\u001b[A\n",
      " 41%|████████████████████████████████████████████████████████████████████████████████████████████████████████████████▏                                                                                                                                                              | 207/500 [00:13<00:17, 17.07it/s]\u001b[A\n",
      " 42%|█████████████████████████████████████████████████████████████████████████████████████████████████████████████████▎                                                                                                                                                             | 209/500 [00:13<00:16, 17.57it/s]\u001b[A\n",
      " 42%|██████████████████████████████████████████████████████████████████████████████████████████████████████████████████▎                                                                                                                                                            | 211/500 [00:13<00:17, 16.34it/s]\u001b[A\n",
      " 43%|███████████████████████████████████████████████████████████████████████████████████████████████████████████████████▍                                                                                                                                                           | 213/500 [00:13<00:19, 15.06it/s]\u001b[A\n",
      " 43%|████████████████████████████████████████████████████████████████████████████████████████████████████████████████████▌                                                                                                                                                          | 215/500 [00:13<00:22, 12.53it/s]\u001b[A\n",
      " 43%|█████████████████████████████████████████████████████████████████████████████████████████████████████████████████████▌                                                                                                                                                         | 217/500 [00:13<00:22, 12.68it/s]\u001b[A\n",
      " 44%|██████████████████████████████████████████████████████████████████████████████████████████████████████████████████████▋                                                                                                                                                        | 219/500 [00:14<00:25, 10.91it/s]\u001b[A\n"
     ]
    },
    {
     "name": "stderr",
     "output_type": "stream",
     "text": [
      " 44%|████████████████████████████████████████████████████████████████████████████████████████████████████████████████████████▎                                                                                                                                                      | 222/500 [00:14<00:22, 12.46it/s]\u001b[A\n",
      " 45%|█████████████████████████████████████████████████████████████████████████████████████████████████████████████████████████▍                                                                                                                                                     | 224/500 [00:14<00:20, 13.50it/s]\u001b[A\n",
      " 45%|███████████████████████████████████████████████████████████████████████████████████████████████████████████████████████████                                                                                                                                                    | 227/500 [00:14<00:17, 15.37it/s]\u001b[A\n",
      " 46%|████████████████████████████████████████████████████████████████████████████████████████████████████████████████████████████                                                                                                                                                   | 229/500 [00:14<00:17, 15.26it/s]\u001b[A\n",
      " 46%|█████████████████████████████████████████████████████████████████████████████████████████████████████████████████████████████▏                                                                                                                                                 | 231/500 [00:14<00:18, 14.22it/s]\u001b[A\n",
      " 47%|██████████████████████████████████████████████████████████████████████████████████████████████████████████████████████████████▎                                                                                                                                                | 233/500 [00:14<00:18, 14.74it/s]\u001b[A\n",
      " 47%|███████████████████████████████████████████████████████████████████████████████████████████████████████████████████████████████▎                                                                                                                                               | 235/500 [00:15<00:18, 14.44it/s]\u001b[A\n",
      " 47%|████████████████████████████████████████████████████████████████████████████████████████████████████████████████████████████████▍                                                                                                                                              | 237/500 [00:15<00:17, 14.95it/s]\u001b[A\n",
      " 48%|█████████████████████████████████████████████████████████████████████████████████████████████████████████████████████████████████▌                                                                                                                                             | 239/500 [00:15<00:17, 14.83it/s]\u001b[A\n",
      " 48%|███████████████████████████████████████████████████████████████████████████████████████████████████████████████████████████████████▏                                                                                                                                           | 242/500 [00:15<00:16, 16.00it/s]\u001b[A\n",
      " 49%|████████████████████████████████████████████████████████████████████████████████████████████████████████████████████████████████████▏                                                                                                                                          | 244/500 [00:15<00:17, 14.69it/s]\u001b[A\n",
      " 49%|█████████████████████████████████████████████████████████████████████████████████████████████████████████████████████████████████████▎                                                                                                                                         | 246/500 [00:15<00:16, 15.60it/s]\u001b[A\n",
      " 50%|██████████████████████████████████████████████████████████████████████████████████████████████████████████████████████████████████████▍                                                                                                                                        | 248/500 [00:15<00:15, 15.86it/s]\u001b[A\n",
      " 50%|███████████████████████████████████████████████████████████████████████████████████████████████████████████████████████████████████████▌                                                                                                                                       | 250/500 [00:15<00:15, 16.60it/s]\u001b[A\n",
      " 50%|████████████████████████████████████████████████████████████████████████████████████████████████████████████████████████████████████████▌                                                                                                                                      | 252/500 [00:16<00:15, 15.51it/s]\u001b[A\n",
      " 51%|█████████████████████████████████████████████████████████████████████████████████████████████████████████████████████████████████████████▋                                                                                                                                     | 254/500 [00:16<00:16, 14.99it/s]\u001b[A\n",
      " 51%|██████████████████████████████████████████████████████████████████████████████████████████████████████████████████████████████████████████▊                                                                                                                                    | 256/500 [00:16<00:16, 15.21it/s]\u001b[A\n",
      " 52%|████████████████████████████████████████████████████████████████████████████████████████████████████████████████████████████████████████████▍                                                                                                                                  | 259/500 [00:16<00:16, 14.78it/s]\u001b[A\n",
      " 52%|█████████████████████████████████████████████████████████████████████████████████████████████████████████████████████████████████████████████▍                                                                                                                                 | 261/500 [00:16<00:16, 14.79it/s]\u001b[A\n",
      " 53%|██████████████████████████████████████████████████████████████████████████████████████████████████████████████████████████████████████████████▌                                                                                                                                | 263/500 [00:16<00:16, 14.41it/s]\u001b[A\n",
      " 53%|███████████████████████████████████████████████████████████████████████████████████████████████████████████████████████████████████████████████▋                                                                                                                               | 265/500 [00:16<00:15, 15.66it/s]\u001b[A\n",
      " 53%|████████████████████████████████████████████████████████████████████████████████████████████████████████████████████████████████████████████████▋                                                                                                                              | 267/500 [00:17<00:13, 16.75it/s]\u001b[A\n",
      " 54%|█████████████████████████████████████████████████████████████████████████████████████████████████████████████████████████████████████████████████▊                                                                                                                             | 269/500 [00:17<00:15, 14.99it/s]\u001b[A\n",
      " 54%|██████████████████████████████████████████████████████████████████████████████████████████████████████████████████████████████████████████████████▉                                                                                                                            | 271/500 [00:17<00:14, 15.95it/s]\u001b[A\n",
      " 55%|████████████████████████████████████████████████████████████████████████████████████████████████████████████████████████████████████████████████████▌                                                                                                                          | 274/500 [00:17<00:12, 17.99it/s]\u001b[A\n",
      " 55%|█████████████████████████████████████████████████████████████████████████████████████████████████████████████████████████████████████████████████████▌                                                                                                                         | 276/500 [00:17<00:12, 17.99it/s]\u001b[A\n",
      " 56%|███████████████████████████████████████████████████████████████████████████████████████████████████████████████████████████████████████████████████████▏                                                                                                                       | 279/500 [00:17<00:11, 18.83it/s]\u001b[A\n",
      " 56%|████████████████████████████████████████████████████████████████████████████████████████████████████████████████████████████████████████████████████████▎                                                                                                                      | 281/500 [00:17<00:12, 17.98it/s]\u001b[A\n",
      " 57%|█████████████████████████████████████████████████████████████████████████████████████████████████████████████████████████████████████████████████████████▍                                                                                                                     | 283/500 [00:17<00:12, 18.04it/s]\u001b[A\n",
      " 57%|██████████████████████████████████████████████████████████████████████████████████████████████████████████████████████████████████████████████████████████▍                                                                                                                    | 285/500 [00:18<00:11, 18.38it/s]\u001b[A\n",
      " 58%|████████████████████████████████████████████████████████████████████████████████████████████████████████████████████████████████████████████████████████████                                                                                                                   | 288/500 [00:18<00:10, 19.53it/s]\u001b[A\n",
      " 58%|█████████████████████████████████████████████████████████████████████████████████████████████████████████████████████████████████████████████████████████████▏                                                                                                                 | 290/500 [00:18<00:10, 19.50it/s]\u001b[A\n",
      " 58%|██████████████████████████████████████████████████████████████████████████████████████████████████████████████████████████████████████████████████████████████▎                                                                                                                | 292/500 [00:18<00:11, 17.76it/s]\u001b[A\n",
      " 59%|███████████████████████████████████████████████████████████████████████████████████████████████████████████████████████████████████████████████████████████████▉                                                                                                               | 295/500 [00:18<00:10, 18.69it/s]\u001b[A\n",
      " 59%|████████████████████████████████████████████████████████████████████████████████████████████████████████████████████████████████████████████████████████████████▉                                                                                                              | 297/500 [00:18<00:11, 17.60it/s]\u001b[A\n",
      " 60%|██████████████████████████████████████████████████████████████████████████████████████████████████████████████████████████████████████████████████████████████████▌                                                                                                            | 300/500 [00:18<00:11, 17.93it/s]\u001b[A\n",
      " 60%|███████████████████████████████████████████████████████████████████████████████████████████████████████████████████████████████████████████████████████████████████▋                                                                                                           | 302/500 [00:18<00:11, 17.44it/s]\u001b[A\n",
      " 61%|█████████████████████████████████████████████████████████████████████████████████████████████████████████████████████████████████████████████████████████████████████▎                                                                                                         | 305/500 [00:19<00:10, 18.54it/s]\u001b[A\n",
      " 61%|██████████████████████████████████████████████████████████████████████████████████████████████████████████████████████████████████████████████████████████████████████▍                                                                                                        | 307/500 [00:19<00:11, 17.19it/s]\u001b[A\n",
      " 62%|███████████████████████████████████████████████████████████████████████████████████████████████████████████████████████████████████████████████████████████████████████▍                                                                                                       | 309/500 [00:19<00:11, 17.12it/s]\u001b[A\n",
      " 62%|████████████████████████████████████████████████████████████████████████████████████████████████████████████████████████████████████████████████████████████████████████▌                                                                                                      | 311/500 [00:19<00:10, 17.65it/s]\u001b[A\n",
      " 63%|█████████████████████████████████████████████████████████████████████████████████████████████████████████████████████████████████████████████████████████████████████████▋                                                                                                     | 313/500 [00:19<00:11, 16.75it/s]\u001b[A\n",
      " 63%|██████████████████████████████████████████████████████████████████████████████████████████████████████████████████████████████████████████████████████████████████████████▋                                                                                                    | 315/500 [00:19<00:10, 16.93it/s]\u001b[A\n",
      " 63%|███████████████████████████████████████████████████████████████████████████████████████████████████████████████████████████████████████████████████████████████████████████▊                                                                                                   | 317/500 [00:19<00:11, 15.96it/s]\u001b[A\n",
      " 64%|████████████████████████████████████████████████████████████████████████████████████████████████████████████████████████████████████████████████████████████████████████████▉                                                                                                  | 319/500 [00:20<00:11, 16.09it/s]\u001b[A\n",
      " 64%|█████████████████████████████████████████████████████████████████████████████████████████████████████████████████████████████████████████████████████████████████████████████▉                                                                                                 | 321/500 [00:20<00:11, 16.22it/s]\u001b[A\n",
      " 65%|███████████████████████████████████████████████████████████████████████████████████████████████████████████████████████████████████████████████████████████████████████████████                                                                                                | 323/500 [00:20<00:10, 16.19it/s]\u001b[A\n",
      " 65%|████████████████████████████████████████████████████████████████████████████████████████████████████████████████████████████████████████████████████████████████████████████████▏                                                                                              | 325/500 [00:20<00:10, 17.17it/s]\u001b[A\n",
      " 66%|█████████████████████████████████████████████████████████████████████████████████████████████████████████████████████████████████████████████████████████████████████████████████▊                                                                                             | 328/500 [00:20<00:09, 18.09it/s]\u001b[A\n",
      " 66%|██████████████████████████████████████████████████████████████████████████████████████████████████████████████████████████████████████████████████████████████████████████████████▊                                                                                            | 330/500 [00:20<00:09, 18.32it/s]\u001b[A\n",
      " 67%|████████████████████████████████████████████████████████████████████████████████████████████████████████████████████████████████████████████████████████████████████████████████████▍                                                                                          | 333/500 [00:20<00:09, 17.98it/s]\u001b[A\n",
      " 67%|█████████████████████████████████████████████████████████████████████████████████████████████████████████████████████████████████████████████████████████████████████████████████████▌                                                                                         | 335/500 [00:20<00:08, 18.34it/s]\u001b[A\n"
     ]
    },
    {
     "name": "stderr",
     "output_type": "stream",
     "text": [
      " 67%|██████████████████████████████████████████████████████████████████████████████████████████████████████████████████████████████████████████████████████████████████████████████████████▋                                                                                        | 337/500 [00:20<00:08, 18.34it/s]\u001b[A\n",
      " 68%|███████████████████████████████████████████████████████████████████████████████████████████████████████████████████████████████████████████████████████████████████████████████████████▋                                                                                       | 339/500 [00:21<00:08, 18.09it/s]\u001b[A\n",
      " 68%|█████████████████████████████████████████████████████████████████████████████████████████████████████████████████████████████████████████████████████████████████████████████████████████▎                                                                                     | 342/500 [00:21<00:08, 19.12it/s]\u001b[A\n",
      " 69%|██████████████████████████████████████████████████████████████████████████████████████████████████████████████████████████████████████████████████████████████████████████████████████████▉                                                                                    | 345/500 [00:21<00:07, 20.74it/s]\u001b[A\n",
      " 70%|████████████████████████████████████████████████████████████████████████████████████████████████████████████████████████████████████████████████████████████████████████████████████████████▌                                                                                  | 348/500 [00:21<00:07, 19.02it/s]\u001b[A\n",
      " 70%|█████████████████████████████████████████████████████████████████████████████████████████████████████████████████████████████████████████████████████████████████████████████████████████████▋                                                                                 | 350/500 [00:21<00:07, 18.86it/s]\u001b[A\n",
      " 70%|██████████████████████████████████████████████████████████████████████████████████████████████████████████████████████████████████████████████████████████████████████████████████████████████▊                                                                                | 352/500 [00:21<00:08, 18.15it/s]\u001b[A\n",
      " 71%|███████████████████████████████████████████████████████████████████████████████████████████████████████████████████████████████████████████████████████████████████████████████████████████████▊                                                                               | 354/500 [00:21<00:07, 18.51it/s]\u001b[A\n",
      " 71%|████████████████████████████████████████████████████████████████████████████████████████████████████████████████████████████████████████████████████████████████████████████████████████████████▉                                                                              | 356/500 [00:21<00:07, 18.72it/s]\u001b[A\n",
      " 72%|██████████████████████████████████████████████████████████████████████████████████████████████████████████████████████████████████████████████████████████████████████████████████████████████████                                                                             | 358/500 [00:22<00:07, 19.03it/s]\u001b[A\n",
      " 72%|███████████████████████████████████████████████████████████████████████████████████████████████████████████████████████████████████████████████████████████████████████████████████████████████████▋                                                                           | 361/500 [00:22<00:07, 19.65it/s]\u001b[A\n",
      " 73%|████████████████████████████████████████████████████████████████████████████████████████████████████████████████████████████████████████████████████████████████████████████████████████████████████▋                                                                          | 363/500 [00:22<00:07, 18.81it/s]\u001b[A\n",
      " 73%|█████████████████████████████████████████████████████████████████████████████████████████████████████████████████████████████████████████████████████████████████████████████████████████████████████▊                                                                         | 365/500 [00:22<00:07, 18.46it/s]\u001b[A\n",
      " 74%|███████████████████████████████████████████████████████████████████████████████████████████████████████████████████████████████████████████████████████████████████████████████████████████████████████▍                                                                       | 368/500 [00:22<00:07, 18.75it/s]\u001b[A\n",
      " 74%|████████████████████████████████████████████████████████████████████████████████████████████████████████████████████████████████████████████████████████████████████████████████████████████████████████▌                                                                      | 370/500 [00:22<00:06, 18.95it/s]\u001b[A\n",
      " 74%|█████████████████████████████████████████████████████████████████████████████████████████████████████████████████████████████████████████████████████████████████████████████████████████████████████████▌                                                                     | 372/500 [00:22<00:06, 18.81it/s]\u001b[A\n",
      " 75%|██████████████████████████████████████████████████████████████████████████████████████████████████████████████████████████████████████████████████████████████████████████████████████████████████████████▋                                                                    | 374/500 [00:22<00:07, 17.05it/s]\u001b[A\n",
      " 75%|████████████████████████████████████████████████████████████████████████████████████████████████████████████████████████████████████████████████████████████████████████████████████████████████████████████▎                                                                  | 377/500 [00:23<00:06, 18.39it/s]\u001b[A\n",
      " 76%|█████████████████████████████████████████████████████████████████████████████████████████████████████████████████████████████████████████████████████████████████████████████████████████████████████████████▉                                                                 | 380/500 [00:23<00:06, 19.21it/s]\u001b[A\n",
      " 76%|███████████████████████████████████████████████████████████████████████████████████████████████████████████████████████████████████████████████████████████████████████████████████████████████████████████████                                                                | 382/500 [00:23<00:06, 19.33it/s]\u001b[A\n",
      " 77%|████████████████████████████████████████████████████████████████████████████████████████████████████████████████████████████████████████████████████████████████████████████████████████████████████████████████▏                                                              | 384/500 [00:23<00:06, 17.61it/s]\u001b[A\n",
      " 77%|█████████████████████████████████████████████████████████████████████████████████████████████████████████████████████████████████████████████████████████████████████████████████████████████████████████████████▏                                                             | 386/500 [00:23<00:07, 16.03it/s]\u001b[A\n",
      " 78%|██████████████████████████████████████████████████████████████████████████████████████████████████████████████████████████████████████████████████████████████████████████████████████████████████████████████████▎                                                            | 388/500 [00:23<00:06, 16.25it/s]\u001b[A\n",
      " 78%|███████████████████████████████████████████████████████████████████████████████████████████████████████████████████████████████████████████████████████████████████████████████████████████████████████████████████▍                                                           | 390/500 [00:23<00:07, 15.63it/s]\u001b[A\n",
      " 78%|████████████████████████████████████████████████████████████████████████████████████████████████████████████████████████████████████████████████████████████████████████████████████████████████████████████████████▍                                                          | 392/500 [00:23<00:06, 16.34it/s]\u001b[A\n",
      " 79%|█████████████████████████████████████████████████████████████████████████████████████████████████████████████████████████████████████████████████████████████████████████████████████████████████████████████████████▌                                                         | 394/500 [00:24<00:07, 14.69it/s]\u001b[A\n",
      " 79%|██████████████████████████████████████████████████████████████████████████████████████████████████████████████████████████████████████████████████████████████████████████████████████████████████████████████████████▋                                                        | 396/500 [00:24<00:06, 15.17it/s]\u001b[A\n",
      " 80%|████████████████████████████████████████████████████████████████████████████████████████████████████████████████████████████████████████████████████████████████████████████████████████████████████████████████████████▎                                                      | 399/500 [00:24<00:06, 15.51it/s]\u001b[A\n",
      " 80%|█████████████████████████████████████████████████████████████████████████████████████████████████████████████████████████████████████████████████████████████████████████████████████████████████████████████████████████▎                                                     | 401/500 [00:24<00:06, 15.44it/s]\u001b[A\n",
      " 81%|██████████████████████████████████████████████████████████████████████████████████████████████████████████████████████████████████████████████████████████████████████████████████████████████████████████████████████████▍                                                    | 403/500 [00:24<00:05, 16.45it/s]\u001b[A\n",
      " 81%|███████████████████████████████████████████████████████████████████████████████████████████████████████████████████████████████████████████████████████████████████████████████████████████████████████████████████████████▌                                                   | 405/500 [00:24<00:05, 17.15it/s]\u001b[A\n",
      " 81%|████████████████████████████████████████████████████████████████████████████████████████████████████████████████████████████████████████████████████████████████████████████████████████████████████████████████████████████▌                                                  | 407/500 [00:24<00:05, 17.82it/s]\u001b[A\n",
      " 82%|██████████████████████████████████████████████████████████████████████████████████████████████████████████████████████████████████████████████████████████████████████████████████████████████████████████████████████████████▏                                                | 410/500 [00:25<00:04, 18.28it/s]\u001b[A\n",
      " 82%|███████████████████████████████████████████████████████████████████████████████████████████████████████████████████████████████████████████████████████████████████████████████████████████████████████████████████████████████▎                                               | 412/500 [00:25<00:04, 18.15it/s]\u001b[A\n",
      " 83%|████████████████████████████████████████████████████████████████████████████████████████████████████████████████████████████████████████████████████████████████████████████████████████████████████████████████████████████████▍                                              | 414/500 [00:25<00:04, 17.59it/s]\u001b[A\n",
      " 83%|██████████████████████████████████████████████████████████████████████████████████████████████████████████████████████████████████████████████████████████████████████████████████████████████████████████████████████████████████                                             | 417/500 [00:25<00:04, 18.32it/s]\u001b[A\n",
      " 84%|███████████████████████████████████████████████████████████████████████████████████████████████████████████████████████████████████████████████████████████████████████████████████████████████████████████████████████████████████                                            | 419/500 [00:25<00:04, 17.89it/s]\u001b[A\n",
      " 84%|████████████████████████████████████████████████████████████████████████████████████████████████████████████████████████████████████████████████████████████████████████████████████████████████████████████████████████████████████▋                                          | 422/500 [00:25<00:04, 18.64it/s]\u001b[A\n",
      " 85%|█████████████████████████████████████████████████████████████████████████████████████████████████████████████████████████████████████████████████████████████████████████████████████████████████████████████████████████████████████▊                                         | 424/500 [00:25<00:04, 18.25it/s]\u001b[A\n",
      " 85%|██████████████████████████████████████████████████████████████████████████████████████████████████████████████████████████████████████████████████████████████████████████████████████████████████████████████████████████████████████▉                                        | 426/500 [00:25<00:04, 17.55it/s]\u001b[A\n",
      " 86%|████████████████████████████████████████████████████████████████████████████████████████████████████████████████████████████████████████████████████████████████████████████████████████████████████████████████████████████████████████▌                                      | 429/500 [00:26<00:03, 18.16it/s]\u001b[A\n",
      " 86%|█████████████████████████████████████████████████████████████████████████████████████████████████████████████████████████████████████████████████████████████████████████████████████████████████████████████████████████████████████████▌                                     | 431/500 [00:26<00:03, 18.01it/s]\u001b[A\n",
      " 87%|███████████████████████████████████████████████████████████████████████████████████████████████████████████████████████████████████████████████████████████████████████████████████████████████████████████████████████████████████████████▏                                   | 434/500 [00:26<00:03, 19.03it/s]\u001b[A\n",
      " 87%|████████████████████████████████████████████████████████████████████████████████████████████████████████████████████████████████████████████████████████████████████████████████████████████████████████████████████████████████████████████▎                                  | 436/500 [00:26<00:03, 18.82it/s]\u001b[A\n",
      " 88%|█████████████████████████████████████████████████████████████████████████████████████████████████████████████████████████████████████████████████████████████████████████████████████████████████████████████████████████████████████████████▍                                 | 438/500 [00:26<00:03, 18.67it/s]\u001b[A\n",
      " 88%|██████████████████████████████████████████████████████████████████████████████████████████████████████████████████████████████████████████████████████████████████████████████████████████████████████████████████████████████████████████████▍                                | 440/500 [00:26<00:03, 18.52it/s]\u001b[A\n",
      " 89%|████████████████████████████████████████████████████████████████████████████████████████████████████████████████████████████████████████████████████████████████████████████████████████████████████████████████████████████████████████████████                               | 443/500 [00:26<00:02, 19.76it/s]\u001b[A\n",
      " 89%|█████████████████████████████████████████████████████████████████████████████████████████████████████████████████████████████████████████████████████████████████████████████████████████████████████████████████████████████████████████████████▋                             | 446/500 [00:26<00:02, 20.40it/s]\u001b[A\n",
      " 90%|███████████████████████████████████████████████████████████████████████████████████████████████████████████████████████████████████████████████████████████████████████████████████████████████████████████████████████████████████████████████████▎                           | 449/500 [00:27<00:02, 20.24it/s]\u001b[A\n",
      " 90%|████████████████████████████████████████████████████████████████████████████████████████████████████████████████████████████████████████████████████████████████████████████████████████████████████████████████████████████████████████████████████▉                          | 452/500 [00:27<00:02, 19.23it/s]\u001b[A\n",
      " 91%|██████████████████████████████████████████████████████████████████████████████████████████████████████████████████████████████████████████████████████████████████████████████████████████████████████████████████████████████████████████████████████                         | 454/500 [00:27<00:02, 18.28it/s]\u001b[A\n",
      " 91%|███████████████████████████████████████████████████████████████████████████████████████████████████████████████████████████████████████████████████████████████████████████████████████████████████████████████████████████████████████████████████████▋                       | 457/500 [00:27<00:02, 19.20it/s]\u001b[A\n"
     ]
    },
    {
     "name": "stderr",
     "output_type": "stream",
     "text": [
      " 92%|████████████████████████████████████████████████████████████████████████████████████████████████████████████████████████████████████████████████████████████████████████████████████████████████████████████████████████████████████████████████████████▊                      | 459/500 [00:27<00:02, 17.13it/s]\u001b[A\n",
      " 92%|█████████████████████████████████████████████████████████████████████████████████████████████████████████████████████████████████████████████████████████████████████████████████████████████████████████████████████████████████████████████████████████▊                     | 461/500 [00:27<00:02, 17.25it/s]\u001b[A\n",
      " 93%|██████████████████████████████████████████████████████████████████████████████████████████████████████████████████████████████████████████████████████████████████████████████████████████████████████████████████████████████████████████████████████████▉                    | 463/500 [00:27<00:02, 17.47it/s]\u001b[A\n",
      " 93%|████████████████████████████████████████████████████████████████████████████████████████████████████████████████████████████████████████████████████████████████████████████████████████████████████████████████████████████████████████████████████████████▌                  | 466/500 [00:28<00:01, 18.19it/s]\u001b[A\n",
      " 94%|██████████████████████████████████████████████████████████████████████████████████████████████████████████████████████████████████████████████████████████████████████████████████████████████████████████████████████████████████████████████████████████████▏                | 469/500 [00:28<00:01, 19.20it/s]\u001b[A\n",
      " 94%|███████████████████████████████████████████████████████████████████████████████████████████████████████████████████████████████████████████████████████████████████████████████████████████████████████████████████████████████████████████████████████████████▊               | 472/500 [00:28<00:01, 19.82it/s]\u001b[A\n",
      " 95%|█████████████████████████████████████████████████████████████████████████████████████████████████████████████████████████████████████████████████████████████████████████████████████████████████████████████████████████████████████████████████████████████████▍             | 475/500 [00:28<00:01, 19.41it/s]\u001b[A\n",
      " 95%|██████████████████████████████████████████████████████████████████████████████████████████████████████████████████████████████████████████████████████████████████████████████████████████████████████████████████████████████████████████████████████████████████▌            | 477/500 [00:28<00:01, 19.24it/s]\u001b[A\n",
      " 96%|████████████████████████████████████████████████████████████████████████████████████████████████████████████████████████████████████████████████████████████████████████████████████████████████████████████████████████████████████████████████████████████████████▏          | 480/500 [00:28<00:01, 19.77it/s]\u001b[A\n",
      " 97%|█████████████████████████████████████████████████████████████████████████████████████████████████████████████████████████████████████████████████████████████████████████████████████████████████████████████████████████████████████████████████████████████████████▊         | 483/500 [00:28<00:00, 20.40it/s]\u001b[A\n",
      " 97%|███████████████████████████████████████████████████████████████████████████████████████████████████████████████████████████████████████████████████████████████████████████████████████████████████████████████████████████████████████████████████████████████████████▍       | 486/500 [00:28<00:00, 21.09it/s]\u001b[A\n",
      " 98%|█████████████████████████████████████████████████████████████████████████████████████████████████████████████████████████████████████████████████████████████████████████████████████████████████████████████████████████████████████████████████████████████████████████      | 489/500 [00:29<00:00, 19.81it/s]\u001b[A\n",
      " 98%|██████████████████████████████████████████████████████████████████████████████████████████████████████████████████████████████████████████████████████████████████████████████████████████████████████████████████████████████████████████████████████████████████████████▋    | 492/500 [00:29<00:00, 18.78it/s]\u001b[A\n",
      " 99%|███████████████████████████████████████████████████████████████████████████████████████████████████████████████████████████████████████████████████████████████████████████████████████████████████████████████████████████████████████████████████████████████████████████▋   | 494/500 [00:29<00:00, 19.07it/s]\u001b[A\n",
      " 99%|████████████████████████████████████████████████████████████████████████████████████████████████████████████████████████████████████████████████████████████████████████████████████████████████████████████████████████████████████████████████████████████████████████████▊  | 496/500 [00:29<00:00, 17.56it/s]\u001b[A\n",
      "100%|█████████████████████████████████████████████████████████████████████████████████████████████████████████████████████████████████████████████████████████████████████████████████████████████████████████████████████████████████████████████████████████████████████████████▉ | 498/500 [00:29<00:00, 16.76it/s]\u001b[A\n",
      "100%|███████████████████████████████████████████████████████████████████████████████████████████████████████████████████████████████████████████████████████████████████████████████████████████████████████████████████████████████████████████████████████████████████████████████| 500/500 [00:29<00:00, 16.76it/s]\u001b[A"
     ]
    },
    {
     "name": "stdout",
     "output_type": "stream",
     "text": [
      "average steps uses is 55.344\n"
     ]
    },
    {
     "name": "stderr",
     "output_type": "stream",
     "text": [
      "\n"
     ]
    }
   ],
   "source": [
    "env = gym.make('battleshipBasic-v0',board_shape=(10,10), verbose=False, obs_3d=True)\n",
    "trained_model = load_model(r'.\\..\\agents\\model\\CNN_AgentModel.model')\n",
    "# for i in tqdm(range(1_000_000)):\n",
    "CNN_Agent1 = CNN_Agent(env=env, trained_model=trained_model, log_saving=False)\n",
    "CNN_GameRecord,CNN_GameDict =\\\n",
    "    agent_test(agent=CNN_Agent1, \n",
    "               env=env, \n",
    "               game_rounds=500, \n",
    "               agent_name='DQN_SModel', \n",
    "               model_agent=True, \n",
    "               log_save=True)\n",
    "\n",
    "    \n",
    "print('average steps uses is {}'.format(CNN_GameRecord['steps'].mean()))\n",
    "\n",
    "CNN_GameRecord.to_csv(r'c:\\temp\\CNN_gameRecord.csv')\n",
    "    "
   ]
  },
  {
   "cell_type": "code",
   "execution_count": 64,
   "metadata": {
    "ExecuteTime": {
     "end_time": "2020-11-07T06:16:46.264894Z",
     "start_time": "2020-11-07T06:16:46.254892Z"
    }
   },
   "outputs": [
    {
     "data": {
      "text/plain": [
       "0.06090133982947624"
      ]
     },
     "execution_count": 64,
     "metadata": {},
     "output_type": "execute_result"
    }
   ],
   "source": [
    "1/16.42"
   ]
  },
  {
   "cell_type": "code",
   "execution_count": 24,
   "metadata": {
    "ExecuteTime": {
     "end_time": "2020-11-07T02:26:47.092598Z",
     "start_time": "2020-11-07T02:26:47.082597Z"
    }
   },
   "outputs": [
    {
     "data": {
      "text/plain": [
       "dict_keys([])"
      ]
     },
     "execution_count": 24,
     "metadata": {},
     "output_type": "execute_result"
    }
   ],
   "source": [
    "CNN_GameDict.keys()"
   ]
  },
  {
   "cell_type": "code",
   "execution_count": 25,
   "metadata": {
    "ExecuteTime": {
     "end_time": "2020-11-07T02:27:02.229854Z",
     "start_time": "2020-11-07T02:26:59.985687Z"
    }
   },
   "outputs": [
    {
     "name": "stderr",
     "output_type": "stream",
     "text": [
      "100%|█████████████████████████████████████████████████████████████████████████████████████████████████████████████████████████████████████████████████████████████████████████████████████████████████████████████████████████████████████████████████████████████████████████████████| 10/10 [00:00<00:00, 14.25it/s]\n"
     ]
    }
   ],
   "source": [
    "env = gym.make('battleshipBasic-v0',board_shape=(10,10), verbose=False, obs_3d=True)\n",
    "trained_model = load_model(r'.\\..\\agents\\model\\CNN_AgentModel.model')\n",
    "CNN_Agent1 = CNN_Agent(env=env, trained_model=trained_model, log_saving=True)\n",
    "_,CNN_GameDict =\\\n",
    "    agent_test(agent=CNN_Agent1, \n",
    "               env=env, \n",
    "               game_rounds=10, \n",
    "               agent_name='DQN_SModel', \n",
    "               model_agent=True, \n",
    "               log_save=True)"
   ]
  },
  {
   "cell_type": "code",
   "execution_count": 38,
   "metadata": {
    "ExecuteTime": {
     "end_time": "2020-11-07T02:29:56.780561Z",
     "start_time": "2020-11-07T02:29:56.628792Z"
    }
   },
   "outputs": [
    {
     "data": {
      "image/png": "[encoded data removed]",
      "text/plain": [
       "<Figure size 576x576 with 1 Axes>"
      ]
     },
     "metadata": {},
     "output_type": "display_data"
    }
   ],
   "source": [
    "SModel_framer = single_frame_viz(0,game_hist=CNN_GameDict[2],  \n",
    "                                 model_obj=None, \n",
    "                                 obs_3d=True,                         \n",
    "                                 model_agent=True,\n",
    "                                 board_shape=(10,10), \n",
    "                                 value_range=(-1,1),title='Turn #0')\n"
   ]
  },
  {
   "cell_type": "code",
   "execution_count": 80,
   "metadata": {
    "ExecuteTime": {
     "end_time": "2020-11-07T02:58:23.072355Z",
     "start_time": "2020-11-07T02:58:22.914318Z"
    }
   },
   "outputs": [
    {
     "data": {
      "image/png": "[encoded data removed]",
      "text/plain": [
       "<Figure size 576x576 with 1 Axes>"
      ]
     },
     "metadata": {},
     "output_type": "display_data"
    }
   ],
   "source": [
    "SModel_framer = single_frame_viz(4,game_hist=CNN_GameDict[2],  \n",
    "                                 model_obj=None, \n",
    "                                 obs_3d=True,                         \n",
    "                                 model_agent=True,\n",
    "                                 board_shape=(10,10), \n",
    "                                 value_range=(-1,1),title='Turn #5')\n"
   ]
  },
  {
   "cell_type": "code",
   "execution_count": 79,
   "metadata": {
    "ExecuteTime": {
     "end_time": "2020-11-07T02:58:16.735874Z",
     "start_time": "2020-11-07T02:58:16.568209Z"
    }
   },
   "outputs": [
    {
     "data": {
      "image/png": "[encoded data removed]",
      "text/plain": [
       "<Figure size 576x576 with 1 Axes>"
      ]
     },
     "metadata": {},
     "output_type": "display_data"
    }
   ],
   "source": [
    "SModel_framer = single_frame_viz(5,game_hist=CNN_GameDict[2],  \n",
    "                                 model_obj=None, \n",
    "                                 obs_3d=True,                         \n",
    "                                 model_agent=True,\n",
    "                                 board_shape=(10,10), \n",
    "                                 value_range=(-1,1),title='Turn #6')\n"
   ]
  },
  {
   "cell_type": "code",
   "execution_count": 78,
   "metadata": {
    "ExecuteTime": {
     "end_time": "2020-11-07T02:58:10.254814Z",
     "start_time": "2020-11-07T02:58:10.096789Z"
    }
   },
   "outputs": [
    {
     "data": {
      "image/png": "[encoded data removed]",
      "text/plain": [
       "<Figure size 576x576 with 1 Axes>"
      ]
     },
     "metadata": {},
     "output_type": "display_data"
    }
   ],
   "source": [
    "SModel_framer = single_frame_viz(6,game_hist=CNN_GameDict[2],  \n",
    "                                 model_obj=None, \n",
    "                                 obs_3d=True,                         \n",
    "                                 model_agent=True,\n",
    "                                 board_shape=(10,10), \n",
    "                                 value_range=(-1,1),title='Turn #7')\n"
   ]
  },
  {
   "cell_type": "code",
   "execution_count": null,
   "metadata": {},
   "outputs": [],
   "source": [
    "# CNN_Model_game = game_viz(board_shape=(10,10),\n",
    "#                           agent_name='CNN_Model_Agent', \n",
    "#                           game_hist=CNN_GameDict[2],\n",
    "#                           anim_flag=True, \n",
    "#                           model_agent=True,\n",
    "#                           obs_3d=True,\n",
    "#                           value_range=(-1,1))"
   ]
  },
  {
   "cell_type": "markdown",
   "metadata": {},
   "source": [
    "![SegmentLocal](images\\CNN_Model_Agent_Game.gif \"segment\")"
   ]
  },
  {
   "cell_type": "markdown",
   "metadata": {},
   "source": [
    "## DQN Agent\n",
    "\n",
    "This is the typical DQN agent, which formula the strategy based on Q table. I have tried 3 types of implementation. \n",
    "\n",
    "* __Keras RL__: this is the off the shelf model. However, it doesn't perform well. After over thousands steps of training, it failed to converge.\n",
    "* __Single & Double Model DQN__: I then build customized agent. The main change I have done are:\n",
    "    * __MASK ILLEGAL MOVEMENT__: one problem I notice from Keras RL is that the agent keep placing shots on the same cells again and again. To speed up the training, I have removed those explored cells from DQN's action space. Currently, my agent will only place these duplicated shots during exploration phase.\n",
    "    * __MODEL PRE-TRAIN__: Instead of training the model from scratch, I first train the model with the game logs from the hunt  & target agent. For my models, I have used 1,000 games from the hunt and target agents. Result shows this step significantly improves my agent's performance. "
   ]
  },
  {
   "cell_type": "markdown",
   "metadata": {},
   "source": [
    "### Keras RL"
   ]
  },
  {
   "cell_type": "code",
   "execution_count": 13,
   "metadata": {},
   "outputs": [
    {
     "name": "stdout",
     "output_type": "stream",
     "text": [
      "_________________________________________________________________\n",
      "Layer (type)                 Output Shape              Param #   \n",
      "=================================================================\n",
      "input_2 (InputLayer)         (None, 1, 10, 10, 3)      0         \n",
      "_________________________________________________________________\n",
      "flatten_2 (Flatten)          (None, 300)               0         \n",
      "_________________________________________________________________\n",
      "dense_4 (Dense)              (None, 32)                9632      \n",
      "_________________________________________________________________\n",
      "dense_5 (Dense)              (None, 32)                1056      \n",
      "_________________________________________________________________\n",
      "dense_6 (Dense)              (None, 32)                1056      \n",
      "_________________________________________________________________\n",
      "dense_7 (Dense)              (None, 100)               3300      \n",
      "=================================================================\n",
      "Total params: 15,044\n",
      "Trainable params: 15,044\n",
      "Non-trainable params: 0\n",
      "_________________________________________________________________\n",
      "None\n"
     ]
    }
   ],
   "source": [
    "dqn_env = gym.make('battleshipBasic-v0',board_shape=(10,10), verbose=False,obs_3d=True)\n",
    "nb_actions = dqn_env.action_space.n\n",
    "frame = Input(shape=(1, 10, 10,3))\n",
    "x = Flatten()(frame)\n",
    "x = Dense(32, activation='relu')(x)\n",
    "x = Dense(32, activation='relu')(x)\n",
    "x = Dense(32, activation='relu')(x)\n",
    "output = Dense(nb_actions, activation='linear')(x)\n",
    "model2 = Model(inputs=frame, outputs=output)\n",
    "print(model2.summary())\n",
    "# return model"
   ]
  },
  {
   "cell_type": "code",
   "execution_count": 14,
   "metadata": {
    "scrolled": true
   },
   "outputs": [
    {
     "name": "stdout",
     "output_type": "stream",
     "text": [
      "Training for 50000 steps ...\n",
      "   983/50000: episode: 1, duration: 5.035s, episode steps: 983, steps per second: 195, episode reward: -892999920.000, mean reward: -908443.459 [-1000000.000, 9.000], mean action: 56.641 [0.000, 99.000], mean observation: 0.328 [0.000, 1.000], loss: 428911453145.292114, mean_absolute_error: 22256.516996, mean_q: -537.728797\n",
      "  3843/50000: episode: 2, duration: 16.801s, episode steps: 2860, steps per second: 170, episode reward: -2764999925.000, mean reward: -966783.191 [-1000000.000, 9.000], mean action: 54.203 [0.000, 99.000], mean observation: 0.475 [0.000, 1.000], loss: 67856904192.000000, mean_absolute_error: 1162925.375000, mean_q: -894480.625000\n",
      "  5531/50000: episode: 3, duration: 10.209s, episode steps: 1688, steps per second: 165, episode reward: -1596999921.000, mean reward: -946090.001 [-1000000.000, 9.000], mean action: 52.824 [0.000, 98.000], mean observation: 0.383 [0.000, 1.000], loss: 45791084544.000000, mean_absolute_error: 2517975.750000, mean_q: -2284867.750000\n",
      "  7945/50000: episode: 4, duration: 14.704s, episode steps: 2414, steps per second: 164, episode reward: -2319999924.000, mean reward: -961060.449 [-1000000.000, 9.000], mean action: 43.252 [0.000, 98.000], mean observation: 0.427 [0.000, 1.000], loss: 43760635904.000000, mean_absolute_error: 3823463.250000, mean_q: -3649838.750000\n",
      " 11064/50000: episode: 5, duration: 18.665s, episode steps: 3119, steps per second: 167, episode reward: -3019999929.000, mean reward: -968259.035 [-1000000.000, 9.000], mean action: 52.569 [0.000, 99.000], mean observation: 0.504 [0.000, 1.000], loss: 41543311360.000000, mean_absolute_error: 5884362.500000, mean_q: -5790385.000000\n",
      " 13394/50000: episode: 6, duration: 14.678s, episode steps: 2330, steps per second: 159, episode reward: -2235999924.000, mean reward: -959656.620 [-1000000.000, 9.000], mean action: 59.346 [0.000, 99.000], mean observation: 0.438 [0.000, 1.000], loss: 52152471552.000000, mean_absolute_error: 7926552.000000, mean_q: -7834141.500000\n",
      " 14513/50000: episode: 7, duration: 7.399s, episode steps: 1119, steps per second: 151, episode reward: -1031999917.000, mean reward: -922251.937 [-1000000.000, 9.000], mean action: 44.604 [0.000, 99.000], mean observation: 0.363 [0.000, 1.000], loss: 50818633728.000000, mean_absolute_error: 9060895.000000, mean_q: -8995247.000000\n",
      " 17274/50000: episode: 8, duration: 16.828s, episode steps: 2761, steps per second: 164, episode reward: -2662999928.000, mean reward: -964505.588 [-1000000.000, 9.000], mean action: 56.012 [0.000, 99.000], mean observation: 0.479 [0.000, 1.000], loss: 66970521600.000000, mean_absolute_error: 10299844.000000, mean_q: -10212374.000000\n",
      " 18601/50000: episode: 9, duration: 8.344s, episode steps: 1327, steps per second: 159, episode reward: -1242999914.000, mean reward: -936699.257 [-1000000.000, 9.000], mean action: 44.619 [0.000, 98.000], mean observation: 0.367 [0.000, 1.000], loss: 71982800896.000000, mean_absolute_error: 11727087.000000, mean_q: -11662581.000000\n",
      " 21882/50000: episode: 10, duration: 21.199s, episode steps: 3281, steps per second: 155, episode reward: -3180999930.000, mean reward: -969521.466 [-1000000.000, 9.000], mean action: 51.714 [0.000, 99.000], mean observation: 0.540 [0.000, 1.000], loss: 98404442112.000000, mean_absolute_error: 13278351.000000, mean_q: -13214549.000000\n",
      " 24875/50000: episode: 11, duration: 19.193s, episode steps: 2993, steps per second: 156, episode reward: -2894999928.000, mean reward: -967256.909 [-1000000.000, 9.000], mean action: 47.438 [0.000, 99.000], mean observation: 0.497 [0.000, 1.000], loss: 93514366976.000000, mean_absolute_error: 15210090.000000, mean_q: -15108298.000000\n",
      " 28136/50000: episode: 12, duration: 19.802s, episode steps: 3261, steps per second: 165, episode reward: -3160999930.000, mean reward: -969334.538 [-1000000.000, 9.000], mean action: 52.309 [0.000, 99.000], mean observation: 0.512 [0.000, 1.000], loss: 113143283712.000000, mean_absolute_error: 17299572.000000, mean_q: -17241708.000000\n",
      " 30514/50000: episode: 13, duration: 15.656s, episode steps: 2378, steps per second: 152, episode reward: -2278999929.000, mean reward: -958368.347 [-1000000.000, 9.000], mean action: 49.388 [0.000, 99.000], mean observation: 0.499 [0.000, 1.000], loss: 148560658432.000000, mean_absolute_error: 19169866.000000, mean_q: -19124176.000000\n",
      " 31973/50000: episode: 14, duration: 9.878s, episode steps: 1459, steps per second: 148, episode reward: -1370999918.000, mean reward: -939684.659 [-1000000.000, 9.000], mean action: 56.669 [0.000, 99.000], mean observation: 0.368 [0.000, 1.000], loss: 171268620288.000000, mean_absolute_error: 20117032.000000, mean_q: -20004914.000000\n",
      " 33911/50000: episode: 15, duration: 12.603s, episode steps: 1938, steps per second: 154, episode reward: -1843999924.000, mean reward: -951496.349 [-1000000.000, 9.000], mean action: 52.708 [1.000, 99.000], mean observation: 0.441 [0.000, 1.000], loss: 150652076032.000000, mean_absolute_error: 20908170.000000, mean_q: -20869822.000000\n",
      " 37717/50000: episode: 16, duration: 26.660s, episode steps: 3806, steps per second: 143, episode reward: -3706999929.000, mean reward: -973988.421 [-1000000.000, 9.000], mean action: 56.970 [0.000, 99.000], mean observation: 0.508 [0.000, 1.000], loss: 211045842944.000000, mean_absolute_error: 22365956.000000, mean_q: -22299566.000000\n",
      " 39704/50000: episode: 17, duration: 12.861s, episode steps: 1987, steps per second: 154, episode reward: -1895999921.000, mean reward: -954202.275 [-1000000.000, 9.000], mean action: 38.504 [0.000, 98.000], mean observation: 0.434 [0.000, 1.000], loss: 171765760000.000000, mean_absolute_error: 24050986.000000, mean_q: -23994690.000000\n",
      " 41918/50000: episode: 18, duration: 14.165s, episode steps: 2214, steps per second: 156, episode reward: -2119999924.000, mean reward: -957542.874 [-1000000.000, 9.000], mean action: 52.784 [0.000, 99.000], mean observation: 0.442 [0.000, 1.000], loss: 203412963328.000000, mean_absolute_error: 25129744.000000, mean_q: -25093388.000000\n",
      " 45034/50000: episode: 19, duration: 20.734s, episode steps: 3116, steps per second: 150, episode reward: -3017999928.000, mean reward: -968549.399 [-1000000.000, 9.000], mean action: 54.056 [0.000, 99.000], mean observation: 0.490 [0.000, 1.000], loss: 266114039808.000000, mean_absolute_error: 26280126.000000, mean_q: -26186228.000000\n",
      "done, took 318.892 seconds\n"
     ]
    },
    {
     "data": {
      "text/plain": [
       "<keras.callbacks.History at 0x19555269fd0>"
      ]
     },
     "execution_count": 14,
     "metadata": {},
     "output_type": "execute_result"
    }
   ],
   "source": [
    "policy = EpsGreedyQPolicy()\n",
    "# policy = GreedyQPolicy()\n",
    "memory = SequentialMemory(limit=50000, window_length=1)\n",
    "dqn = DQNAgent(model=model2, nb_actions=nb_actions, memory=memory, \n",
    "               nb_steps_warmup=400,\n",
    "               gamma=.99, target_model_update=1e-3, \n",
    "               policy=policy)\n",
    "dqn.compile(Adam(lr=1e-3), metrics=['mae'])\n",
    "dqn.fit(dqn_env, nb_steps=50000, visualize=False, verbose=2)"
   ]
  },
  {
   "cell_type": "markdown",
   "metadata": {},
   "source": [
    "__Notes__: apparently, the agloirhtm failed to converge"
   ]
  },
  {
   "cell_type": "markdown",
   "metadata": {},
   "source": [
    "### Single Model "
   ]
  },
  {
   "cell_type": "code",
   "execution_count": 47,
   "metadata": {
    "ExecuteTime": {
     "end_time": "2020-11-07T03:51:46.757984Z",
     "start_time": "2020-11-07T03:51:46.720976Z"
    }
   },
   "outputs": [],
   "source": [
    "class Agent(object):\n",
    "    def __init__(self, state_size, action_size, verbose=False, model=None, log_saving=False):\n",
    "        self.verbose = verbose\n",
    "        self.weight_backup = r\".\\model\\DQN_V2_06082020_5.model\"\n",
    "        self.state_size = state_size\n",
    "        self.action_size = action_size\n",
    "        self.memory = deque(maxlen=2000)\n",
    "        self.model_estimates = None\n",
    "        self.learning_rate = 0.0001\n",
    "        self.gamma = 0.1\n",
    "        self.exploration_rate = 0.4\n",
    "        self.exploration_min = 0.01\n",
    "        self.exploration_decay = 0.995\n",
    "        self.log_saving = log_saving\n",
    "        self.obs_hist = None\n",
    "        self.shot_log = []\n",
    "        self.model_estimates = None\n",
    "        if model is None:\n",
    "            self.brain = self._build_model(self.state_size)\n",
    "        else:\n",
    "            self.brain = model\n",
    "\n",
    "    def model_pretrain(self, game_logs, batch_size, epochs):\n",
    "        train_x, train_y = train_data_process(game_logs, reward=True)\n",
    "        self.brain.fit(train_x, train_y,\n",
    "                       batch_size=batch_size,\n",
    "                       epochs=epochs, verbose=2)\n",
    "        self.save_model()\n",
    "\n",
    "    def _build_model(self, input_shape):\n",
    "        X_input = Input(input_shape)\n",
    "        X = ZeroPadding2D((3, 3))(X_input)\n",
    "        X = Conv2D(32, (7, 7), strides=(1, 1), name='conv0')(X)\n",
    "        X = BatchNormalization(axis=3, name='bn0')(X)\n",
    "        X = ZeroPadding2D((3, 3))(X)\n",
    "        X = Conv2D(32, (7, 7), strides=(1, 1), name='conv1')(X)\n",
    "        X = BatchNormalization(axis=3, name='bn1')(X)\n",
    "        X = Activation('relu')(X)\n",
    "        X = MaxPooling2D((2, 2), name='max_pool')(X)\n",
    "        # FLATTEN X (means convert it to a vector) + FULLYCONNECTED\n",
    "        X = Flatten()(X)\n",
    "#         X = Dense(100, activation='sigmoid', name='fc')(X)\n",
    "        X = Dense(100, activation='linear', name='fc')(X)\n",
    "        # Create model. This creates your Keras model instance, you'll use this instance to train/test the model.\n",
    "        model = Model(inputs=X_input, outputs=X, name='HappyModel')\n",
    "        model.compile(loss='mse', optimizer=Adam(lr=self.learning_rate))\n",
    "        if os.path.isfile(self.weight_backup):\n",
    "            model.load_weights(self.weight_backup)\n",
    "            self.exploration_rate = self.exploration_min\n",
    "        print(model.summary())\n",
    "        return model\n",
    "\n",
    "    def save_model(self):\n",
    "        self.brain.save(self.weight_backup)\n",
    "\n",
    "    def act(self, state, explore=True):\n",
    "        if explore and (np.random.rand() <= self.exploration_rate):\n",
    "            return random.randrange(self.action_size), 1\n",
    "        act_values = self.brain.predict(state)[0]\n",
    "        if self.log_saving:\n",
    "            if self.model_estimates is None:\n",
    "                self.model_estimates = act_values.reshape((1,) + act_values.shape)\n",
    "            else:\n",
    "                self.model_estimates = np.concatenate([self.model_estimates, act_values.reshape((1,) + act_values.shape)])\n",
    "        act_values[state[..., 0].flatten() != 0] = -99\n",
    "        return np.argmax(act_values), 0\n",
    "\n",
    "    def remember(self, state, action, reward, next_state, done):\n",
    "        self.memory.append((state, action, reward, next_state, done))\n",
    "\n",
    "    def replay(self, sample_batch_size):\n",
    "        if len(self.memory) < sample_batch_size:\n",
    "            return\n",
    "        sample_batch = random.sample(self.memory, sample_batch_size)\n",
    "        state_input = np.array([])\n",
    "        target_input = np.array([])\n",
    "        for state, action, reward, next_state, done in sample_batch:\n",
    "            target = reward\n",
    "            if not done:\n",
    "                target = reward + self.gamma * np.amax(self.brain.predict(next_state)[0])\n",
    "            target_f = self.brain.predict(state)\n",
    "            target_f[0][state[...,0].flatten() !=0] = np.where(target_f[0][state[...,0].flatten() != 0] < -9,\n",
    "                                                               target_f[0][state[...,0].flatten() != 0],\n",
    "                                                               -9)\n",
    "            target_f[0][action] = target\n",
    "            if sum(state_input.shape) == 0:\n",
    "                state_input = state\n",
    "                target_input = target_f\n",
    "            else:\n",
    "                state_input = np.concatenate([state_input, state])\n",
    "                target_input = np.concatenate([target_input, target_f])\n",
    "        self.brain.fit(state_input, target_input, batch_size=32, epochs=2, verbose=1)\n",
    "        if self.exploration_rate > self.exploration_min:\n",
    "            self.exploration_rate *= self.exploration_decay\n",
    "\n",
    "\n",
    "class BattleShipAgent:\n",
    "    def __init__(self, agent=None, model=None, log_saving=False, verbose=False, episodes=10000):\n",
    "        self.sample_batch_size = 500\n",
    "        self.episodes = episodes\n",
    "        self.env = gym.make('battleshipBasic-v0', board_shape=(10, 10),  verbose=False, obs_3d=True)\n",
    "        self.state_size = self.env.observation_space.shape\n",
    "        self.action_size = self.env.action_space.n\n",
    "        self.verbose = verbose\n",
    "        self.agent = agent\n",
    "        self.obs_hist = None\n",
    "        self.shot_log = []\n",
    "        self.log_saving = log_saving\n",
    "        self.model_estimates = None\n",
    "        if self.agent is None:\n",
    "            self.agent = Agent(state_size=self.state_size, action_size=self.action_size,\n",
    "                               model=model, log_saving=log_saving)\n",
    "            \n",
    "    def reset_log(self):\n",
    "        self.obs_hist = None\n",
    "        self.shot_log = []\n",
    "        self.model_estimates = None  \n",
    "        self.agent.model_estimates = None      \n",
    "\n",
    "    def train(self):\n",
    "        try:\n",
    "            total_step_log = []\n",
    "            for index_episode in range(self.episodes):\n",
    "                state = self.env.reset()\n",
    "                state = np.reshape(state, (1,) + self.state_size)\n",
    "                done = False\n",
    "                total_reward = 0\n",
    "                total_step = 0\n",
    "                explore_step_count = 0\n",
    "                while not done:\n",
    "                    action, explore_count = self.agent.act(state)\n",
    "                    explore_step_count += explore_count\n",
    "                    next_state, reward, done, _ = self.env.step(action)\n",
    "                    next_state = np.reshape(next_state, (1,)+ self.state_size)\n",
    "                    self.agent.remember(state, action, reward, next_state, done)\n",
    "                    state = next_state\n",
    "                    total_reward += reward\n",
    "                    total_step += 1\n",
    "                    if self.verbose:\n",
    "                        print(reward)\n",
    "                total_step_log += [total_step]\n",
    "                print(\"Episode {}# Score: {} and step {} ({} explore steps), \"\n",
    "                      \"current average steps {}\".format(index_episode,\n",
    "                                                        total_reward, total_step,\n",
    "                                                        explore_step_count,\n",
    "                                                        np.mean(total_step_log)))\n",
    "                self.agent.replay(self.sample_batch_size)\n",
    "                if (index_episode%100) == 0:\n",
    "                    self.agent.save_model()\n",
    "        finally:\n",
    "            self.agent.save_model()\n",
    "\n",
    "    def test(self, env):\n",
    "        obs, done, ep_reward = env.reset(), False, 0\n",
    "        i = 0\n",
    "        while not done:\n",
    "            i += 1\n",
    "            obs = np.reshape(obs, (1,) + self.state_size)\n",
    "            action, _ = self.agent.act(obs, explore=False)\n",
    "            obs, reward, done, _ = env.step(action)\n",
    "            if self.log_saving:\n",
    "                if i == 1:\n",
    "                    self.obs_hist = obs.reshape((1,) + obs.shape)\n",
    "                    self.shot_log = [action]\n",
    "                else:\n",
    "                    self.obs_hist = np.concatenate([self.obs_hist, obs.reshape((1,) + obs.shape)])\n",
    "                    self.shot_log += [action]\n",
    "            ep_reward += reward\n",
    "        self.model_estimates = self.agent.model_estimates\n",
    "        return i, ep_reward\n",
    "\n"
   ]
  },
  {
   "cell_type": "code",
   "execution_count": 107,
   "metadata": {},
   "outputs": [],
   "source": [
    "# print('average steps uses is {}'.format(DQN_SingleModel_GameRecord['steps'].mean()))"
   ]
  },
  {
   "cell_type": "code",
   "execution_count": 9,
   "metadata": {
    "ExecuteTime": {
     "end_time": "2020-11-06T21:23:49.356597Z",
     "start_time": "2020-11-06T21:22:59.938373Z"
    }
   },
   "outputs": [
    {
     "name": "stderr",
     "output_type": "stream",
     "text": [
      "100%|███████████████████████████████████████████████████████████████████████████████████████████████████████████████████████████████████████████████████████████████████████████████████████████████████████████████████████████████████████████████████████████████████████████████| 500/500 [00:47<00:00, 10.49it/s]"
     ]
    },
    {
     "name": "stdout",
     "output_type": "stream",
     "text": [
      "average steps uses is 71.276\n"
     ]
    },
    {
     "name": "stderr",
     "output_type": "stream",
     "text": [
      "\n"
     ]
    }
   ],
   "source": [
    "trained_DQN_model = load_model(r'.\\..\\agents\\model\\DQN_V2_06102020_1.model')\n",
    "dqn_env = gym.make('battleshipBasic-v0',board_shape=(10,10), verbose=False, obs_3d=True)\n",
    "DQN_SingleMdel = BattleShipAgent(model=trained_DQN_model, log_saving=False)\n",
    "DQN_SingleModel_GameRecord,_ =\\\n",
    "    agent_test(agent=DQN_SingleMdel, \n",
    "               env=env, \n",
    "               game_rounds=500, \n",
    "               agent_name='DQN_SModel', \n",
    "               model_agent=True, \n",
    "               log_save=False)\n",
    "\n",
    "    \n",
    "print('average steps uses is {}'.format(DQN_SingleModel_GameRecord['steps'].mean()))\n",
    "DQN_SingleModel_GameRecord.to_csv(r'c:\\temp\\DQN_SingleModel.csv')"
   ]
  },
  {
   "cell_type": "code",
   "execution_count": 10,
   "metadata": {
    "ExecuteTime": {
     "end_time": "2020-11-06T21:24:33.062165Z",
     "start_time": "2020-11-06T21:24:33.052163Z"
    }
   },
   "outputs": [],
   "source": [
    "# trained_DQN_model = load_model(r'.\\..\\agents\\model\\DQN_V2_06102020_1.model')\n",
    "# dqn_env = gym.make('battleshipBasic-v0',board_shape=(10,10), verbose=False, obs_3d=True)\n",
    "# DQN_SingleMdel = BattleShipAgent(model=trained_DQN_model, log_saving=True)\n",
    "# _,DQN_SingleMdel_GameDict =\\\n",
    "#     agent_test(agent=DQN_SingleMdel, \n",
    "#                env=env, \n",
    "#                game_rounds=10, \n",
    "#                agent_name='DQN_SModel', \n",
    "#                model_agent=True, \n",
    "#                log_save=True)\n",
    "\n",
    "    \n",
    "# # print('average steps uses is {}'.format(DQN_DoubleModel_GameRecord['steps'].mean()))"
   ]
  },
  {
   "cell_type": "code",
   "execution_count": 97,
   "metadata": {},
   "outputs": [],
   "source": [
    "# DQN_SModel_game = game_viz(board_shape=(10,10),agent_name='DQN_SingleModel_Agent', \n",
    "#                            game_hist=DQN_SingleMdel_GameDict[2],\n",
    "#                            anim_flag=True, \n",
    "#                            model_agent=True,\n",
    "#                            obs_3d=True,\n",
    "#                            value_range=(-20,+20))"
   ]
  },
  {
   "cell_type": "markdown",
   "metadata": {},
   "source": [
    "![SegmentLocal](images\\DQN_SingleModel_Agent_Game.gif \"segment\")"
   ]
  },
  {
   "cell_type": "code",
   "execution_count": 95,
   "metadata": {},
   "outputs": [],
   "source": [
    "# # DQN_V2_06102020_1 DQN_V2_06082020_5\n",
    "# # DQN_V2_06102020_2\n",
    "# trained_DQN_model = load_model(r'.\\..\\agents\\model\\DQN_V2_06102020_1.model')\n",
    "# dqn_env = gym.make('battleshipBasic-v0',board_shape=(10,10), verbose=False, obs_3d=True)\n",
    "# DQN_SingleMdel = BattleShipAgent(model=trained_DQN_model, log_saving=False)\n",
    "# # SearchHuntAgent1 = SearchHuntAgent(board_shape=(10,10), verbose=False, log_saving=True)\n",
    "# step_record = []\n",
    "# reward_record = []\n",
    "# data_SModel_DQN_Agent ={}\n",
    "# # for i in tqdm(range(1_000_000)):\n",
    "# for i in tqdm(range(10), position=0, leave=True): \n",
    "#     DQN_SingleMdel.reset_log()\n",
    "#     total_step, reward = DQN_SingleMdel.test(dqn_env)\n",
    "#     step_record += [total_step]\n",
    "#     reward_record += [reward]\n",
    "#     if i <=10:\n",
    "#         data_SModel_DQN_Agent[i] ={'observations': DQN_SingleMdel.obs_hist, \n",
    "#                           'target': dqn_env.board.map.flatten(), \n",
    "#                           'shot':DQN_SingleMdel.shot_log,\n",
    "#                           'model_estimates':DQN_SingleMdel.model_estimates}\n",
    "#     if i == 11:\n",
    "#         DQN_SingleMdel.log_saving = False\n",
    "# #     print(data_dict)\n",
    "\n",
    "# # DQN_SingleModel_GameRecord = pd.DataFrame({'AgentName':['SearchHuntAgent']*len(step_record),\n",
    "# #                                            'steps':step_record,\n",
    "# #                                            'reward':reward_record})"
   ]
  },
  {
   "cell_type": "code",
   "execution_count": 96,
   "metadata": {},
   "outputs": [],
   "source": [
    "# print('average steps uses is {}'.format(DQN_SingleModel_GameRecord['steps'].mean()))"
   ]
  },
  {
   "cell_type": "code",
   "execution_count": 94,
   "metadata": {
    "scrolled": false
   },
   "outputs": [],
   "source": [
    "# SModel_framer = single_frame_viz(7,game_hist=data_SModel_DQN_Agent[2],  \n",
    "#                                  model_obj=None, \n",
    "#                                  obs_3d=True,                         \n",
    "#                                  model_agent=True,\n",
    "#                                  board_shape=(10,10), \n",
    "#                                  value_range=(-20,20))\n"
   ]
  },
  {
   "cell_type": "markdown",
   "metadata": {},
   "source": [
    "### Double Model"
   ]
  },
  {
   "cell_type": "code",
   "execution_count": 11,
   "metadata": {
    "ExecuteTime": {
     "end_time": "2020-11-06T21:24:36.177921Z",
     "start_time": "2020-11-06T21:24:36.142912Z"
    }
   },
   "outputs": [],
   "source": [
    "class DQN:\n",
    "    def __init__(self, env, model=None, log_saving=False):\n",
    "        self.log_saving = log_saving\n",
    "        self.env = env\n",
    "        self.memory = deque(maxlen=2000)\n",
    "        self.gamma = 0.9\n",
    "        self.epsilon = 1.0\n",
    "        self.epsilon_min = 0.01\n",
    "        self.epsilon_decay = 0.7\n",
    "        self.learning_rate = 0.0001\n",
    "        self.exploration_min = 0.01\n",
    "        self.exploration_rate = 0.4\n",
    "        self.tau = .125\n",
    "        self.obs_hist = None\n",
    "        self.shot_log = []\n",
    "        self.model_estimates = None\n",
    "        self.state_shape = self.env.observation_space.shape\n",
    "        # self.weight_backup = r'.\\model\\DQN_V3_06082020_3.model'\n",
    "        self.weight_backup = r'.\\model\\DQN_V3_06092020_1.model'\n",
    "        if model is not None:\n",
    "            self.model = model\n",
    "            self.target_model = model\n",
    "        else:\n",
    "            self.model = self.create_model(self.env.observation_space.shape)\n",
    "            self.target_model = self.create_model(self.env.observation_space.shape)\n",
    "            \n",
    "    def reset_log(self):\n",
    "        self.obs_hist = None\n",
    "        self.shot_log = []\n",
    "        self.model_estimates = None\n",
    "\n",
    "    def create_model(self, input_shape):\n",
    "        X_input = Input(input_shape)\n",
    "        X = ZeroPadding2D((3, 3))(X_input)\n",
    "        X = Conv2D(32, (7, 7), strides=(1, 1), name='conv0')(X)\n",
    "        X = BatchNormalization(axis=3, name='bn0')(X)\n",
    "        X = ZeroPadding2D((3, 3))(X)\n",
    "        X = Conv2D(32, (7, 7), strides=(1, 1), name='conv1')(X)\n",
    "        X = BatchNormalization(axis=3, name='bn1')(X)\n",
    "        X = Activation('relu')(X)\n",
    "        X = MaxPooling2D((2, 2), name='max_pool')(X)\n",
    "        # FLATTEN X (means convert it to a vector) + FULLYCONNECTED\n",
    "        X = Flatten()(X)\n",
    "#         X = Dense(100, activation='sigmoid', name='fc')(X)\n",
    "        \n",
    "        X = Dense(100, activation='linear', name='fc')(X)\n",
    "        # Create model. This creates your Keras model instance, you'll use this instance to train/test the model.\n",
    "        model = Model(inputs=X_input, outputs=X, name='HappyModel')\n",
    "        model.compile(loss='mse', optimizer=Adam(lr=self.learning_rate))\n",
    "        if os.path.isfile(self.weight_backup):\n",
    "            model.load_weights(self.weight_backup)\n",
    "            self.exploration_rate = self.exploration_min\n",
    "        print(model.summary())\n",
    "        return model\n",
    "\n",
    "    def model_pretrain(self, game_logs, batch_size, epochs):\n",
    "        train_x, train_y = train_data_process(game_logs, reward=True)\n",
    "        self.target_model.fit(train_x, train_y,\n",
    "                              batch_size=batch_size,\n",
    "                              epochs=epochs, verbose=2)\n",
    "        self.save_model(self.weight_backup)\n",
    "        self.model.load_weights(self.weight_backup) # assign same weights\n",
    "\n",
    "    def act(self, state, explore=True):\n",
    "        self.epsilon *= self.epsilon_decay\n",
    "        self.epsilon = max(self.epsilon_min, self.epsilon)\n",
    "        if explore and (np.random.random() < self.epsilon):\n",
    "            print('explore')\n",
    "            return self.env.action_space.sample()\n",
    "        act_values = self.model.predict(state)[0]\n",
    "        if self.log_saving:\n",
    "            if self.model_estimates is None:\n",
    "                self.model_estimates = act_values.reshape((1,) + act_values.shape)\n",
    "            else:\n",
    "                self.model_estimates = np.concatenate([self.model_estimates, act_values.reshape((1,) + act_values.shape)])\n",
    "        act_values[state[..., 0].flatten() != 0] = -99\n",
    "        return np.argmax(act_values)\n",
    "\n",
    "    def remember(self, state, action, reward, new_state, done):\n",
    "        self.memory.append([state, action, reward, new_state, done])\n",
    "\n",
    "    def replay(self):\n",
    "        batch_size = 256\n",
    "        if len(self.memory) < batch_size:\n",
    "            return\n",
    "        samples = random.sample(self.memory, batch_size)\n",
    "        state_input = np.array([])\n",
    "        target_input = np.array([])\n",
    "        for sample in samples:\n",
    "            state, action, reward, new_state, done = sample\n",
    "            target = self.target_model.predict(state)\n",
    "            if done:\n",
    "                target[0][action] = reward\n",
    "            else:\n",
    "                Q_future = max(self.target_model.predict(new_state)[0])\n",
    "                target[0][action] = reward + Q_future * self.gamma\n",
    "            if sum(state_input.shape) == 0:\n",
    "                state_input = state\n",
    "                target_input = target\n",
    "            else:\n",
    "                state_input = np.concatenate([state_input, state])\n",
    "                target_input = np.concatenate([target_input, target])\n",
    "        self.model.fit(state_input, target_input, batch_size=32, epochs=2, verbose=1)\n",
    "\n",
    "    def target_train(self):\n",
    "        weights = self.model.get_weights()\n",
    "        target_weights = self.target_model.get_weights()\n",
    "        for i in range(len(target_weights)):\n",
    "            target_weights[i] = weights[i] * self.tau + target_weights[i] * (1 - self.tau)\n",
    "        self.target_model.set_weights(target_weights)\n",
    "\n",
    "    def save_model(self, fn):\n",
    "        self.target_model.save(fn)\n",
    "\n",
    "    def test(self, env):\n",
    "        obs, done, ep_reward = env.reset(), False, 0\n",
    "        i = 0\n",
    "        while not done:\n",
    "            i += 1\n",
    "            obs = np.reshape(obs, (1,) + obs.shape)\n",
    "            action = self.act(obs, explore=False)\n",
    "            obs, reward, done, _ = env.step(action)\n",
    "            if self.log_saving:\n",
    "                if i == 1:\n",
    "                    self.obs_hist = np.reshape(obs, (1,) + obs.shape)\n",
    "                    self.shot_log = [action]\n",
    "                else:\n",
    "                    self.obs_hist = np.concatenate([self.obs_hist, np.reshape(obs, (1,) + obs.shape)])\n",
    "                    self.shot_log += [action]\n",
    "            ep_reward += reward\n",
    "        return i, ep_reward\n",
    "\n",
    "    def train(self, env, trials=1000, game_logs=None):\n",
    "        if game_logs is not None:\n",
    "            self.model_pretrain(game_logs, 128, 4)\n",
    "        steps = []\n",
    "        for trial in range(trials):\n",
    "            cur_state = env.reset()\n",
    "            cur_state = np.reshape(cur_state, (1,) + env.observation_space.shape)\n",
    "            total_reward = 0\n",
    "            total_step = 0\n",
    "            done = False\n",
    "            while not done:\n",
    "                action = self.act(cur_state)\n",
    "                # print(action)\n",
    "                new_state, reward, done, _ = env.step(action)\n",
    "                new_state = np.reshape(new_state, (1,) + env.observation_space.shape)\n",
    "                self.remember(cur_state, action, reward, new_state, done)\n",
    "                cur_state = new_state\n",
    "                total_reward += reward\n",
    "                total_step += 1\n",
    "            self.replay()  # internally iterates default (prediction) model\n",
    "            if trial % 100 == 0:\n",
    "                self.target_train()\n",
    "                self.save_model(self.weight_backup)\n",
    "            steps += [total_step]\n",
    "            if len(steps) <= 200:\n",
    "                mean_steps = np.mean(steps)\n",
    "            else:\n",
    "                mean_steps = np.mean(steps[-200:])\n",
    "            print(\"Completed in {} trials with reward {} and step {}, average steps {}\".format(trial,\n",
    "                                                                                               total_reward, total_step,\n",
    "                                                                                               mean_steps))\n",
    "        self.save_model(self.weight_backup)"
   ]
  },
  {
   "cell_type": "code",
   "execution_count": 12,
   "metadata": {
    "ExecuteTime": {
     "end_time": "2020-11-06T21:25:24.233853Z",
     "start_time": "2020-11-06T21:24:40.621037Z"
    }
   },
   "outputs": [
    {
     "name": "stderr",
     "output_type": "stream",
     "text": [
      "100%|███████████████████████████████████████████████████████████████████████████████████████████████████████████████████████████████████████████████████████████████████████████████████████████████████████████████████████████████████████████████████████████████████████████████| 500/500 [00:41<00:00, 11.95it/s]"
     ]
    },
    {
     "name": "stdout",
     "output_type": "stream",
     "text": [
      "average steps uses is 60.19\n"
     ]
    },
    {
     "name": "stderr",
     "output_type": "stream",
     "text": [
      "\n"
     ]
    }
   ],
   "source": [
    "dqn_env = gym.make('battleshipBasic-v0',board_shape=(10,10), verbose=False, obs_3d=True)\n",
    "# DQN_V3_06092020_2\n",
    "trained_DQN_model = load_model(r'.\\..\\agents\\model\\DQN_V3_06102020_1.model')\n",
    "dqn_DModel_agent_V1 = DQN(env=dqn_env, model=trained_DQN_model, log_saving=False)\n",
    "DQN_DoubleModel_GameRecord,_ =\\\n",
    "    agent_test(agent=dqn_DModel_agent_V1, \n",
    "               env=env, \n",
    "               game_rounds=500, \n",
    "               agent_name='RandomAgent', \n",
    "               model_agent=True, \n",
    "               log_save=False)\n",
    "\n",
    "    \n",
    "print('average steps uses is {}'.format(DQN_DoubleModel_GameRecord['steps'].mean()))\n",
    "DQN_DoubleModel_GameRecord.to_csv(r'c:\\temp\\DQN_Double.csv')"
   ]
  },
  {
   "cell_type": "code",
   "execution_count": 63,
   "metadata": {
    "ExecuteTime": {
     "end_time": "2020-11-07T02:50:31.190579Z",
     "start_time": "2020-11-07T02:50:27.882795Z"
    }
   },
   "outputs": [
    {
     "name": "stderr",
     "output_type": "stream",
     "text": [
      "100%|█████████████████████████████████████████████████████████████████████████████████████████████████████████████████████████████████████████████████████████████████████████████████████████████████████████████████████████████████████████████████████████████████████████████████| 10/10 [00:01<00:00,  9.01it/s]\n"
     ]
    }
   ],
   "source": [
    "dqn_env = gym.make('battleshipBasic-v0',board_shape=(10,10), verbose=False, obs_3d=True)\n",
    "# DQN_V3_06092020_2\n",
    "trained_DQN_model = load_model(r'.\\..\\agents\\model\\DQN_V3_06102020_1.model')\n",
    "dqn_DModel_agent_V1 = DQN(env=dqn_env, model=trained_DQN_model, log_saving=True)\n",
    "_,DQN_DoubleModel_GameDict =\\\n",
    "    agent_test(agent=dqn_DModel_agent_V1, \n",
    "               env=env, \n",
    "               game_rounds=10, \n",
    "               agent_name='RandomAgent', \n",
    "               model_agent=True, \n",
    "               log_save=True)\n",
    "\n",
    "    \n",
    "# print('average steps uses is {}'.format(DQN_DoubleModel_GameRecord['steps'].mean()))"
   ]
  },
  {
   "cell_type": "code",
   "execution_count": 65,
   "metadata": {
    "ExecuteTime": {
     "end_time": "2020-11-07T06:17:04.271920Z",
     "start_time": "2020-11-07T06:17:04.256917Z"
    }
   },
   "outputs": [
    {
     "data": {
      "text/plain": [
       "0.11098779134295228"
      ]
     },
     "execution_count": 65,
     "metadata": {},
     "output_type": "execute_result"
    }
   ],
   "source": [
    "1/9.01"
   ]
  },
  {
   "cell_type": "code",
   "execution_count": 65,
   "metadata": {
    "ExecuteTime": {
     "end_time": "2020-11-07T02:51:09.600601Z",
     "start_time": "2020-11-07T02:51:09.457939Z"
    }
   },
   "outputs": [
    {
     "data": {
      "image/png": "[encoded data removed]",
      "text/plain": [
       "<Figure size 576x576 with 1 Axes>"
      ]
     },
     "metadata": {},
     "output_type": "display_data"
    }
   ],
   "source": [
    "SModel_framer = single_frame_viz(0,game_hist=DQN_DoubleModel_GameDict[2],  \n",
    "                                 model_obj=None, \n",
    "                                 obs_3d=True,                         \n",
    "                                 model_agent=True,\n",
    "                                 board_shape=(10,10), \n",
    "                                 value_range=(-20,20),\n",
    "                                title='Turn #1')\n"
   ]
  },
  {
   "cell_type": "code",
   "execution_count": 66,
   "metadata": {
    "ExecuteTime": {
     "end_time": "2020-11-07T02:51:24.109034Z",
     "start_time": "2020-11-07T02:51:23.951988Z"
    }
   },
   "outputs": [
    {
     "data": {
      "image/png": "[encoded data removed]",
      "text/plain": [
       "<Figure size 576x576 with 1 Axes>"
      ]
     },
     "metadata": {},
     "output_type": "display_data"
    }
   ],
   "source": [
    "SModel_framer = single_frame_viz(1,game_hist=DQN_DoubleModel_GameDict[2],  \n",
    "                                 model_obj=None, \n",
    "                                 obs_3d=True,                         \n",
    "                                 model_agent=True,\n",
    "                                 board_shape=(10,10), \n",
    "                                 value_range=(-20,20),\n",
    "                                title='Turn #2')\n"
   ]
  },
  {
   "cell_type": "code",
   "execution_count": 71,
   "metadata": {
    "ExecuteTime": {
     "end_time": "2020-11-07T02:52:15.602216Z",
     "start_time": "2020-11-07T02:52:15.445586Z"
    }
   },
   "outputs": [
    {
     "data": {
      "image/png": "[encoded data removed]",
      "text/plain": [
       "<Figure size 576x576 with 1 Axes>"
      ]
     },
     "metadata": {},
     "output_type": "display_data"
    }
   ],
   "source": [
    "SModel_framer = single_frame_viz(2,game_hist=DQN_DoubleModel_GameDict[2],  \n",
    "                                 model_obj=None, \n",
    "                                 obs_3d=True,                         \n",
    "                                 model_agent=True,\n",
    "                                 board_shape=(10,10), \n",
    "                                 value_range=(-20,20),\n",
    "                                title='Turn #3')\n"
   ]
  },
  {
   "cell_type": "code",
   "execution_count": 72,
   "metadata": {
    "ExecuteTime": {
     "end_time": "2020-11-07T02:52:25.683968Z",
     "start_time": "2020-11-07T02:52:25.523742Z"
    }
   },
   "outputs": [
    {
     "data": {
      "image/png": "[encoded data removed]",
      "text/plain": [
       "<Figure size 576x576 with 1 Axes>"
      ]
     },
     "metadata": {},
     "output_type": "display_data"
    }
   ],
   "source": [
    "SModel_framer = single_frame_viz(3,game_hist=DQN_DoubleModel_GameDict[2],  \n",
    "                                 model_obj=None, \n",
    "                                 obs_3d=True,                         \n",
    "                                 model_agent=True,\n",
    "                                 board_shape=(10,10), \n",
    "                                 value_range=(-20,20),\n",
    "                                title='Turn #4')\n"
   ]
  },
  {
   "cell_type": "code",
   "execution_count": 77,
   "metadata": {
    "ExecuteTime": {
     "end_time": "2020-11-07T02:55:00.097467Z",
     "start_time": "2020-11-07T02:54:59.925254Z"
    }
   },
   "outputs": [
    {
     "data": {
      "image/png": "[encoded data removed]",
      "text/plain": [
       "<Figure size 576x576 with 1 Axes>"
      ]
     },
     "metadata": {},
     "output_type": "display_data"
    }
   ],
   "source": [
    "SModel_framer = single_frame_viz(5,game_hist=DQN_DoubleModel_GameDict[2],  \n",
    "                                 model_obj=None, \n",
    "                                 obs_3d=True,                         \n",
    "                                 model_agent=True,\n",
    "                                 board_shape=(10,10), \n",
    "                                 value_range=(-20,20),\n",
    "                                title='Turn #6')\n"
   ]
  },
  {
   "cell_type": "code",
   "execution_count": 92,
   "metadata": {},
   "outputs": [],
   "source": [
    "# DQN_DModel_game = game_viz(board_shape=(10,10),agent_name='DQN_DoubleModel_Agent', \n",
    "#                            game_hist=DQN_DoubleModel_GameDict[1],\n",
    "#                            anim_flag=True, \n",
    "#                            model_agent=True,\n",
    "#                            obs_3d=True ,\n",
    "#                           value_range=(-20,+20))"
   ]
  },
  {
   "cell_type": "markdown",
   "metadata": {},
   "source": [
    "![SegmentLocal](images\\DQN_DoubleModel_Agent_Game.gif \"segment\")"
   ]
  },
  {
   "cell_type": "code",
   "execution_count": 100,
   "metadata": {},
   "outputs": [],
   "source": [
    "# HTML(DQN_DModel_game.to_html5_video())"
   ]
  },
  {
   "cell_type": "code",
   "execution_count": 35,
   "metadata": {},
   "outputs": [],
   "source": [
    "# dqn_env = gym.make('battleshipBasic-v0',board_shape=(10,10), verbose=False, obs_3d=True)\n",
    "# # DQN_V3_06092020_2\n",
    "# trained_DQN_model = load_model(r'.\\..\\agents\\model\\DQN_V3_06102020_1.model')\n",
    "# dqn_agent_V3 = DQN(env=dqn_env, model=trained_DQN_model, log_saving=True)\n",
    "\n",
    "# step_record = []\n",
    "# reward_record = []\n",
    "# data_dict_agent3 ={}\n",
    "# # for i in tqdm(range(1_000_000)):\n",
    "# for i in tqdm(range(1_000), position=0, leave=False): \n",
    "#     dqn_agent_V3.reset_log()\n",
    "#     total_step, reward = dqn_agent_V3.test(dqn_env)\n",
    "#     step_record += [total_step]\n",
    "#     reward_record += [reward]\n",
    "#     if i <= 10:\n",
    "#         data_dict_agent3[i] ={'observations': dqn_agent_V3.obs_hist,\n",
    "#                           'target': dqn_env.board.map.flatten(), \n",
    "#                           'shot':dqn_agent_V3.shot_log,\n",
    "#                          'model_estimates':dqn_agent_V3.model_estimates}\n",
    "# #     print(data_dict)\n",
    "\n",
    "# DQN_DoubleModel_GameRecord = pd.DataFrame({'AgentName':['SearchHuntAgent']*len(step_record),\n",
    "#                                            'steps':step_record,\n",
    "#                                            'reward':reward_record})"
   ]
  },
  {
   "cell_type": "code",
   "execution_count": 36,
   "metadata": {},
   "outputs": [],
   "source": [
    "# print('average steps uses is {}'.format(DQN_DoubleModel_GameRecord['steps'].mean()))"
   ]
  },
  {
   "cell_type": "markdown",
   "metadata": {},
   "source": [
    "## MC Agent"
   ]
  },
  {
   "cell_type": "code",
   "execution_count": 27,
   "metadata": {
    "ExecuteTime": {
     "end_time": "2020-11-07T03:27:02.285901Z",
     "start_time": "2020-11-07T03:27:02.229889Z"
    }
   },
   "outputs": [],
   "source": [
    "class MCAgent(object):\n",
    "    def __init__(self, board_shape, multiprocess=True, verbose=False, log_saving=False, simulation_round=100):\n",
    "        self.verbose = verbose\n",
    "        self.shape = board_shape\n",
    "        self.log_saving = log_saving\n",
    "        self.obs_hist = None\n",
    "        self.pool = Pool()\n",
    "        self.simulation_round = simulation_round\n",
    "        self.multiprocess = multiprocess\n",
    "        self.hunt_queue = []\n",
    "        self.shot_log = []\n",
    "        self.prev_obs = np.zeros([self.shape[0], self.shape[1]], dtype=np.int16)\n",
    "        self.model_estimates = None\n",
    "        # self.pool = Pool()  # Create a multiprocessing Pool\n",
    "\n",
    "    def __getstate__(self):\n",
    "        self_dict = self.__dict__.copy()\n",
    "        del self_dict['pool']\n",
    "        return self_dict\n",
    "\n",
    "    @staticmethod\n",
    "    def check_place(ship_loc, miss_map, curr_ship_map):\n",
    "        if ship_loc[0][0] == ship_loc[1][0]:  # this is a horizontal ship\n",
    "            miss_map_vals = miss_map[ship_loc[0][0], ship_loc[0][1]:ship_loc[1][1]]\n",
    "            curr_ship_map_vals = curr_ship_map[ship_loc[0][0], ship_loc[0][1]:ship_loc[1][1]]\n",
    "        elif ship_loc[0][1] == ship_loc[1][1]:\n",
    "            miss_map_vals = miss_map[ship_loc[0][0]:ship_loc[1][0], ship_loc[0][1]]\n",
    "            curr_ship_map_vals = curr_ship_map[ship_loc[0][0]:ship_loc[1][0], ship_loc[0][1]]\n",
    "        else:\n",
    "            return False\n",
    "        miss_unique = np.unique(miss_map_vals)\n",
    "        curr_unique = np.unique(curr_ship_map_vals)\n",
    "        if (miss_unique[0] == 0) & (curr_unique[0] == 0) & (len(miss_unique) == 1) & (len(curr_unique) == 1):\n",
    "            return True\n",
    "        else:\n",
    "            return False\n",
    "\n",
    "    @staticmethod\n",
    "    def assign_ship(target_baord, loc):\n",
    "        if loc[0][0] == loc[1][0]:\n",
    "            target_baord[loc[0][0], loc[0][1]:loc[1][1]] = 1\n",
    "        else:\n",
    "            target_baord[loc[0][0]:loc[1][0], loc[0][1]] = 1\n",
    "        return target_baord\n",
    "\n",
    "    @staticmethod\n",
    "    def check_board(board, obs):\n",
    "        sunk_ids = board.sunk\n",
    "        simu_starting_board = np.zeros(board.shape, dtype=np.int16)\n",
    "        curr_missing_board = np.zeros(board.shape, dtype=np.int16)\n",
    "        occupied_cell = []\n",
    "        missed_shot = np.where(obs == 1)\n",
    "        missed_shot_loc = []\n",
    "        for i in range(np.shape(missed_shot)[1]):\n",
    "            missed_shot_loc += [missed_shot[1][i] + missed_shot[0][i] * 10]\n",
    "        curr_missing_board[missed_shot] = 1\n",
    "        hit_shot = np.where(obs == 2)\n",
    "        hit_shot_loc = []\n",
    "        for i in range(np.shape(hit_shot)[1]):\n",
    "            hit_shot_loc += [hit_shot[1][i] + hit_shot[0][i] * 10]\n",
    "        for sunk_id in sunk_ids:\n",
    "            _sunk_locs = board.ships[sunk_id].loc\n",
    "            if _sunk_locs[0][0] == _sunk_locs[1][0]:\n",
    "                simu_starting_board[_sunk_locs[0][0], _sunk_locs[0][1]:_sunk_locs[1][1]] = 1\n",
    "                curr_ship_cell = [_sunk_locs[0][0] * board.shape[0] + i for i in range(_sunk_locs[0][1], _sunk_locs[1][1])]\n",
    "                assert len(curr_ship_cell) == board.ships[sunk_id].length\n",
    "                occupied_cell += curr_ship_cell\n",
    "            else:\n",
    "                simu_starting_board[_sunk_locs[0][0]:_sunk_locs[1][0], _sunk_locs[0][1]] = 1\n",
    "                curr_ship_cell = [i * board.shape[0] + _sunk_locs[0][1] for i in range(_sunk_locs[0][0], _sunk_locs[1][0])]\n",
    "                assert len(curr_ship_cell) == board.ships[sunk_id].length\n",
    "                occupied_cell += curr_ship_cell\n",
    "        available_hit_cell = list(set(hit_shot_loc) - set(occupied_cell))\n",
    "        empty_cell = list(set(np.arange(board.shape[0]*board.shape[1])) - set(occupied_cell) -\n",
    "                          set(missed_shot_loc) - set(available_hit_cell))\n",
    "        return simu_starting_board, curr_missing_board, empty_cell, available_hit_cell\n",
    "\n",
    "    def convert_loc(self, loc, board_shape):\n",
    "        y, x = divmod(loc, board_shape[0])\n",
    "        return y, x\n",
    "\n",
    "    def multiprocessing_simulation(self,  board, obs, simulation_num=1000):\n",
    "        start_time = time.time()\n",
    "        available_ship_ids = [_id for _id in board.ships.keys() if _id not in board.sunk]\n",
    "        get_ship_time = time.time()\n",
    "        if self.verbose:\n",
    "            print('time used for get ship id, ', (get_ship_time - start_time))\n",
    "        starting_board, missing_board, all_loc_sapce, hit_loc_space = \\\n",
    "            self.check_board(board, obs)\n",
    "        check_board_time = time.time()\n",
    "        if self.verbose:\n",
    "            print('time used for check_board, ', (check_board_time - get_ship_time))\n",
    "        ship_len_dict = {_id: board.ships[_id].length for _id in board.ships.keys()}\n",
    "        partial_func = functools.partial(self.signle_simulation,\n",
    "                                         board,\n",
    "                                         available_ship_ids,\n",
    "                                         starting_board,\n",
    "                                         missing_board,\n",
    "                                         all_loc_sapce,\n",
    "                                         hit_loc_space,\n",
    "                                         ship_len_dict)\n",
    "        partial_func_time = time.time()\n",
    "        if self.verbose:\n",
    "            print('time used for partial function, ', (partial_func_time - check_board_time))\n",
    "        pool_creation = time.time()\n",
    "        if self.verbose:\n",
    "            print('time used for pool function, ', (pool_creation - partial_func_time))\n",
    "        if simulation_num == 1:\n",
    "            all_output = partial_func(1)\n",
    "            return all_output\n",
    "        elif self.multiprocess:\n",
    "            all_output = self.pool.map(partial_func, range(simulation_num))  # process data_inputs iterable with pool\n",
    "        else:\n",
    "            all_output = np.zeros((simulation_num,)+board.shape)\n",
    "            for i in range(simulation_num):\n",
    "                all_output[i] = partial_func(1)\n",
    "        simulation_time = time.time()\n",
    "        if self.verbose:\n",
    "            print('time used for simulation function, ', (simulation_time - pool_creation))\n",
    "        return np.sum(all_output, axis=0)\n",
    "\n",
    "    def signle_simulation(self, board, available_ship_ids, starting_board,\n",
    "                          missing_board, all_loc_sapce, hit_loc_space,ship_len_dict,count):\n",
    "        map_finish = False\n",
    "        board_shape = starting_board.shape\n",
    "        tot_assign = 0\n",
    "        illgeal_pos = missing_board + starting_board\n",
    "        while not map_finish:\n",
    "            curr_ship_ids = copy.copy(available_ship_ids)\n",
    "            curr_simulation_board = copy.copy(starting_board)\n",
    "            curr_all_loc_sapce = copy.copy(all_loc_sapce)\n",
    "            curr_hit_loc_space = copy.copy(hit_loc_space)\n",
    "            np.random.shuffle(curr_ship_ids)\n",
    "            np.random.shuffle(curr_all_loc_sapce)\n",
    "            assign_ships = []\n",
    "            if len(hit_loc_space) > 0:\n",
    "                np.random.shuffle(curr_hit_loc_space)\n",
    "            for j in range(len(curr_ship_ids)):\n",
    "                curr_ship_len = ship_len_dict[curr_ship_ids[j]]\n",
    "                assigned = False\n",
    "                # while not assigned\n",
    "                if len(curr_hit_loc_space) > 0:\n",
    "                    for k in range(len(curr_hit_loc_space)):\n",
    "                        direction = np.random.randint(2)\n",
    "                        if direction == 0: # horizontal\n",
    "                            choice_list = [curr_hit_loc_space[k] - shift for shift in range(curr_ship_len)\n",
    "                                           if ((curr_hit_loc_space[k] - shift) >= 0) &\n",
    "                                           (curr_hit_loc_space[k] % 10 - shift + curr_ship_len <= 10)]\n",
    "                            if len(choice_list) == 0:\n",
    "                                break\n",
    "                            loc = np.random.choice(choice_list, 1)[0]\n",
    "                            ship_loc = [self.convert_loc(loc,board_shape),\n",
    "                                        (self.convert_loc(loc,board_shape)[0],\n",
    "                                         self.convert_loc(loc,board_shape)[1] + curr_ship_len)]\n",
    "                        else:# vertical\n",
    "                            choice_list = [curr_hit_loc_space[k] - shift * board_shape[0]\n",
    "                                           for shift in range(curr_ship_len)\n",
    "                                           if ((curr_hit_loc_space[k] - shift * board_shape[0]) >= 0) &\n",
    "                                           ((curr_hit_loc_space[k] // 10 + (curr_ship_len - shift)) <= 10) &\n",
    "                                           ((curr_hit_loc_space[k] // 10 + (curr_ship_len - shift)) >= 0)]\n",
    "                            if len(choice_list) == 0:\n",
    "                                break\n",
    "                            loc = np.random.choice(choice_list, 1)[0]\n",
    "                            ship_loc = [self.convert_loc(loc, board_shape),\n",
    "                                        (self.convert_loc(loc,board_shape)[0] + curr_ship_len,\n",
    "                                         self.convert_loc(loc, board_shape)[1])]\n",
    "                        if self.check_place(ship_loc, missing_board, curr_simulation_board):\n",
    "                            curr_simulation_board = self.assign_ship(curr_simulation_board, ship_loc)\n",
    "                            ship_cells = [(ship_loc[0][0], ship_loc[0][1] + i) if direction == 0\n",
    "                                          else (ship_loc[0][0] + i, ship_loc[0][1]) for i in range(curr_ship_len)]\n",
    "                            for cell in ship_cells:\n",
    "                                cell_num = cell[0] * board_shape[0] + cell[1]\n",
    "                                if cell_num in curr_hit_loc_space:\n",
    "                                    curr_hit_loc_space.remove(cell_num)\n",
    "                            assign_ships += [curr_ship_ids[j]]\n",
    "                            tot_assign += 1\n",
    "                            # if self.verbose:\n",
    "                            #     print('currently working on ship', curr_ship_ids[j], 'with assignment',\n",
    "                            #           ship_loc, 'assigned ships are ', assign_ships)\n",
    "                            assigned = True\n",
    "                            break\n",
    "                if not assigned:\n",
    "                    for k in range(len(curr_all_loc_sapce)):\n",
    "                        hrz_list =[_loc for _loc in curr_all_loc_sapce if(_loc % 10 + curr_ship_len <= 10) &\n",
    "                                   (np.sum(illgeal_pos[self.convert_loc(_loc,board_shape)[0],\n",
    "                                           self.convert_loc(_loc, board_shape)[1]:\n",
    "                                           self.convert_loc(_loc, board_shape)[1] + curr_ship_len]) == 0)]\n",
    "                        vert_list = [_loc for _loc in curr_all_loc_sapce if ((_loc // 10 + curr_ship_len) <= 10) &\n",
    "                                     (np.sum(illgeal_pos[self.convert_loc(_loc, board_shape)[0]:\n",
    "                                                         self.convert_loc(_loc,board_shape)[0] + curr_ship_len,\n",
    "                                             self.convert_loc(_loc, board_shape)[1]]) == 0)]\n",
    "                        if len(hrz_list) == len(vert_list) == 0:\n",
    "                            break\n",
    "                        elif len(hrz_list) == 0:\n",
    "                            direction = 1\n",
    "                        elif len(vert_list) == 0:\n",
    "                            direction = 0\n",
    "                        else:\n",
    "                            direction = np.random.randint(2)\n",
    "\n",
    "                        if direction == 0:\n",
    "                            loc = np.random.choice(hrz_list, 1)[0]\n",
    "                            ship_loc = [self.convert_loc(loc,board_shape),\n",
    "                                        (self.convert_loc(loc,board_shape)[0],\n",
    "                                         self.convert_loc(loc,board_shape)[1] + curr_ship_len)]\n",
    "                        else:\n",
    "                            loc = np.random.choice(vert_list, 1)[0]\n",
    "                            ship_loc = [self.convert_loc(loc, board_shape),\n",
    "                                        (self.convert_loc(loc,board_shape)[0] + curr_ship_len,\n",
    "                                         self.convert_loc(loc, board_shape)[1])]\n",
    "                        if self.check_place(ship_loc, missing_board, curr_simulation_board):\n",
    "                            curr_simulation_board = self.assign_ship(curr_simulation_board, ship_loc)\n",
    "                            curr_all_loc_sapce.remove(loc)\n",
    "                            assign_ships += [curr_ship_ids[j]]\n",
    "                            # if self.verbose:\n",
    "                            #     print('currently working on ship', curr_ship_ids[j], 'with assignment',\n",
    "                            #           ship_loc, 'assigned ships are ', assign_ships)\n",
    "                            assigned = True\n",
    "                            tot_assign += 1\n",
    "                            break\n",
    "                    if not assigned:\n",
    "                        break  # ship assignment failed start-over again.\n",
    "            if len(assign_ships) != len(curr_ship_ids):\n",
    "                continue\n",
    "            else:\n",
    "                return curr_simulation_board\n",
    "\n",
    "    def reset_log(self):\n",
    "        self.shot_log = []\n",
    "        self.obs_hist = None\n",
    "        self.model_estimates = None\n",
    "\n",
    "    def action(self, obs, board):\n",
    "        if len(obs.shape) == 3:\n",
    "            obs = obs[..., 0] + obs[..., 2]  # flatten the inputs\n",
    "        mc_estimation_est_orig = self.multiprocessing_simulation(board, obs, self.simulation_round)\n",
    "        mc_estimation_est = (mc_estimation_est_orig/ self.simulation_round).flatten()\n",
    "        if self.log_saving:\n",
    "            if self.model_estimates is None:\n",
    "                self.model_estimates = mc_estimation_est.reshape((1,) + mc_estimation_est.shape)\n",
    "            else:\n",
    "                self.model_estimates = np.concatenate([self.model_estimates, mc_estimation_est.reshape((1,) + mc_estimation_est.shape)])\n",
    "        flatten_obs = obs.flatten()\n",
    "        mc_estimation_est[flatten_obs > 0] = -1  # assign shoot position as -1\n",
    "        action_val = np.argmax(mc_estimation_est)\n",
    "        if self.verbose:\n",
    "            print(mc_estimation_est_orig)\n",
    "            print(obs)\n",
    "            print(mc_estimation_est)\n",
    "            print(action_val)\n",
    "        return action_val\n",
    "\n",
    "    def test(self, env):\n",
    "        obs, done, ep_reward = env.reset(), False, 0\n",
    "        i = 0\n",
    "        while not done:\n",
    "            i += 1\n",
    "            if self.verbose:\n",
    "                print('###### Round ', i, '############')\n",
    "                print(time.time())\n",
    "            action = self.action(obs, env.board)\n",
    "            if len(obs.shape) == 3:\n",
    "                obs = obs[..., 0] + obs[..., 2]  # flatten the inputs\n",
    "            self.prev_obs = obs\n",
    "            obs, reward, done, _ = env.step(action)\n",
    "            if self.log_saving:\n",
    "                if i == 1:\n",
    "                    self.obs_hist = obs.reshape((1,) + obs.shape)\n",
    "                    self.shot_log = [action]\n",
    "                else:\n",
    "                    self.obs_hist = np.concatenate([self.obs_hist, obs.reshape((1,) + obs.shape)])\n",
    "                    self.shot_log += [action]\n",
    "            ep_reward += reward\n",
    "        return i, ep_reward\n"
   ]
  },
  {
   "cell_type": "markdown",
   "metadata": {},
   "source": [
    "Without Multiprocessing, the MC_Agent takes ~1 mins to finish a game. With multiprocessing, each game only takes ~10 seconds. However, this is still much slower compared with other agents."
   ]
  },
  {
   "cell_type": "code",
   "execution_count": 28,
   "metadata": {
    "ExecuteTime": {
     "end_time": "2020-11-07T03:29:29.683796Z",
     "start_time": "2020-11-07T03:27:02.733965Z"
    },
    "scrolled": true
   },
   "outputs": [
    {
     "name": "stderr",
     "output_type": "stream",
     "text": [
      "\n",
      "  0%|                                                                                                                                                                                                                                                                                           | 0/2 [00:00<?, ?it/s]\u001b[A\n",
      " 50%|█████████████████████████████████████████████████████████████████████████████████████████████████████████████████████████████████████████▌                                                                                                                                         | 1/2 [01:03<01:03, 63.77s/it]\u001b[A\n",
      "100%|███████████████████████████████████████████████████████████████████████████████████████████████████████████████████████████████████████████████████████████████████████████████████████████████████████████████████████████████████████████████████████████████████████████████████| 2/2 [02:26<00:00, 73.40s/it]\u001b[A\n"
     ]
    }
   ],
   "source": [
    "\n",
    "env_mc = gym.make('battleshipBasic-v0',board_shape=(10,10), verbose=False, obs_3d=False)\n",
    "MC_Agent1 = MCAgent(board_shape=(10,10),multiprocess=False,  verbose=False, log_saving=True, simulation_round=500)\n",
    "MCAgent_GameRecord,MCAgent_GameDict =\\\n",
    "    agent_test(agent=MC_Agent1, \n",
    "               env=env_mc,                \n",
    "               game_rounds=2, \n",
    "               agent_name='MCAgent', \n",
    "               model_agent=True, \n",
    "               log_save=True)"
   ]
  },
  {
   "cell_type": "code",
   "execution_count": 29,
   "metadata": {
    "ExecuteTime": {
     "end_time": "2020-11-07T03:29:40.501295Z",
     "start_time": "2020-11-07T03:29:40.497303Z"
    }
   },
   "outputs": [
    {
     "data": {
      "text/plain": [
       "(10, 10)"
      ]
     },
     "execution_count": 29,
     "metadata": {},
     "output_type": "execute_result"
    }
   ],
   "source": [
    "MCAgent_GameDict[0]['observations'][0].shape"
   ]
  },
  {
   "cell_type": "code",
   "execution_count": 43,
   "metadata": {
    "ExecuteTime": {
     "end_time": "2020-11-07T03:32:17.963186Z",
     "start_time": "2020-11-07T03:32:17.788146Z"
    }
   },
   "outputs": [
    {
     "data": {
      "image/png": "[encoded data removed]",
      "text/plain": [
       "<Figure size 576x576 with 1 Axes>"
      ]
     },
     "metadata": {},
     "output_type": "display_data"
    }
   ],
   "source": [
    "# SModel_framer = single_frame_viz(11,game_hist=MCAgent_GameDict[0],  \n",
    "#                                  model_obj=None, \n",
    "#                                  obs_3d=False,                         \n",
    "#                                  model_agent=True,\n",
    "#                                  board_shape=(10,10), \n",
    "#                                  value_range=(-1,1),\n",
    "#                                 title='Turn #12',\n",
    "#                                 label_c='Black')\n"
   ]
  },
  {
   "cell_type": "markdown",
   "metadata": {},
   "source": [
    "## Result Summary\n",
    "\n",
    "Following plot shows the result comparison among my agents.\n",
    "\n",
    "* The CNN model based agent performs the best with average steps around 55.\n",
    "* The double models DQN performs slightly worse compared with CNN with an average steps of 58.\n",
    "* The single model DQN didn't beat the hunt & target agent with an average steps of 72"
   ]
  },
  {
   "cell_type": "code",
   "execution_count": 60,
   "metadata": {
    "ExecuteTime": {
     "end_time": "2020-11-07T04:19:02.092017Z",
     "start_time": "2020-11-07T04:19:02.065001Z"
    }
   },
   "outputs": [],
   "source": [
    "MC_GameRecord = pd.read_csv(r'c:\\temp\\MC_Agent_test.csv')\n",
    "RandomAgent_GameRecord = pd.read_csv(r'c:\\temp\\RandomAgentResult.csv')\n",
    "HuntTargetAgent_GameRecord= pd.read_csv(r'c:\\temp\\HuntTargetAgentResult.csv')\n",
    "DQN_SingleModel_GameRecord= pd.read_csv(r'c:\\temp\\DQN_SingleModel.csv')\n",
    "DQN_DoubleModel_GameRecord= pd.read_csv(r'c:\\temp\\DQN_Double.csv')\n",
    "CNN_GameRecord= pd.read_csv(r'c:\\temp\\CNN_gameRecord.csv')"
   ]
  },
  {
   "cell_type": "code",
   "execution_count": 74,
   "metadata": {
    "ExecuteTime": {
     "end_time": "2020-11-07T06:57:08.408871Z",
     "start_time": "2020-11-07T06:57:08.375863Z"
    }
   },
   "outputs": [
    {
     "name": "stdout",
     "output_type": "stream",
     "text": [
      "Unnamed: 0    249.5\n",
      "steps          97.0\n",
      "reward         73.0\n",
      "dtype: float64\n",
      "Unnamed: 0           499\n",
      "AgentName     battleship\n",
      "steps                 70\n",
      "reward               148\n",
      "dtype: object\n",
      "Unnamed: 0    249.500\n",
      "steps          66.228\n",
      "reward        103.772\n",
      "dtype: float64\n",
      "Unnamed: 0    249.500\n",
      "steps          71.276\n",
      "reward         98.724\n",
      "dtype: float64\n",
      "Unnamed: 0    249.50\n",
      "steps          60.19\n",
      "reward        109.81\n",
      "dtype: float64\n",
      "Unnamed: 0    249.500\n",
      "steps          55.344\n",
      "reward        114.656\n",
      "dtype: float64\n"
     ]
    }
   ],
   "source": [
    "print(RandomAgent_GameRecord.median())\n",
    "print(MC_GameRecord.max())\n",
    "print(HuntTargetAgent_GameRecord.mean())\n",
    "print(DQN_SingleModel_GameRecord.mean())\n",
    "print(DQN_DoubleModel_GameRecord.mean())\n",
    "print(CNN_GameRecord.mean())\n",
    "# print(RandomAgent_GameRecord.mean())"
   ]
  },
  {
   "cell_type": "code",
   "execution_count": 70,
   "metadata": {
    "ExecuteTime": {
     "end_time": "2020-11-07T06:22:58.811141Z",
     "start_time": "2020-11-07T06:22:58.154874Z"
    }
   },
   "outputs": [
    {
     "data": {
      "text/plain": [
       "<matplotlib.axes._subplots.AxesSubplot at 0x20edd996828>"
      ]
     },
     "execution_count": 70,
     "metadata": {},
     "output_type": "execute_result"
    },
    {
     "data": {
      "image/png": "[encoded data removed]",
      "text/plain": [
       "<Figure size 576x432 with 1 Axes>"
      ]
     },
     "metadata": {},
     "output_type": "display_data"
    }
   ],
   "source": [
    "# all_record['steps'].hist(cumulative=True,\n",
    "# #                          density=1, \n",
    "#                          bins=1000,figsize=(12,4))\n",
    "# plt.show()\n",
    "import seaborn as sns\n",
    "fig, ax = plt.subplots(figsize=(8,6))\n",
    "kwargs = {'cumulative': True}\n",
    "sns.distplot(RandomAgent_GameRecord['steps'],  kde_kws=kwargs,\n",
    "             ax=ax, kde=True,hist=False, label='RandomAgent')\n",
    "sns.distplot(HuntTargetAgent_GameRecord['steps'],ax=ax, kde_kws=kwargs,\n",
    "             kde=True,hist=False, label='SearchTargetAgent')\n",
    "sns.distplot(DQN_SingleModel_GameRecord['steps'],ax=ax, kde_kws=kwargs,\n",
    "             kde=True,hist=False, label='DQN Single Model Agent')\n",
    "sns.distplot(DQN_DoubleModel_GameRecord['steps'],ax=ax, kde_kws=kwargs,\n",
    "             kde=True,hist=False, label='DQN Two Model Agent')\n",
    "sns.distplot(CNN_GameRecord['steps'],ax=ax, kde_kws=kwargs,\n",
    "             kde=True,hist=False, label='CNN Agent')\n",
    "sns.distplot(MC_GameRecord['steps'],ax=ax, kde_kws=kwargs,\n",
    "             kde=True,hist=False, label='MC Agent')\n",
    "# ax.set_xlim([0, 100])"
   ]
  }
 ],
 "metadata": {
  "kernelspec": {
   "display_name": "Python 3",
   "language": "python",
   "name": "python3"
  },
  "language_info": {
   "codemirror_mode": {
    "name": "ipython",
    "version": 3
   },
   "file_extension": ".py",
   "mimetype": "text/x-python",
   "name": "python",
   "nbconvert_exporter": "python",
   "pygments_lexer": "ipython3",
   "version": "3.6.5"
  },
  "toc": {
   "base_numbering": 1,
   "nav_menu": {},
   "number_sections": true,
   "sideBar": true,
   "skip_h1_title": false,
   "title_cell": "Table of Contents",
   "title_sidebar": "Contents",
   "toc_cell": false,
   "toc_position": {
    "height": "calc(100% - 180px)",
    "left": "10px",
    "top": "150px",
    "width": "230px"
   },
   "toc_section_display": true,
   "toc_window_display": true
  },
  "varInspector": {
   "cols": {
    "lenName": 16,
    "lenType": 16,
    "lenVar": 40
   },
   "kernels_config": {
    "python": {
     "delete_cmd_postfix": "",
     "delete_cmd_prefix": "del ",
     "library": "var_list.py",
     "varRefreshCmd": "print(var_dic_list())"
    },
    "r": {
     "delete_cmd_postfix": ") ",
     "delete_cmd_prefix": "rm(",
     "library": "var_list.r",
     "varRefreshCmd": "cat(var_dic_list()) "
    }
   },
   "position": {
    "height": "338px",
    "left": "1653px",
    "right": "20px",
    "top": "172px",
    "width": "350px"
   },
   "types_to_exclude": [
    "module",
    "function",
    "builtin_function_or_method",
    "instance",
    "_Feature"
   ],
   "window_display": false
  }
 },
 "nbformat": 4,
 "nbformat_minor": 2
}
