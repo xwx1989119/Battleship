{
 "cells": [
  {
   "cell_type": "code",
   "execution_count": 1,
   "metadata": {},
   "outputs": [],
   "source": [
    "%matplotlib inline\n",
    "from IPython.display import HTML"
   ]
  },
  {
   "cell_type": "markdown",
   "metadata": {},
   "source": [
    "\n",
    "# An animated image using a list of images\n",
    "\n",
    "\n",
    "Animate an image from a list of images (or Artists).\n",
    "\n"
   ]
  },
  {
   "cell_type": "code",
   "execution_count": 4,
   "metadata": {},
   "outputs": [
    {
     "data": {
      "image/png": "[encoded data removed]",
      "text/plain": [
       "<Figure size 432x288 with 1 Axes>"
      ]
     },
     "metadata": {},
     "output_type": "display_data"
    }
   ],
   "source": [
    "import numpy as np\n",
    "import matplotlib.pyplot as plt\n",
    "from matplotlib.animation import FuncAnimation\n",
    "\n",
    "x = np.arange(10)\n",
    "y = np.random.random(10)\n",
    "\n",
    "fig = plt.figure()\n",
    "plt.xlim(0, 10)\n",
    "plt.ylim(0, 1)\n",
    "graph, = plt.plot([], [], 'o')\n",
    "\n",
    "def animate(i):\n",
    "    graph.set_data(x[:i+1], y[:i+1])\n",
    "    return graph\n",
    "\n",
    "ani = FuncAnimation(fig, animate, frames=10, interval=200, repeat=True, repeat_delay=500)\n",
    "ani.save('gif_test.gif', dpi=80, writer='imagemagick')           \n",
    "plt.show()"
   ]
  },
  {
   "cell_type": "code",
   "execution_count": 17,
   "metadata": {},
   "outputs": [
    {
     "data": {
      "text/html": [
       "<video width=\"432\" height=\"288\" controls autoplay loop>\n",
       "  <source type=\"video/mp4\" src=\"data:video/mp4;base64,AAAAHGZ0eXBNNFYgAAACAGlzb21pc28yYXZjMQAAAAhmcmVlAAAN0G1kYXQAAAKtBgX//6ncRem9\n",
       "5tlIt5Ys2CDZI+7veDI2NCAtIGNvcmUgMTU4IHIyOTg0IDM3NTlmY2IgLSBILjI2NC9NUEVHLTQg\n",
       "QVZDIGNvZGVjIC0gQ29weWxlZnQgMjAwMy0yMDE5IC0gaHR0cDovL3d3dy52aWRlb2xhbi5vcmcv\n",
       "eDI2NC5odG1sIC0gb3B0aW9uczogY2FiYWM9MSByZWY9MyBkZWJsb2NrPTE6MDowIGFuYWx5c2U9\n",
       "MHgzOjB4MTEzIG1lPWhleCBzdWJtZT03IHBzeT0xIHBzeV9yZD0xLjAwOjAuMDAgbWl4ZWRfcmVm\n",
       "PTEgbWVfcmFuZ2U9MTYgY2hyb21hX21lPTEgdHJlbGxpcz0xIDh4OGRjdD0xIGNxbT0wIGRlYWR6\n",
       "b25lPTIxLDExIGZhc3RfcHNraXA9MSBjaHJvbWFfcXBfb2Zmc2V0PS0yIHRocmVhZHM9OSBsb29r\n",
       "YWhlYWRfdGhyZWFkcz0xIHNsaWNlZF90aHJlYWRzPTAgbnI9MCBkZWNpbWF0ZT0xIGludGVybGFj\n",
       "ZWQ9MCBibHVyYXlfY29tcGF0PTAgY29uc3RyYWluZWRfaW50cmE9MCBiZnJhbWVzPTMgYl9weXJh\n",
       "bWlkPTIgYl9hZGFwdD0xIGJfYmlhcz0wIGRpcmVjdD0xIHdlaWdodGI9MSBvcGVuX2dvcD0wIHdl\n",
       "aWdodHA9MiBrZXlpbnQ9MjUwIGtleWludF9taW49NSBzY2VuZWN1dD00MCBpbnRyYV9yZWZyZXNo\n",
       "PTAgcmNfbG9va2FoZWFkPTQwIHJjPWNyZiBtYnRyZWU9MSBjcmY9MjMuMCBxY29tcD0wLjYwIHFw\n",
       "bWluPTAgcXBtYXg9NjkgcXBzdGVwPTQgaXBfcmF0aW89MS40MCBhcT0xOjEuMDAAgAAABndliIQA\n",
       "E//+97GPgU3IAA2XOop6H+EVsfSQUXqx2aBk6gAAAwAAiYH638JRwsQBxUTcVimUM4wCFUeKZ2wJ\n",
       "Bjetq8Txa7tdJvrx92aqSm9H0TUhYsAAZ0sSXObQX5yzVq/ybE6lW/5JMZTIe97OEF6gNo9jWuD2\n",
       "X9ODg8twEuAn55ta1vj0AsD1BYUsYdJE6eb4famgCAK1Rln8PX9xxbFSXm7cU+Hak1jkNMWe0sH3\n",
       "pdSwt3d+yLLSeScSbvPovXDbVk4jFO50w+oN/KaXrde2/MiWKGaQuxN++a2kpdt32pNwINAR87jU\n",
       "mfgbXp1OiTpX/6V+AAEmIeyZyx+0JDmgC9ml+pvItbgeP9pb//6PsvkjWDd6XX6PrQWo11MV+p/8\n",
       "HTyhvq2XGCXt0bq65/wom2P9moHUQ/zO5JMZuj7x1T2YG1XczxWdcFIEoqEXkJ4ab53EdKKexV29\n",
       "c6cqBYjM96GdBNgrAEYEagDOlFGMMjaf+tT+JvgNPGCGSfdoZ43nzjngJjNKMr6vT9t1lCL+Qew7\n",
       "UiKUZo5RXDdBzM/J3Aj2nsxBWrmDvyqSW5NVCFOsmQhhj+oEzWt+xrdtf/98OSNJnRWAW3hqXjtq\n",
       "2yUN+dxdEjWwmmkEaot0bG1P3BH7k5DpqC63cRX/VoWluU/AYbvIK1vSEBYELahIJITlL4v5ZK9d\n",
       "zkRRGxQKAKgkoTB297joCIGnJ68tNoWQNT0mLJAGHOBv0EEUsp9OZIgaThlN++1zwwx+2zwXB++G\n",
       "+gbKCKPciZEk4fmE0U/dC1FrrWRXWbOV6/Gm/pDe90nsdGW208cnoYTDjjO6o0FPzXNYbmWt9GoY\n",
       "dBplxP4DIWoBsrAM3Q2Wp1n/ysgnbE8zvMFqQ5JFMCfP5Vdfq0tgp3Y/OOhsCD9qaPk3iEvFNNnZ\n",
       "met28+FVKnKjU8FpaV4M3x53vJV1BegCHWFunox05h1kQOkky55rcx0lWedebmK605WGnE2gLMML\n",
       "Bt6LUvHF+7j7ycpx64qoaqOTn90jzewDCUabAmVBv4uyTogXARtnjKlGIgZfj6xJZqHb/mEEoSvr\n",
       "vc6rOikY4MoJ1YA6o/kncKFTp4hlmow3YdRq6ufxfC0CrG8EyLzimFpVJFK1uEKUaUAP9dlq+Hr6\n",
       "1azSlQf27i1K7d1Y6jkwEdkmC6HEXx9Vhl4DtrZJqoruR63ccKZ1WDAeYCLW4Dt+AMXVe/wtSXKj\n",
       "b3T8O6vrcmHqDWAM1MP3T58NT6xvio0Cqp5Jr6/cTxCPV+TxIHvNdVNpmrJVz2d1lL/mnohAohGL\n",
       "lyM//+X2hkAjYGeujb8WKa+qSU8g3ECtDzNUGLlDnKdjRw2vLCPlqOlQvp8AHCE6G+iU+dkBHowP\n",
       "dsug51CidoyKcr1cJojynyN3mH0gn5OFe+oHclmZIfyYgch4r57y64xvGyPzGe02C8VdxWSHCi5c\n",
       "JkRU1141pYUFHjX5U+1UIiFk8yV1HDXEAXZ6NUIxmoXYjmQXmk97CZW6ypj5Bmmz/+euv/BXi9M+\n",
       "9g7rDxUEJ2s0m7vZVXAq+ALkLgTZH2ZAhQs+EhPYOPVjB270e9hWQS7rMMtdrDydbrFtu22PF2Ve\n",
       "dKOdX6Vm8CN3ezgtLBIHfXwMdaS958knE70/hYjDE++9VztLJajEm8iYzIg56NEzqVKqU0UVm/rI\n",
       "pAECrGFrjru0YUOa2pnZsfnxwe5ZCCypNNKVvx2J9LMOztdx9qgOXTvFdIZji+exylDQ5nTk0Bms\n",
       "h9yrjSwIqoE7cPzUH7knhWcNgUZN3Ult+TuWTvONo+11Dh32nZfRvvn/87fjUHKSDFzbVQstLpkY\n",
       "f8xd6oHPwqCMIpClXGvDrMAcgNByzIKMazRHKKI1xiRnSaxV7GqhhO5GnGci4EX15C9ZVAsVz4UE\n",
       "HBln9otT6wHKXdl5oiSvdPsYGIzQZ6UL5uCkqM+1mheaT5ERvBrmYF8/k3GOiL2TNdmG6XTC2LX1\n",
       "+EA5HJ9oPp0KijEvxqq94J+YAMNZyC6IWtsglDUKDzgb70mTWN7FTzK2i8iLFpU1tWwMMTfg0raL\n",
       "HVedIZtmAXZEMkA6xC8O2k+JQ4gjAboNEdItY1PJ8oGej9K98u4Pe8tc5VqC2S/NAY2LFBrpyHR0\n",
       "kfUVJzXdJqVm50nZEX4flKEnU3CFb73J+Vw7sATuD5Jdz2Yv/ogILEoPwkWe0onvqfnqfeTIgQAA\n",
       "AclBmiRsQS/+tSqAJIfAKADjo+yCVk3EMamch9psSAlJBk8KkpDANaHmOYHjug/d+WTIDmcgx1rb\n",
       "gh7p1qYVy4bE/CkGoEjNgZrhhW4evjsXaxa641srrbw3AG/D8+z7hbjKZChiFYmOR0XcAoberUtI\n",
       "3FvQJtFwUyF8Jt0d21YV2sXQnC/05LZgv/AJ/6tZwh8cv6S9v/UgKvIIhWxjyQCfusPpVCPlXppu\n",
       "DTqnzoHTC4w5QetSaH3Mzd1tj9h1RlZSpSAN3xylSdEuLCQ74urd0GIp6kI7oEtEqfAEHwWbmLY4\n",
       "vmYn7DCQP4zAtMSoaadONJWigNrEbJnpx1aG1c9uF9+bvppZ1bmN4c8hZSgUdRVBFpKe+S57DZ6/\n",
       "2sv6StzYCMJ/Oih3hguGvYluohXTj1kRkmESCr07JX42zHbxScoSXsw59oih20T8khZYoPhRFLBI\n",
       "Rosuzosl0Iz4D0OaDVF3MBnk3TbJ5d4RcfDuR5sFkEJqm2TsxlTs249Ld7Ow6pzvYrH/0PtPprEz\n",
       "IWcSUoa4kefOeh8FS9LuGNrfXWpKNJe6PCcrnnpkUOEfa0eG8drO1yI1/nnnY+s2cO1IJjMjBH4N\n",
       "MvvAAAAAKUGeQniCHwAkiHuaDGlA/XpEFkV0luw4Wot4s9DpAPKfsvYX+keAdIm9AAAAHQGeYXRD\n",
       "/wABHYzQrskToLZesKB94N2zF7MjRZCQAAAAGwGeY2pD/wAfvsgkKar/P5TwD4JdDaf/5/1YSQAA\n",
       "AYpBmmhJqEFomUwIIf/+qlUAFU4b/E8gDQAcb58DUK/fiUWQ+ldaNTLup596DghRRJGjjQifN5wB\n",
       "jgsLhu8ILOpJclABXyg38x7PZDbv5TsYB+PPE1uUTuPMbM8yYQ2c0g+RXhZYGd4NlzZ4vnsnbDga\n",
       "lF3eKOnvBtkghQPL8VLS/TLKSMQoC0P1Tzk2KZKfhI2aQLOztnYne/MPDf1osgxF27ozbGjxMhTl\n",
       "oHa/yTTjPvMrz4DwmViHqERf/dx9iDrDy8bCAHD0LFMI5gnhOg7LJLAIFjPkl85LkI59Z7WkPmjd\n",
       "uldEwduTvvfbf+kJGtrOYmGOqAw4iCkIEBJmjsR4h7aXcGJ9zfKXVfJDnpyQ0cFZ4V98sFDy6FEt\n",
       "9jYwjTIjrM8kgojfuLHR2WP5op902qnC5a/oppDsf+f8OULArfNRp99Feb0pJeraFdyT8Zm4h4L4\n",
       "Xlf1wrnRMnEJuZ2AeshNiNfpmzN3mMGwbMLZeVQv/mpyGCl+iYuvOEWmd7go9BAYbur24g+xAAAA\n",
       "LUGehkURLBD/AA4mqcxxgrICx3P0qmEwcFGrQjI+Q2fxJvFvmNR7mOHF/rWLGQAAAB4BnqV0Q/8A\n",
       "HP/M1jinNa4gzB4UdR/yEmlw1SMChhMAAAAaAZ6nakP/AAQ2DaIqmcvCNeBQpUbQzzcUiJYAAABf\n",
       "QZqpSahBbJlMCH///qmWAAIjyFj9i9/8igATRWY72V2jB4YhbYtfAn5DSOUhIPWnXkgIb521j9+r\n",
       "tdA6wQ01oGGTiS30+Iw/a26OeG21mNNgXZkHT73r/g713+6mwG4AAAOmbW9vdgAAAGxtdmhkAAAA\n",
       "AAAAAAAAAAAAAAAD6AAAB9AAAQAAAQAAAAAAAAAAAAAAAAEAAAAAAAAAAAAAAAAAAAABAAAAAAAA\n",
       "AAAAAAAAAABAAAAAAAAAAAAAAAAAAAAAAAAAAAAAAAAAAAAAAAAAAgAAAtB0cmFrAAAAXHRraGQA\n",
       "AAADAAAAAAAAAAAAAAABAAAAAAAAB9AAAAAAAAAAAAAAAAAAAAAAAAEAAAAAAAAAAAAAAAAAAAAB\n",
       "AAAAAAAAAAAAAAAAAABAAAAAAbAAAAEgAAAAAAAkZWR0cwAAABxlbHN0AAAAAAAAAAEAAAfQAAAQ\n",
       "AAABAAAAAAJIbWRpYQAAACBtZGhkAAAAAAAAAAAAAAAAAAAoAAAAUABVxAAAAAAALWhkbHIAAAAA\n",
       "AAAAAHZpZGUAAAAAAAAAAAAAAABWaWRlb0hhbmRsZXIAAAAB821pbmYAAAAUdm1oZAAAAAEAAAAA\n",
       "AAAAAAAAACRkaW5mAAAAHGRyZWYAAAAAAAAAAQAAAAx1cmwgAAAAAQAAAbNzdGJsAAAAs3N0c2QA\n",
       "AAAAAAAAAQAAAKNhdmMxAAAAAAAAAAEAAAAAAAAAAAAAAAAAAAAAAbABIABIAAAASAAAAAAAAAAB\n",
       "AAAAAAAAAAAAAAAAAAAAAAAAAAAAAAAAAAAAAAAAAAAAGP//AAAAMWF2Y0MBZAAV/+EAGGdkABWs\n",
       "2UGwloQAAAMABAAAAwAoPFi2WAEABmjr48siwAAAABx1dWlka2hA8l8kT8W6OaUbzwMj8wAAAAAA\n",
       "AAAYc3R0cwAAAAAAAAABAAAACgAACAAAAAAUc3RzcwAAAAAAAAABAAAAAQAAAGBjdHRzAAAAAAAA\n",
       "AAoAAAABAAAQAAAAAAEAACgAAAAAAQAAEAAAAAABAAAAAAAAAAEAAAgAAAAAAQAAKAAAAAABAAAQ\n",
       "AAAAAAEAAAAAAAAAAQAACAAAAAABAAAQAAAAABxzdHNjAAAAAAAAAAEAAAABAAAACgAAAAEAAAA8\n",
       "c3RzegAAAAAAAAAAAAAACgAACSwAAAHNAAAALQAAACEAAAAfAAABjgAAADEAAAAiAAAAHgAAAGMA\n",
       "AAAUc3RjbwAAAAAAAAABAAAALAAAAGJ1ZHRhAAAAWm1ldGEAAAAAAAAAIWhkbHIAAAAAAAAAAG1k\n",
       "aXJhcHBsAAAAAAAAAAAAAAAALWlsc3QAAAAlqXRvbwAAAB1kYXRhAAAAAQAAAABMYXZmNTguMjku\n",
       "MTAw\n",
       "\">\n",
       "  Your browser does not support the video tag.\n",
       "</video>"
      ],
      "text/plain": [
       "<IPython.core.display.HTML object>"
      ]
     },
     "execution_count": 17,
     "metadata": {},
     "output_type": "execute_result"
    }
   ],
   "source": [
    "HTML(ani.to_html5_video())"
   ]
  },
  {
   "cell_type": "code",
   "execution_count": 13,
   "metadata": {},
   "outputs": [
    {
     "name": "stdout",
     "output_type": "stream",
     "text": [
      "0\n"
     ]
    },
    {
     "data": {
      "image/png": "[encoded data removed]",
      "text/plain": [
       "<Figure size 432x288 with 1 Axes>"
      ]
     },
     "metadata": {},
     "output_type": "display_data"
    }
   ],
   "source": [
    "import numpy as np\n",
    "import matplotlib.pyplot as plt\n",
    "import matplotlib.animation as animation\n",
    "\n",
    "fig = plt.figure()\n",
    "\n",
    "\n",
    "def f(x, y):\n",
    "    return np.sin(x) + np.cos(y)\n",
    "\n",
    "x = np.linspace(0, 2 * np.pi, 120)\n",
    "y = np.linspace(0, 2 * np.pi, 100).reshape(-1, 1)\n",
    "# ims is a list of lists, each row is a list of artists to draw in the\n",
    "# current frame; here we are just animating one artist, the image, in\n",
    "# each frame\n",
    "ims = []\n",
    "for i in range(60):\n",
    "#     print(i)\n",
    "    x += np.pi / 15.\n",
    "    y += np.pi / 20.\n",
    "    im = plt.imshow(f(x, y), animated=True)\n",
    "    ims.append([im])\n",
    "\n",
    "ani = animation.ArtistAnimation(fig, ims, interval=50, blit=True, repeat=True,\n",
    "                                repeat_delay=1000)\n",
    "\n",
    "plt.show()"
   ]
  }
 ],
 "metadata": {
  "kernelspec": {
   "display_name": "Python 3",
   "language": "python",
   "name": "python3"
  },
  "language_info": {
   "codemirror_mode": {
    "name": "ipython",
    "version": 3
   },
   "file_extension": ".py",
   "mimetype": "text/x-python",
   "name": "python",
   "nbconvert_exporter": "python",
   "pygments_lexer": "ipython3",
   "version": "3.6.5"
  },
  "toc": {
   "base_numbering": 1,
   "nav_menu": {},
   "number_sections": true,
   "sideBar": true,
   "skip_h1_title": false,
   "title_cell": "Table of Contents",
   "title_sidebar": "Contents",
   "toc_cell": false,
   "toc_position": {},
   "toc_section_display": true,
   "toc_window_display": false
  },
  "varInspector": {
   "cols": {
    "lenName": 16,
    "lenType": 16,
    "lenVar": 40
   },
   "kernels_config": {
    "python": {
     "delete_cmd_postfix": "",
     "delete_cmd_prefix": "del ",
     "library": "var_list.py",
     "varRefreshCmd": "print(var_dic_list())"
    },
    "r": {
     "delete_cmd_postfix": ") ",
     "delete_cmd_prefix": "rm(",
     "library": "var_list.r",
     "varRefreshCmd": "cat(var_dic_list()) "
    }
   },
   "types_to_exclude": [
    "module",
    "function",
    "builtin_function_or_method",
    "instance",
    "_Feature"
   ],
   "window_display": false
  }
 },
 "nbformat": 4,
 "nbformat_minor": 1
}
